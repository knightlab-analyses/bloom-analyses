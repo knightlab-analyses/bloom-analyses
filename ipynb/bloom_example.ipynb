{
 "cells": [
  {
   "cell_type": "markdown",
   "metadata": {
    "collapsed": true
   },
   "source": [
    "# Bloom Filtering\n",
    "\n",
    "Here we will describe how to run the bloom filter.  First we'll start off by importing the necessary packages, including a few custom methods in `bloom` to perform the actual filter."
   ]
  },
  {
   "cell_type": "code",
   "execution_count": 1,
   "metadata": {
    "collapsed": false
   },
   "outputs": [],
   "source": [
    "import os\n",
    "import skbio\n",
    "from biom import Table, load_table\n",
    "from biom.util import biom_open\n",
    "from bloom import remove_seqs, trim_seqs"
   ]
  },
  {
   "cell_type": "markdown",
   "metadata": {},
   "source": [
    "Now we will define all of the input and output file paths.  All of the raw data and can be found in `data_dir`.\n",
    "The resulting filtered data will be saved to `results_dir`.  The `seqs_file` points to the bloomed sequences that we wish to remove, and the `biom_file` points to the biom table built by deblur.  "
   ]
  },
  {
   "cell_type": "code",
   "execution_count": 2,
   "metadata": {
    "collapsed": false
   },
   "outputs": [],
   "source": [
    "data_dir = '../data/'\n",
    "results_dir = '../results'\n",
    "seqs_file = '30_seqs.fna'\n",
    "biom_file = 'ercolini.feces.clean.withtax.biom'\n",
    "filtered_file = 'filtered.fna'\n",
    "\n",
    "seqs_file = os.path.join(data_dir, seqs_file)\n",
    "biom_file = os.path.join(data_dir, biom_file)\n",
    "filtered_file = os.path.join(results_dir, filtered_file)"
   ]
  },
  {
   "cell_type": "markdown",
   "metadata": {},
   "source": [
    "And we'll unzip the zip file to extract the sequences."
   ]
  },
  {
   "cell_type": "code",
   "execution_count": 3,
   "metadata": {
    "collapsed": false
   },
   "outputs": [],
   "source": [
    "!gunzip ../data/30_seqs.fna.gz"
   ]
  },
  {
   "cell_type": "markdown",
   "metadata": {},
   "source": [
    "Now we will read in all of the scikit-bio sequences, in addition to the deblurred biom table.\n",
    "Remember that all of the feature ids in the deblurred table are the actual 16S V4 sequences.\n",
    "So we will be filtering out the rows in this table according to the sequence found in the \n",
    "`30_seqs.fna.gz` file."
   ]
  },
  {
   "cell_type": "code",
   "execution_count": 4,
   "metadata": {
    "collapsed": false
   },
   "outputs": [],
   "source": [
    "seqs = skbio.read(seqs_file, format='fasta')\n",
    "table = load_table(biom_file)"
   ]
  },
  {
   "cell_type": "markdown",
   "metadata": {},
   "source": [
    "When removing sequences, we need to make sure that all of the sequences are of the same length.\n",
    "So we'll just trim to the shortest sequence found in the biom table."
   ]
  },
  {
   "cell_type": "code",
   "execution_count": 5,
   "metadata": {
    "collapsed": false
   },
   "outputs": [],
   "source": [
    "length = min(map(len, table.ids(axis='observation')))\n",
    "seqs = trim_seqs(seqs, length=length)"
   ]
  },
  {
   "cell_type": "markdown",
   "metadata": {},
   "source": [
    "Now we'll actually remove these bloom sequences as follows."
   ]
  },
  {
   "cell_type": "code",
   "execution_count": 6,
   "metadata": {
    "collapsed": true
   },
   "outputs": [],
   "source": [
    "outtable = remove_seqs(table, seqs)"
   ]
  },
  {
   "cell_type": "code",
   "execution_count": 7,
   "metadata": {
    "collapsed": false
   },
   "outputs": [],
   "source": [
    "with biom_open(filtered_file, 'w') as f:\n",
    "    outtable.to_hdf5(f, \"filterbiomseqs\")"
   ]
  },
  {
   "cell_type": "markdown",
   "metadata": {
    "collapsed": true
   },
   "source": [
    "This can be also run as the command `filter_seqs_from_biom.py`, which is also available upon install.  In conclusion, the bloom filtering is relatively straightforward to run."
   ]
  }
 ],
 "metadata": {
  "anaconda-cloud": {},
  "kernelspec": {
   "display_name": "Python [default]",
   "language": "python",
   "name": "python3"
  },
  "language_info": {
   "codemirror_mode": {
    "name": "ipython",
    "version": 3
   },
   "file_extension": ".py",
   "mimetype": "text/x-python",
   "name": "python",
   "nbconvert_exporter": "python",
   "pygments_lexer": "ipython3",
   "version": "3.5.2"
  }
 },
 "nbformat": 4,
 "nbformat_minor": 0
}
