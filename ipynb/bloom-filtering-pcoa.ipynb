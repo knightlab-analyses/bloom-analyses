{
 "cells": [
  {
   "cell_type": "markdown",
   "metadata": {},
   "source": [
    "# Plot the bray curtis PCoA before and after removing the 15 blooming bacteria\n",
    "## for figure 2A,B\n",
    "First load the AG, PGP, UK-Twins and Whole grain feces studies\n",
    "\n",
    "Then randomly sample 200 samples (or less if don't have >200 samples) in order to have approx. same amount from each study\n",
    "\n",
    "Join to a single experiment (while remembering from which experiment each sample came)\n",
    "\n",
    "Save this experiment before, and after removing the 15 candidate blooming bacteria\n",
    "\n",
    "Create a mapping file also containing the total bloom bacteria associated reads per sample\n",
    "\n",
    "Then rarify and calculate the PCoA. Should be done externally using the qiime commands:\n",
    "\n",
    "```\n",
    "# rarify to 5k reads/sample\n",
    "single_rarefaction.py -i combined.new.small.biom -o combined.new.small.sub5k.biom -d 5000\n",
    "single_rarefaction.py -i combined.new.small.nobloom.biom -o combined.new.small.nobloom.sub5k.biom -d 5000\n",
    "# calculate bray-curtis distance\n",
    "beta_diversity.py -i combined.new.small.nobloom.sub5k.biom -o distmat -m bray_curtis\n",
    "beta_diversity.py -i combined.new.small.sub5k.biom -o distmat -m bray_curtis\n",
    "# and do the PCoA\n",
    "principal_coordinates.py -i distmat/bray_curtis_combined.new.small.sub5k.txt -o pcoa.bloom.bc.txt\n",
    "principal_coordinates.py -i distmat/bray_curtis_combined.new.small.nobloom.sub5k.txt -o pcoa.nobloom.bc.txt\n",
    "```\n",
    "\n",
    "Finally, Load the resulting PCoA into the notebook and plot in Emperor"
   ]
  },
  {
   "cell_type": "markdown",
   "metadata": {},
   "source": [
    "# Setup"
   ]
  },
  {
   "cell_type": "code",
   "execution_count": 1,
   "metadata": {
    "collapsed": false
   },
   "outputs": [
    {
     "name": "stderr",
     "output_type": "stream",
     "text": [
      "/Users/amnon/anaconda/envs/qt5test/lib/python3.5/site-packages/matplotlib/__init__.py:1357: UserWarning:  This call to matplotlib.use() has no effect\n",
      "because the backend has already been chosen;\n",
      "matplotlib.use() must be called *before* pylab, matplotlib.pyplot,\n",
      "or matplotlib.backends is imported for the first time.\n",
      "\n",
      "  warnings.warn(_use_error_msg)\n",
      "/Users/amnon/anaconda/envs/qt5test/lib/python3.5/site-packages/matplotlib/__init__.py:1357: UserWarning:  This call to matplotlib.use() has no effect\n",
      "because the backend has already been chosen;\n",
      "matplotlib.use() must be called *before* pylab, matplotlib.pyplot,\n",
      "or matplotlib.backends is imported for the first time.\n",
      "\n",
      "  warnings.warn(_use_error_msg)\n",
      "/Users/amnon/anaconda/envs/qt5test/lib/python3.5/site-packages/sklearn/cross_validation.py:44: DeprecationWarning: This module was deprecated in version 0.18 in favor of the model_selection module into which all the refactored classes and functions are moved. Also note that the interface of the new CV iterators are different from that of this module. This module will be removed in 0.20.\n",
      "  \"This module will be removed in 0.20.\", DeprecationWarning)\n"
     ]
    },
    {
     "name": "stdout",
     "output_type": "stream",
     "text": [
      "('loading cooldb',)\n",
      "('cooldb loaded',)\n",
      "('loading bactdb',)\n",
      "('bactdb loaded',)\n",
      "('loading supercooldb',)\n",
      "('supercooldb loaded',)\n"
     ]
    }
   ],
   "source": [
    "# plots inside the notebook\n",
    "%matplotlib notebook\n",
    "\n",
    "# load modules used in the analysis\n",
    "import numpy as np\n",
    "import matplotlib as mpl\n",
    "import matplotlib.pyplot as plt\n",
    "import seaborn as sn\n",
    "# heatsequer module is available from:\n",
    "# https://github.com/amnona/heatsequer\n",
    "import heatsequer as hs"
   ]
  },
  {
   "cell_type": "code",
   "execution_count": 2,
   "metadata": {
    "collapsed": false
   },
   "outputs": [
    {
     "data": {
      "text/html": [
       "<style>.container { width:100% !important; }</style>"
      ],
      "text/plain": [
       "<IPython.core.display.HTML object>"
      ]
     },
     "metadata": {},
     "output_type": "display_data"
    }
   ],
   "source": [
    "# set display to full width\n",
    "from IPython.core.display import display, HTML\n",
    "display(HTML(\"<style>.container { width:100% !important; }</style>\"))"
   ]
  },
  {
   "cell_type": "markdown",
   "metadata": {},
   "source": [
    "# Loading all experimental data"
   ]
  },
  {
   "cell_type": "markdown",
   "metadata": {},
   "source": [
    "## american gut"
   ]
  },
  {
   "cell_type": "code",
   "execution_count": 3,
   "metadata": {
    "collapsed": false
   },
   "outputs": [
    {
     "name": "stdout",
     "output_type": "stream",
     "text": [
      "('Loading biom table data/ag-6-2016.clean.min100.withtax.biom',)\n",
      "5ffd56560ea3217b52a6076d5dd5d2f6\n",
      "('Loading mapping file data/map.ag-6-2016.txt',)\n",
      "('number of samples in map is 9919',)\n",
      "('number of samples in table is 9919',)\n",
      "('removing 0 samples',)\n",
      "('deleted. number of samples in table is now 9919',)\n",
      "('number of samples in mapping file is now 9919',)\n",
      "('Samples with 0 reads: 1214',)\n"
     ]
    }
   ],
   "source": [
    "ag=hs.load('../data/ag-6-2016.clean.min100.withtax.biom','../data/map.ag-6-2016.txt')"
   ]
  },
  {
   "cell_type": "code",
   "execution_count": 4,
   "metadata": {
    "collapsed": false
   },
   "outputs": [
    {
     "name": "stdout",
     "output_type": "stream",
     "text": [
      "('7286 Samples left',)\n"
     ]
    }
   ],
   "source": [
    "# get only fecal\n",
    "agf=hs.filtersamples(ag,'ENV_MATTER','ENVO:feces')"
   ]
  },
  {
   "cell_type": "code",
   "execution_count": 5,
   "metadata": {
    "collapsed": false
   },
   "outputs": [
    {
     "name": "stdout",
     "output_type": "stream",
     "text": [
      "('1 conversions failed',)\n"
     ]
    }
   ],
   "source": [
    "# convert date to number\n",
    "agf=hs.convertdatefield(agf,'COLLECTION_DATE','date-numeric','%m/%d/%Y')"
   ]
  },
  {
   "cell_type": "code",
   "execution_count": 6,
   "metadata": {
    "collapsed": true
   },
   "outputs": [],
   "source": [
    "# and sort by collection date\n",
    "agf=hs.sortsamples(agf,'date-numeric',numeric=True)"
   ]
  },
  {
   "cell_type": "code",
   "execution_count": 7,
   "metadata": {
    "collapsed": false
   },
   "outputs": [
    {
     "name": "stdout",
     "output_type": "stream",
     "text": [
      "('7073 Samples left',)\n"
     ]
    }
   ],
   "source": [
    "# keep only samples with >1000 reads\n",
    "agf=hs.filterorigreads(agf,1000)"
   ]
  },
  {
   "cell_type": "markdown",
   "metadata": {},
   "source": [
    "## UK twins study"
   ]
  },
  {
   "cell_type": "code",
   "execution_count": 8,
   "metadata": {
    "collapsed": false
   },
   "outputs": [
    {
     "name": "stdout",
     "output_type": "stream",
     "text": [
      "('Loading biom table data/twins2.clean.min10.withtax.biom',)\n",
      "d16fcd8fbbae6b25cbd464ab73950ba1\n",
      "('Loading mapping file data/map.twins2.txt',)\n",
      "('number of samples in map is 1081',)\n",
      "('number of samples in table is 1046',)\n",
      "('removing 0 samples',)\n",
      "('deleted. number of samples in table is now 1046',)\n",
      "('removing 35 samples from mapping file',)\n",
      "('number of samples in mapping file is now 1046',)\n",
      "('Samples with 0 reads: 29',)\n"
     ]
    }
   ],
   "source": [
    "twins=hs.load('../data/twins2.clean.min10.withtax.biom','../data/map.twins2.txt')"
   ]
  },
  {
   "cell_type": "code",
   "execution_count": 9,
   "metadata": {
    "collapsed": false
   },
   "outputs": [
    {
     "name": "stdout",
     "output_type": "stream",
     "text": [
      "('2564 Bacteria left',)\n"
     ]
    }
   ],
   "source": [
    "# keep only high freq. enough bacteria\n",
    "twinsf=hs.clusterbacteria(twins,50)"
   ]
  },
  {
   "cell_type": "code",
   "execution_count": 10,
   "metadata": {
    "collapsed": false
   },
   "outputs": [
    {
     "name": "stdout",
     "output_type": "stream",
     "text": [
      "('1017 Samples left',)\n"
     ]
    }
   ],
   "source": [
    "# keep only samples with >1000 reads\n",
    "twins=hs.filterorigreads(twins,1000)"
   ]
  },
  {
   "cell_type": "markdown",
   "metadata": {},
   "source": [
    "## PGP"
   ]
  },
  {
   "cell_type": "code",
   "execution_count": 11,
   "metadata": {
    "collapsed": false
   },
   "outputs": [
    {
     "name": "stdout",
     "output_type": "stream",
     "text": [
      "('Loading biom table data/pgp.baylor.clean.withtax.biom',)\n",
      "7ca155612b152a9b7b20540489072e8e\n",
      "('Loading mapping file data/map.pgp.txt',)\n",
      "('number of samples in map is 429',)\n",
      "('number of samples in table is 437',)\n",
      "('Table sample Fermanagh.Mouth not found in mapping file',)\n",
      "('Table sample Elmira.Stool not found in mapping file',)\n",
      "('Table sample Erlandson.Stool not found in mapping file',)\n",
      "('Table sample Innkeeper.Forehead not found in mapping file',)\n",
      "('Table sample Tewmac.Mouth not found in mapping file',)\n",
      "('Table sample Pinrock.Rightpalm not found in mapping file',)\n",
      "('Table sample Lippokd.Forehead not found in mapping file',)\n",
      "('Table sample Delmore.Leftpalm not found in mapping file',)\n",
      "('Table sample Goddu.Forehead not found in mapping file',)\n",
      "('Table sample Menekish.Stool not found in mapping file',)\n",
      "('removing 10 samples',)\n",
      "('deleted. number of samples in table is now 427',)\n",
      "('removing 2 samples from mapping file',)\n",
      "('number of samples in mapping file is now 427',)\n",
      "('Samples with 0 reads: 2',)\n"
     ]
    }
   ],
   "source": [
    "pgp=hs.load('../data/pgp.baylor.clean.withtax.biom','../data/map.pgp.txt')"
   ]
  },
  {
   "cell_type": "code",
   "execution_count": 12,
   "metadata": {
    "collapsed": false
   },
   "outputs": [
    {
     "name": "stdout",
     "output_type": "stream",
     "text": [
      "('80 Samples left',)\n"
     ]
    }
   ],
   "source": [
    "# only fecal samples\n",
    "pgpf=hs.filtersamples(pgp,'#SampleID','Stool',exact=False)"
   ]
  },
  {
   "cell_type": "code",
   "execution_count": 13,
   "metadata": {
    "collapsed": false
   },
   "outputs": [
    {
     "name": "stdout",
     "output_type": "stream",
     "text": [
      "('79 Samples left',)\n"
     ]
    }
   ],
   "source": [
    "# keep only samples with >1000 reads\n",
    "pgpf=hs.filterorigreads(pgpf,1000)"
   ]
  },
  {
   "cell_type": "markdown",
   "metadata": {},
   "source": [
    "## Ercolini whole grain feces"
   ]
  },
  {
   "cell_type": "code",
   "execution_count": 14,
   "metadata": {
    "collapsed": false
   },
   "outputs": [
    {
     "name": "stdout",
     "output_type": "stream",
     "text": [
      "('Loading biom table data/ercolini.feces.clean.withtax.biom',)\n",
      "2ad21c8bdf0b14e5c60dc29494838d15\n",
      "('Loading mapping file data/map.ercolini.txt',)\n",
      "('number of samples in map is 96',)\n",
      "('number of samples in table is 93',)\n",
      "('removing 0 samples',)\n",
      "('deleted. number of samples in table is now 93',)\n",
      "('removing 3 samples from mapping file',)\n",
      "('number of samples in mapping file is now 93',)\n",
      "('Samples with 0 reads: 4',)\n"
     ]
    }
   ],
   "source": [
    "erc=hs.load('../data/ercolini.feces.clean.withtax.biom','../data/map.ercolini.txt')"
   ]
  },
  {
   "cell_type": "code",
   "execution_count": 15,
   "metadata": {
    "collapsed": false
   },
   "outputs": [
    {
     "name": "stdout",
     "output_type": "stream",
     "text": [
      "('89 Samples left',)\n"
     ]
    }
   ],
   "source": [
    "# only fecal samples\n",
    "ercf=hs.filtersamples(erc,'env_matter','ENVO:feces')"
   ]
  },
  {
   "cell_type": "code",
   "execution_count": 16,
   "metadata": {
    "collapsed": false
   },
   "outputs": [
    {
     "name": "stdout",
     "output_type": "stream",
     "text": [
      "('88 Samples left',)\n"
     ]
    }
   ],
   "source": [
    "# keep only samples with >1000 reads\n",
    "ercf=hs.filterorigreads(ercf,1000)"
   ]
  },
  {
   "cell_type": "markdown",
   "metadata": {},
   "source": [
    "# Analysis\n",
    "## look at how filtering improves pcoa similarity"
   ]
  },
  {
   "cell_type": "markdown",
   "metadata": {
    "collapsed": true
   },
   "source": [
    "## Create small even mixture biom table from all experiments"
   ]
  },
  {
   "cell_type": "code",
   "execution_count": 17,
   "metadata": {
    "collapsed": true
   },
   "outputs": [],
   "source": [
    "np.random.seed(2016)\n",
    "samplesperexp=200"
   ]
  },
  {
   "cell_type": "code",
   "execution_count": 25,
   "metadata": {
    "collapsed": true
   },
   "outputs": [],
   "source": [
    "# load the blooming bacteria list\n",
    "bloomseqs,bloomnames=hs.readfastaseqs('../data/newbloom.all.fa')"
   ]
  },
  {
   "cell_type": "code",
   "execution_count": 19,
   "metadata": {
    "collapsed": true
   },
   "outputs": [],
   "source": [
    "# randomly select 200 AG samples\n",
    "small=hs.randomsplit(agf,samplesperexp)[0]"
   ]
  },
  {
   "cell_type": "code",
   "execution_count": 20,
   "metadata": {
    "collapsed": false
   },
   "outputs": [
    {
     "name": "stdout",
     "output_type": "stream",
     "text": [
      "('Less samples (79) than requested (200)',)\n"
     ]
    }
   ],
   "source": [
    "# add PGP samples (only 79 since this is all PGP contains)\n",
    "tt=hs.randomsplit(pgpf,samplesperexp)[0]\n",
    "small=hs.joinexperiments(small,tt)"
   ]
  },
  {
   "cell_type": "code",
   "execution_count": 21,
   "metadata": {
    "collapsed": false
   },
   "outputs": [
    {
     "name": "stdout",
     "output_type": "stream",
     "text": [
      "('Less samples (88) than requested (200)',)\n"
     ]
    }
   ],
   "source": [
    "# add Whole grain feces samples (only 88 since this is all Whole grain feces contains)\n",
    "tt=hs.randomsplit(ercf,samplesperexp)[0]\n",
    "small=hs.joinexperiments(small,tt)"
   ]
  },
  {
   "cell_type": "code",
   "execution_count": 22,
   "metadata": {
    "collapsed": true
   },
   "outputs": [],
   "source": [
    "# add randomly selected 200 UK-Twins samples\n",
    "tt=hs.randomsplit(twinsf,samplesperexp)[0]\n",
    "small=hs.joinexperiments(small,tt)"
   ]
  },
  {
   "cell_type": "code",
   "execution_count": 23,
   "metadata": {
    "collapsed": false
   },
   "outputs": [
    {
     "name": "stdout",
     "output_type": "stream",
     "text": [
      "('3783 Bacteria left',)\n"
     ]
    }
   ],
   "source": [
    "# remove low freq. sOTUs (less than 10 reads total)\n",
    "small=hs.filterminreads(small,10)"
   ]
  },
  {
   "cell_type": "code",
   "execution_count": 24,
   "metadata": {
    "collapsed": false
   },
   "outputs": [
    {
     "data": {
      "text/plain": [
       "<heatsequer.experiment.expclass.Experiment at 0x117743898>"
      ]
     },
     "execution_count": 24,
     "metadata": {},
     "output_type": "execute_result"
    }
   ],
   "source": [
    "# keep only the original experiment mapping field (to make things faster)\n",
    "hs.filtermapfields(small,['origexp'],inplace=True)"
   ]
  },
  {
   "cell_type": "code",
   "execution_count": 26,
   "metadata": {
    "collapsed": false
   },
   "outputs": [
    {
     "name": "stdout",
     "output_type": "stream",
     "text": [
      "('10 Commands saved to file combined.new.small.biom.commands.txt',)\n",
      "('table saved to file combined.new.small.biom',)\n"
     ]
    }
   ],
   "source": [
    "hs.savetobiom(small,'../data/combined.new.small.biom',useorigreads=True)"
   ]
  },
  {
   "cell_type": "code",
   "execution_count": 27,
   "metadata": {
    "collapsed": false
   },
   "outputs": [],
   "source": [
    "# filter blooming bacteria\n",
    "smallnobloom=hs.filterseqs(small,bloomseqs,exclude=True)"
   ]
  },
  {
   "cell_type": "code",
   "execution_count": 28,
   "metadata": {
    "collapsed": false
   },
   "outputs": [
    {
     "name": "stdout",
     "output_type": "stream",
     "text": [
      "('11 Commands saved to file combined.new.small.nobloom.biom.commands.txt',)\n",
      "('table saved to file combined.new.small.nobloom.biom',)\n"
     ]
    }
   ],
   "source": [
    "hs.savetobiom(smallnobloom,'../data/combined.new.small.nobloom.biom',useorigreads=True)"
   ]
  },
  {
   "cell_type": "markdown",
   "metadata": {},
   "source": [
    "## add bloom level as a mapping field"
   ]
  },
  {
   "cell_type": "code",
   "execution_count": 29,
   "metadata": {
    "collapsed": true
   },
   "outputs": [],
   "source": [
    "# add a new field to mapping file\n",
    "smallf=hs.addmapfield(small,'bloomlevel',0)"
   ]
  },
  {
   "cell_type": "code",
   "execution_count": 30,
   "metadata": {
    "collapsed": false
   },
   "outputs": [],
   "source": [
    "# and for each sample put the number of blooming bacteria reads in this field\n",
    "tt=hs.filterseqs(small,bloomseqs)\n",
    "for idx,csamp in enumerate(tt.samples):\n",
    "    smallf.smap[csamp]['bloomlevel']=str(np.round(np.sum(tt.data[:,idx]))+1)"
   ]
  },
  {
   "cell_type": "code",
   "execution_count": 31,
   "metadata": {
    "collapsed": true
   },
   "outputs": [],
   "source": [
    "# save the mapping file with the 'bloomlevel' field containing the total amount of bloom bacteria\n",
    "hs.savemap(smallf,'../data/combined.new.small.withbloomlevel.map.txt')"
   ]
  },
  {
   "cell_type": "markdown",
   "metadata": {},
   "source": [
    "## Process the biom tables using qiime:\n",
    "```\n",
    "single_rarefaction.py -i combined.new.small.biom -o combined.new.small.sub5k.biom -d 5000\n",
    "single_rarefaction.py -i combined.new.small.nobloom.biom -o combined.new.small.nobloom.sub5k.biom -d 5000\n",
    "\n",
    "# get bray curtis and binary jaccard distances\n",
    "beta_diversity.py -i combined.new.small.nobloom.sub5k.biom -o distmat -m bray_curtis,binary_jaccard\n",
    "beta_diversity.py -i combined.new.small.sub5k.biom -o distmat -m bray_curtis,binary_jaccard\n",
    "\n",
    "\n",
    "# pcoa\n",
    "principal_coordinates.py -i distmat/bray_curtis_combined.new.small.sub5k.txt -o pcoa.bloom.bc.txt\n",
    "principal_coordinates.py -i distmat/bray_curtis_combined.new.small.nobloom.sub5k.txt -o pcoa.nobloom.bc.txt\n",
    "principal_coordinates.py -i distmat/binary_jaccard_combined.new.small.sub5k.txt -o pcoa.bloom.bj.txt\n",
    "principal_coordinates.py -i distmat/binary_jaccard_combined.new.small.nobloom.sub5k.txt -o pcoa.nobloom.bj.txt\n",
    "```"
   ]
  },
  {
   "cell_type": "markdown",
   "metadata": {},
   "source": [
    "## plot emperor pcoa (in notebook!)"
   ]
  },
  {
   "cell_type": "code",
   "execution_count": 32,
   "metadata": {
    "collapsed": true
   },
   "outputs": [],
   "source": [
    "# load some emperor goodies needed for in notebook pcoa plotting\n",
    "from emperor import Emperor, nbinstall\n",
    "\n",
    "from emperor.qiime_backports.parse import parse_mapping_file\n",
    "from emperor.qiime_backports.format import format_mapping_file\n",
    "\n",
    "from skbio import OrdinationResults\n",
    "from skbio.io.util import open_file\n",
    "import pandas as pd"
   ]
  },
  {
   "cell_type": "code",
   "execution_count": 33,
   "metadata": {
    "collapsed": true
   },
   "outputs": [],
   "source": [
    "# a function to load a mapping file to a pandas dataframe\n",
    "def load_mf(fn):\n",
    "    with open_file(fn) as f:\n",
    "        mapping_data, header, _ = parse_mapping_file(f)\n",
    "        _mapping_file = pd.DataFrame(mapping_data, columns=header)\n",
    "        _mapping_file.set_index('SampleID', inplace=True)\n",
    "    return _mapping_file\n"
   ]
  },
  {
   "cell_type": "code",
   "execution_count": 34,
   "metadata": {
    "collapsed": false
   },
   "outputs": [],
   "source": [
    "# load the mapping file with the bloom level field\n",
    "pmf=load_mf('../data/combined.new.small.withbloomlevel.map.txt')"
   ]
  },
  {
   "cell_type": "code",
   "execution_count": 35,
   "metadata": {
    "collapsed": true
   },
   "outputs": [],
   "source": [
    "nbinstall()\n"
   ]
  },
  {
   "cell_type": "code",
   "execution_count": 36,
   "metadata": {
    "collapsed": true
   },
   "outputs": [],
   "source": [
    "# load the pcoa result bray curtis with the blooming bacteria (no filtering)\n",
    "resbloom = OrdinationResults.read('../data/pcoa/pcoa.bloom.bc.txt')"
   ]
  },
  {
   "cell_type": "code",
   "execution_count": 37,
   "metadata": {
    "collapsed": true
   },
   "outputs": [],
   "source": [
    "# load the pcoa result bray curtis without the blooming bacteria (with filtering)\n",
    "resnobloom = OrdinationResults.read('../data/pcoa/pcoa.nobloom.bc.txt')"
   ]
  },
  {
   "cell_type": "code",
   "execution_count": 38,
   "metadata": {
    "collapsed": false
   },
   "outputs": [],
   "source": [
    "# create the with the blooming bacteria (no filtering) emperor data\n",
    "x = Emperor(resbloom, pmf, remote=False)"
   ]
  },
  {
   "cell_type": "code",
   "execution_count": 39,
   "metadata": {
    "collapsed": false,
    "scrolled": true
   },
   "outputs": [],
   "source": [
    "# need to convert to int (otherwise problem with emperor size from field)\n",
    "x.mf.bloomlevel=x.mf.bloomlevel.astype(float).astype(int)"
   ]
  },
  {
   "cell_type": "code",
   "execution_count": 40,
   "metadata": {
    "collapsed": false
   },
   "outputs": [
    {
     "data": {
      "text/html": [
       "\n",
       "<script type=\"text/javascript\">\n",
       "\n",
       "if ($(\"#emperor-css\").length == 0){{\n",
       "    $(\"head\").append([\n",
       "\n",
       "        '<link id=\"emperor-css\" rel=\"stylesheet\" type=\"text/css\" href=\"/nbextensions/emperor/support_files/css/emperor.css\">',\n",
       "        '<link rel=\"stylesheet\" type=\"text/css\" href=\"/nbextensions/emperor/support_files/vendor/css/jquery-ui.min.css\">',\n",
       "        '<link rel=\"stylesheet\" type=\"text/css\" href=\"/nbextensions/emperor/support_files/vendor/css/slick.grid.min.css\">',\n",
       "        '<link rel=\"stylesheet\" type=\"text/css\" href=\"/nbextensions/emperor/support_files/vendor/css/spectrum.min.css\">',\n",
       "        '<link rel=\"stylesheet\" type=\"text/css\" href=\"/nbextensions/emperor/support_files/vendor/css/chosen.min.css\">',\n",
       "        '<link rel=\"stylesheet\" type=\"text/css\" href=\"/nbextensions/emperor/support_files/vendor/css/jquery.contextMenu.min.css\">'\n",
       "    ]);\n",
       "}}\n",
       "</script>\n",
       "\n",
       "<div id='emperor-notebook-0x31190a40' style=\"position: relative; width:100%; height:500px;\">\n",
       "  <div class='loading' style=\"position: absolute;top: 50%;left: 50%;margin-left: -229px; margin-top: -59px; z-index: 10000;height:118px;width:458px;padding:0px\"><img src='/nbextensions/emperor/support_files/img/emperor.png' alt='Emperor resources missing. Expected them to be found in /nbextensions/emperor/support_files'></div>\n",
       "</div>\n",
       "</div>\n",
       "\n",
       "<script type=\"text/javascript\">\n",
       "requirejs.config({\n",
       "// the left side is the module name, and the right side is the path\n",
       "// relative to the baseUrl attribute, do NOT include the .js extension\n",
       "'paths': {\n",
       "  /* jQuery */\n",
       "  'jquery': '/nbextensions/emperor/support_files/vendor/js/jquery-2.1.4.min',\n",
       "  'jqueryui': '/nbextensions/emperor/support_files/vendor/js/jquery-ui.min',\n",
       "  'jquery_drag': '/nbextensions/emperor/support_files/vendor/js/jquery.event.drag-2.2.min',\n",
       "\n",
       "  /* jQuery plugins */\n",
       "  'chosen': '/nbextensions/emperor/support_files/vendor/js/chosen.jquery.min',\n",
       "  'spectrum': '/nbextensions/emperor/support_files/vendor/js/spectrum.min',\n",
       "  'position': '/nbextensions/emperor/support_files/vendor/js/jquery.ui.position.min',\n",
       "  'contextmenu': '/nbextensions/emperor/support_files/vendor/js/jquery.contextMenu.min',\n",
       "\n",
       "  /* other libraries */\n",
       "  'underscore': '/nbextensions/emperor/support_files/vendor/js/underscore-min',\n",
       "  'chroma': '/nbextensions/emperor/support_files/vendor/js/chroma.min',\n",
       "  'filesaver': '/nbextensions/emperor/support_files/vendor/js/FileSaver.min',\n",
       "  'blob': '/nbextensions/emperor/support_files/vendor/js/Blob',\n",
       "  'd3': '/nbextensions/emperor/support_files/vendor/js/d3.min',\n",
       "\n",
       "  /* THREE.js and plugins */\n",
       "  'three': '/nbextensions/emperor/support_files/vendor/js/three.min',\n",
       "  'orbitcontrols': '/nbextensions/emperor/support_files/vendor/js/three.js-plugins/OrbitControls',\n",
       "  'projector': '/nbextensions/emperor/support_files/vendor/js/three.js-plugins/Projector',\n",
       "  'svgrenderer': '/nbextensions/emperor/support_files/vendor/js/three.js-plugins/SVGRenderer',\n",
       "\n",
       "  /* SlickGrid */\n",
       "  'slickcore': '/nbextensions/emperor/support_files/vendor/js/slick.core.min',\n",
       "  'slickgrid': '/nbextensions/emperor/support_files/vendor/js/slick.grid.min',\n",
       "  'slickformatters': '/nbextensions/emperor/support_files/vendor/js/slick.editors.min',\n",
       "  'slickeditors': '/nbextensions/emperor/support_files/vendor/js/slick.formatters.min',\n",
       "\n",
       "  /* Emperor's objects */\n",
       "  'util': '/nbextensions/emperor/support_files/js/util',\n",
       "  'model': '/nbextensions/emperor/support_files/js/model',\n",
       "  'view': '/nbextensions/emperor/support_files/js/view',\n",
       "  'controller': '/nbextensions/emperor/support_files/js/controller',\n",
       "  'draw': '/nbextensions/emperor/support_files/js/draw',\n",
       "  'scene3d': '/nbextensions/emperor/support_files/js/sceneplotview3d',\n",
       "  'abcviewcontroller': '/nbextensions/emperor/support_files/js/abc-view-controller',\n",
       "  'viewcontroller': '/nbextensions/emperor/support_files/js/view-controller',\n",
       "  'colorviewcontroller': '/nbextensions/emperor/support_files/js/color-view-controller',\n",
       "  'visibilitycontroller': '/nbextensions/emperor/support_files/js/visibility-controller',\n",
       "  'scaleviewcontroller': '/nbextensions/emperor/support_files/js/scale-view-controller',\n",
       "  'shapecontroller': '/nbextensions/emperor/support_files/js/shape-controller',\n",
       "  'axescontroller': '/nbextensions/emperor/support_files/js/axes-controller',\n",
       "  'shape-editor': '/nbextensions/emperor/support_files/js/shape-editor',\n",
       "  'color-editor': '/nbextensions/emperor/support_files/js/color-editor',\n",
       "  'scale-editor': '/nbextensions/emperor/support_files/js/scale-editor',\n",
       "  'shapes': '/nbextensions/emperor/support_files/js/shapes'\n",
       "},\n",
       "/*\n",
       "   Libraries that are not AMD compatible need shim to declare their\n",
       "   dependencies.\n",
       " */\n",
       "'shim': {\n",
       "  'jquery_drag': {\n",
       "    'deps': ['jquery', 'jqueryui']\n",
       "  },\n",
       "  'chosen': {\n",
       "    'deps': ['jquery'],\n",
       "    'exports': 'jQuery.fn.chosen'\n",
       "  },\n",
       "  'contextmenu' : {\n",
       "    'deps': ['jquery', 'jqueryui', 'position']\n",
       "  },\n",
       "  'filesaver' : {\n",
       "    'deps': ['blob']\n",
       "  },\n",
       "  'orbitcontrols': {\n",
       "    'deps': ['three']\n",
       "  },\n",
       "  'projector': {\n",
       "    'deps': ['three']\n",
       "  },\n",
       "  'svgrenderer': {\n",
       "    'deps': ['orbitcontrols', 'projector']\n",
       "  },\n",
       "'slickcore': ['jqueryui'],\n",
       "'slickgrid': ['slickcore', 'jquery_drag', 'slickformatters',\n",
       "              'slickeditors']\n",
       "}\n",
       "});\n",
       "\n",
       "requirejs(\n",
       "[\"jquery\", \"model\", \"controller\"],\n",
       "function($, model, EmperorController) {\n",
       "  var DecompositionModel = model.DecompositionModel;\n",
       "\n",
       "  var div = $('#emperor-notebook-0x31190a40');\n",
       "\n",
       "  var ids = ['10317.000012318', '10317.000014290', '10317.000015623', '10317.000030000', '10317.000013526', '10317.000013733', '10317.000033692', '10317.000016727', '10317.000003161', '10317.000022430', '10317.000029356', '10317.000018338', '10317.000026184', '10317.000027869', '10317.000011369', '10317.000022048', '10317.000034181', '10317.000005805', '10317.000007176', '10317.000013419', '10317.000014182', '10317.000002597', '10317.000016263', '10317.000027295', '10317.000001328', '10317.000013937', '10317.000039938', '10317.000030221', '10317.000030041', '10317.000022516', '10317.000014188', '10317.000013425', '10317.000021974', '10317.000017327', '10317.000030511', '10317.000018302', '10317.000016717', '10317.000015830', '10317.000037505', '10317.000017175', '10317.000021235', '10317.000001948', '10317.000017079', '10317.000041962', '10317.000040319', '10317.000001028', '10317.000020533', '10317.000017354', '10317.000005902', '10317.000002114', '10317.000017647', '10317.000015851', '10317.000030180', '10317.000014667', '10317.000029509', '10317.000030733', '10317.000013226', '10317.000001321', '10317.000026187', '10317.000006657', '10317.000018081', '10317.000009716', '10317.000003266', '10317.000036682', '10317.000013274', '10317.000026114', '10317.000013913', '10317.000030627', '10317.000001751', '10317.000038352', '10317.000033003', '10317.000037949', '10317.000007732', '10317.000017203', '10317.000014102', '10317.000006690', '10317.000005554', '10317.000001917', '10317.000020634', '10317.000030538', '10317.000003196', '10317.000020396', '10317.000027281', '10317.000014458', '10317.000008990', '10317.000042738', '10317.000029342', '10317.000011240', '10317.000026530', '10317.000022666', '10317.000014558', '10317.000014967', '10317.000003225', '10317.000010901', '10317.000023783', '10317.000023929', '10317.000007792', '10317.000010232', '10317.000041714', '10317.000010259', '10317.000013397', '10317.000020047', '10317.000014888', '10317.000002201', '10317.000022608', '10317.000004878', '10317.000030349', '10317.000017705', '10317.000038166', '10317.000017118', '10317.000028849', '10317.000028465', '10317.000004163', '10317.000036884', '10317.000030774', '10317.000013465', '10317.000003150', '10317.000027912', '10317.000038190', '10317.000030298', '10317.000012921', '10317.000017084', '10317.000014168', '10317.000013653', '10317.000011262', '10317.000036068', '10317.000017097', '10317.000011070', '10317.000017339', '10317.000005948', '10317.000023857', '10317.000010147', '10317.000028169', '10317.000013960', '10317.000001291', '10317.000009201', '10317.000001417', '10317.000036721', '10317.000020487', '10317.000023858', '10317.000001225', '10317.000001451', '10317.000020358', '10317.000017121', '10317.000006926', '10317.000028955', '10317.000017080', '10317.000013939', '10317.000030484', '10317.000010723', '10317.000020603', '10317.000014018', '10317.000021965', '10317.000020616', '10317.000020346', '10317.000001284', '10317.000016300', '10317.000013285', '10317.000041945', '10317.000028930', '10317.000026648', '10317.000012975', '10317.000028287', '10317.000012138', '10317.000031272', '10317.000028961', '10317.000009528', '10317.000041937', '10317.000006001', '10317.000009144', '10317.000005693', '10317.000013686', '10317.000034123', '10317.000037502', '10317.000012105', '10317.000016231', '10317.000039950', '10317.000009465', '10317.000016768', '10317.000003549', '10317.000016354', 'Balcom.Stool', 'Starratt.Stool', 'Dias.Stool', 'Zambom.Stool', 'Larcridge.Stool', 'Nobscot.Stool', 'Slades.Stool', 'Netta.Stool', 'Caryll.Stool', 'Cornstalk.Stool', 'Sandale.Stool', 'January.Stool', 'Purchade.Stool', 'Burne.Stool', 'Charmark.Stool', 'Witch.Stool', 'Cedarhurst.Stool', 'Buckinghan.Stool', 'Lippokd.Stool', 'Innkeeper.Stool', 'Lassell.Stool', 'Westbora.Stool', 'Claudett.Stool', 'Hager.Stool', 'Lonergan.Stool', 'Sylvanus.Stool', 'Malfa.Stool', 'Gigi.Stool', 'Noel.Stool', 'Patmos.Stool', 'Woodfin.Stool', 'Padanaram.Stool', 'Mariposa.Stool.2', 'Eisenhower.Stool', 'Digregorio.Stool', 'Hallets.Stool', 'Innitou.Stool', 'Mariposa.Stool.3', 'Turkey.Stool', 'Gibbon.Stool', 'Janis.Stool', 'Delmore.Stool', 'Caravel.Stool', 'Watoguadoc.Stool', 'Edenfield.Stool', 'Willowbe.Stool', 'Ronald.Stool', 'Pasho.Stool', 'Brae.Stool', 'Azalea.Stool', 'Bjorkland.Stool', 'Nyack.Stool', 'Foothill.Stool', 'Fermanagh.Stool', 'Misty.Stool', 'Wilbraview.Stool', 'Shadyside.Stool', 'Salti.Stool', 'Maryjane.Stool', 'Winifreds.Stool', 'Coachmen.Stool', 'Trafford.Stool', 'Milne.Stool', 'Cowan.Stool', 'Bows.Stool', 'Devenwood.Stool', 'Vinedale.Stool', 'Stannes.Stool', 'Northwind.Stool', 'Overton.Stool', 'Bulls.Stool', 'Mariposa.Stool.1', 'Tewmac.Stool', 'Meadowlands.Stool', 'Postscript.Stool', 'Trimmer.Stool', 'Elmavenue.Stool', 'Pinrock.Stool', 'Goddu.Stool', '1481.NA.17.T8', '1481.PO4.3.T0', '1481.PO5.5.T0', '1481.NA.06.T0', '1481.PO5.3.T0', '1481.PO6.3.T0', '1481.PO1.17.T8', '1481.PO4.4.T8', '1481.NA.04.T0', '1481.PO5.3.T8', '1481.PO5.8.T4', '1481.NA.23.T0', '1481.NA.18.T4', '1481.NA.20.T0', '1481.NA.07.T8', '1481.PO2.1.T8', '1481.NA.13.T4', '1481.NA.18.T0', '1481.NA.16.T8', '1481.PO3.2.T8', '1481.NA.12.T8', '1481.PO2.1.T0', '1481.PO6.4.T0', '1481.NA.15.T0', '1481.PO1.1.T8', '1481.PO6.5.T0', '1481.PO6.4.T4', '1481.PO6.2.T8', '1481.PO6.1.T8', '1481.PO1.5.T8', '1481.NA.17.T0', '1481.PO4.9.T8', '1481.NA.21.T0', '1481.PO4.6.T8', '1481.NA.24.T0', '1481.PO5.2.T8', '1481.PO1.2.T0', '1481.PO1.15.T0', '1481.NA.01.T8', '1481.PO1.2.T8', '1481.NA.20.T8', '1481.NA.10.T0', '1481.PO3.3.T8', '1481.NA.10.T8', '1481.NA.01.T0', '1481.PO2.3.T4', '1481.PO7.2.T8', '1481.NA.16.T0', '1481.NA.07.T4', '1481.PO1.17.T0', '1481.NA.04.T8', '1481.PO6.2.T0', '1481.PO6.3.T8', '1481.PO4.8.T8', '1481.PO1.15.T8', '1481.PO2.3.T0', '1481.NA.12.T0', '1481.NA.21.T8', '1481.PO4.3.T4', '1481.PO2.5.T4', '1481.NA.02.T8', '1481.PO5.2.T0', '1481.NA.02.T0', '1481.PO6.1.T0', '1481.PO3.3.T0', '1481.NA.13.T8', '1481.PO3.2.T0', '1481.PO5.5.T8', '1481.PO1.3.T0', '1481.PO4.7.T8', '1481.PO4.9.T0', '1481.NA.06.T8', '1481.NA.15.T8', '1481.NA.24.T8', '1481.PO6.5.T8', '1481.PO1.11.T0', '1481.NA.14.T0', '1481.PO5.10.T4', '1481.NA.23.T8', '1481.PO1.1.T0', '1481.NA.14.T8', '1481.PO1.11.T8', '2014.Plate15.83', '2014.Plate10.23', '2014.Plate13.70', '2014.Low1.50', '2014.Plate14.37', '2014.Low1.87', '2014.Plate13.9', '2014.Plate11.25', '2014.Plate13.65', '2014.Plate6.31', '2014.Low2.27', '2014.Plate14.43', '2014.Plate11.42', '2014.Plate8.75', '2014.High2.66', '2014.Plate13.1', '2014.Low1.12', '2014.Plate6.11', '2014.High1.18', '2014.Plate7.7', '2014.Plate7.93', '2014.Low2.87', '2014.Low2.68', '2014.Plate14.77', '2014.Low1.19', '2014.Plate15.14', '2014.Plate11.81', '2014.Plate13.68', '2014.Plate9.71', '2014.Low2.15', '2014.Plate9.53', '2014.Plate11.40', '2014.Plate14.59', '2014.Low2.18', '2014.Plate11.89', '2014.Plate6.38', '2014.Plate14.6', '2014.Plate15.44', '2014.High2.83', '2014.Plate9.68', '2014.Plate5.76', '2014.Plate6.78', '2014.Low2.24', '2014.Plate9.21', '2014.High1.50', '2014.Plate13.46', '2014.Plate6.64', '2014.High2.32', '2014.Plate11.33', '2014.Plate12.26', '2014.High1.54', '2014.Plate9.84', '2014.Low2.32', '2014.Plate13.7', '2014.High1.82', '2014.Plate11.78', '2014.Plate5.55', '2014.Plate13.81', '2014.Plate12.83', '2014.Plate9.42', '2014.Plate12.37', '2014.Plate11.31', '2014.High1.3', '2014.Plate8.44', '2014.Plate11.56', '2014.Low1.88', '2014.Low1.20', '2014.Low1.32', '2014.Plate11.88', '2014.Low1.78', '2014.Plate6.73', '2014.Plate15.72', '2014.Plate10.58', '2014.Plate8.9', '2014.High1.48', '2014.Plate15.62', '2014.Plate11.64', '2014.Plate12.21', '2014.Plate5.65', '2014.High1.89', '2014.High1.19', '2014.Plate8.18', '2014.Plate5.31', '2014.Plate10.15', '2014.Plate14.95', '2014.Low2.72', '2014.Plate13.73', '2014.Low1.52', '2014.Low2.57', '2014.Plate15.29', '2014.Plate6.22', '2014.Low2.86', '2014.Plate6.86', '2014.Plate15.60', '2014.Plate12.88', '2014.Low1.35', '2014.Plate10.18', '2014.Plate5.78', '2014.Plate13.8', '2014.High1.23', '2014.High1.32', '2014.Low2.17', '2014.Plate13.41', '2014.Plate10.50', '2014.Plate15.16', '2014.Plate6.9', '2014.Plate10.24', '2014.Plate5.49', '2014.Plate11.38', '2014.Plate6.90', '2014.Plate12.19', '2014.Plate11.44', '2014.Plate15.40', '2014.Plate14.24', '2014.Plate14.64', '2014.Low2.29', '2014.Plate7.87', '2014.Plate13.94', '2014.Plate8.1', '2014.Plate8.60', '2014.Plate16.58', '2014.High1.13', '2014.Plate6.42', '2014.High1.59', '2014.High1.27', '2014.Plate14.20', '2014.Low1.72', '2014.Low2.14', '2014.Plate11.74', '2014.Plate8.42', '2014.Plate7.69', '2014.Plate14.93', '2014.High2.65', '2014.Plate9.58', '2014.Plate9.1', '2014.Plate11.39', '2014.Low1.93', '2014.Low1.71', '2014.Plate9.87', '2014.Plate16.67', '2014.Low2.51', '2014.High1.61', '2014.Plate14.33', '2014.High1.92', '2014.Plate5.87', '2014.High2.17', '2014.Plate9.57', '2014.Low2.5', '2014.Plate15.38', '2014.Plate12.45', '2014.Plate13.56', '2014.Plate12.44', '2014.Plate13.79', '2014.Plate5.51', '2014.Plate9.50', '2014.High1.78', '2014.High1.67', '2014.Plate8.24', '2014.Plate7.90', '2014.High2.6', '2014.Plate15.93', '2014.Plate11.68', '2014.Low2.28', '2014.Plate15.53', '2014.Low1.68', '2014.Plate12.85', '2014.Plate7.82', '2014.Plate7.53', '2014.Plate9.62', '2014.Plate6.55', '2014.Plate6.84', '2014.Plate10.17', '2014.Plate5.29', '2014.High2.68', '2014.Low1.91', '2014.Plate5.92', '2014.Plate14.78', '2014.Plate10.3', '2014.Plate9.73', '2014.Plate11.52', '2014.High1.64', '2014.Low1.36', '2014.Plate6.27', '2014.High1.39', '2014.High1.53', '2014.Plate15.56', '2014.Plate5.62', '2014.High1.57', '2014.Plate15.27', '2014.Plate7.18', '2014.Plate15.10', '2014.Plate7.57', '2014.Plate13.92', '2014.Plate6.10', '2014.Plate6.74', '2014.Plate7.23', '2014.Plate14.35', '2014.Plate9.24', '2014.Plate6.44', '2014.Plate5.24'];\n",
       "  var coords = [[0.0949750658747, -0.0645072367776, 0.0730351727346, -0.0998439510258, 0.193005404029], [0.254918809926, 0.151888089058, -0.181601114417, -0.191102309355, 0.0410150954061], [0.102863638757, -0.04564576512, 0.0708644242131, -0.0600966079509, 0.0321020873206], [0.292961243631, 0.034257481635, -0.0347915185172, -0.0523988393514, -0.212378413407], [0.0707282951501, -0.253765449909, 0.126686204785, -0.0871805808446, -0.0559235969527], [-0.0214892068789, -0.118390630262, 0.00300424869925, -0.093217055143, 0.0118813622374], [0.354125760519, 0.145755209342, 0.100075127444, -0.0612618583391, -0.124089727322], [0.0710489730438, -0.217694658228, 0.0640835735875, -0.086261812969, -0.00630219148939], [0.154975499436, -0.181515820092, 0.139925742024, -0.0241350862439, -0.0086018735227], [0.231960850295, 0.290099040654, -0.0152420065161, -0.00380951910061, 0.170678445102], [0.0674644723697, -0.159687036223, 0.093806457302, 0.0581363900679, -0.00543812676075], [0.355386287755, 0.34717228509, -0.0693863689809, -0.0112886660345, -0.135255091664], [0.00524448851737, -0.147606951209, 0.285651810625, -0.0826850489283, -0.0016692818034], [0.265735164013, 0.0549912069367, -0.00706108233398, -0.0714220485106, -0.175008181853], [0.281819272212, 0.14612202141, -0.147610522334, -0.0357551181129, -0.00994621614379], [0.366752913411, 0.237176508607, -0.107477163752, 0.275547091316, 0.02758753844], [0.334650902316, 0.262689933532, -0.195188359819, 0.0930221903091, -0.0525600383728], [0.378955554918, 0.241474115773, 0.0728507537028, -0.0874665012418, -0.159042156141], [0.0669601514652, -0.0633666580992, 0.0927625222195, -0.19432968264, 0.279009650409], [-0.0409857863448, -0.0835334416861, -0.204967646236, -0.142000158039, 0.0495305734719], [0.27992886064, 0.203820027907, -0.0230773206348, 0.0431412848243, -0.252055309006], [0.409837067679, 0.441562437629, 0.00496236634812, 0.0031368783586, -0.0588540855421], [-0.0414582931103, -0.133045033632, -0.132759001113, -0.120789884129, 0.0440830183262], [0.0638166494704, -0.109517705256, -0.00189665517329, -0.0856741862661, -0.0916470644672], [0.170454424356, -0.0886604097267, 0.155532480767, -0.0173421200637, 0.189492153341], [0.109565449181, -0.271633452893, 0.0142766997943, 0.121512978932, 9.06473953225e-05], [0.0423181777037, -0.0995321043127, -0.0632618364108, -0.145122702162, -0.0711383278612], [0.385099841491, 0.240432874462, -0.152275772381, -0.047958250282, -0.155644338881], [0.107556392439, -0.0821281310226, 0.079332112929, -0.0979153096472, -0.114020016206], [0.384711323998, 0.262129396453, -0.147351743051, 0.150656978939, -0.115611529781], [-0.187798554251, 0.0396048257251, -0.0785591143398, -0.0637536861458, -0.033216495981], [-0.0726422013692, -0.132933476625, -0.0265681202007, -0.0696796976267, -0.0633837575116], [-0.0923795040984, -0.111595405909, -0.135004736317, -0.0847011953958, -0.0690087019301], [0.107280962267, 0.0126466700749, -0.220733286246, 0.0814536176879, 0.120866834063], [0.0633420140256, -0.0712051259731, -0.114895595889, 0.0702194739622, 0.0983380807521], [0.337457862701, 0.291713246444, -0.0612585207361, -0.0869058866007, -0.14851085854], [0.0972445930199, -0.226765502294, 0.123940573497, 0.131543258756, 0.000902051422747], [-0.023490642407, -0.122814773127, -0.115233249495, -0.0366960378557, 0.00579922217275], [0.34919049646, 0.356231904941, -0.0454052133292, -0.134749091687, -0.0970949121519], [0.234954338811, 0.280080189064, -0.0138020769006, 0.0204475343622, 0.00808261345299], [0.0206218912594, 0.16029085887, 0.0111649202423, 0.0301932794407, 0.362937176874], [0.460162591976, 0.185063991441, 0.111752482397, -0.0343240325381, -0.134743892132], [0.074018877242, -0.123391140768, -0.0296002247261, 0.424018818538, 0.0507686188625], [-0.177937016077, -0.0562678759038, -0.0267530060261, -0.0926163780669, -0.120538194353], [0.193975718349, -0.0646698781282, 0.0658871131305, -0.0272478153831, -0.0657058101647], [0.328421608879, 0.116034025839, -0.0947979910729, -0.11979146948, -0.186816724883], [0.100539585818, -0.0896923878996, -0.0534651192858, 0.16220402106, 0.146374369177], [0.0278414332232, -0.225633762052, 0.0848869813106, -0.0895918883574, 0.0120939140025], [0.129006048315, -0.202911499186, 0.165016027359, -0.0655858118612, 0.0983812395135], [0.430524412847, 0.449110526128, -0.0415589073483, -0.035372897353, -0.0330009018922], [0.0904632780923, -0.0502887025922, -0.170298066264, 0.0389565363453, -0.146941786371], [0.26159011463, 0.00708810854015, 0.153861321785, -0.04522631245, -0.0400820877582], [0.228431031647, 0.272428409616, -0.0196742414871, -0.0214028156583, -0.0339363749054], [-0.0659520390809, 0.00190132719276, -0.067277958545, 0.336262460597, 0.114350319447], [-0.0727176422753, -0.146927907016, 0.00899869455715, 0.0186622697436, -0.14852999687], [-0.0239513628732, -0.136920298274, -0.104021779665, 0.00838561056001, -0.0438587835354], [0.176341944402, 0.0479109449007, -0.14685492424, -0.110479204583, 0.190432548758], [0.28787271252, 0.109685952201, -0.140110993517, 0.113802305222, -0.0804167965293], [0.246514199076, 0.351018640353, -0.0388737690952, -0.133032615434, -0.235245107412], [0.0957996026758, -0.24468209777, 0.281062652846, 0.0276779541115, -0.0281613115701], [0.152542611432, -0.0165808789543, -0.131193608861, 0.136099448686, 0.047992629623], [0.232164617152, 0.12653375899, -0.127292278182, -0.213289918947, -0.080026101889], [0.0643728200193, -0.000312303797959, 0.0468652651595, 0.0625809767515, -0.0746281077862], [0.0972068171149, -0.0456898452685, 0.180405982115, 0.0295949209946, 0.252600840981], [0.00509192523274, -0.189251947031, -0.173691270122, 0.122267991595, -0.0610654726681], [0.0703065775707, -0.125686036655, 0.171059494831, 0.163959127828, 0.017649334526], [0.119620532072, -0.10536978124, 0.315681027849, 0.0256299478592, 0.185577748943], [0.447654333217, 0.0974720008974, 0.241515347468, -0.0107995646267, -0.0974802437011], [0.287307179032, 0.170147246032, -0.0293552852474, 0.0996285087416, 0.0704552859425], [-0.0629505036162, -0.148782009086, -0.150807525737, -0.118282055887, -0.0866589478813], [-0.0458742701306, -0.0777081625544, -0.0587422116668, -0.126741367229, 0.0548729195135], [-0.0262124417172, -0.164630722361, 0.225268093606, -0.0792260204247, -0.0597038606915], [0.039449502158, -0.1885025872, -0.131788264234, 0.246193873948, -0.0508671217654], [0.0887494822645, -0.240862744074, 0.0944498416004, 0.0498761805104, -0.00319700163182], [-0.242491523917, 0.208859288571, 0.0935257374651, 0.111239131578, 0.0460603479814], [-0.140916550882, 0.0365961631698, -0.0362459783476, -0.00884459317345, 0.0446675018796], [-0.104603692933, -0.0710830862823, -0.161833104976, -0.0177074005105, -0.0242986015402], [0.0950281980953, -0.271521289654, -0.00156544224364, 0.114968234134, -0.0463867529969], [0.0174016630414, -0.139019566317, -0.125855633622, -0.0839447602607, 0.00555894737008], [0.356280990364, 0.375861405485, -0.0325704002064, -0.0551955344175, -0.0983121671845], [0.318918443064, 0.265719946383, -0.0899802444303, -0.0407796375928, -0.141328941638], [0.334694082616, 0.216309332932, -0.172592763511, 0.125863664109, -0.0758882663432], [0.172217237818, -0.0212778958188, 0.252187486029, 0.0261772018133, 0.194508274605], [0.0319594377746, -0.197752342559, 0.212435834639, -0.0389370639221, -0.00380401095304], [0.371958366967, 0.187116995027, -0.0098187321785, 0.0433530259447, -0.154135165964], [0.0641646538794, -0.192188037272, -0.128893129177, -0.0319176301031, 0.0109632612644], [-0.0344162490276, -0.130569941734, -0.0796241891601, -0.0676626288546, -0.00792189725989], [0.0507445512984, -0.181622068077, -0.11665840396, 0.266964868475, -0.0321500263535], [0.0754760309925, -0.044885084163, -0.12899759242, 0.160053823636, 0.215735435238], [0.399419679065, 0.437049830617, -0.0195522020398, -0.0311555369805, 0.0364106153687], [0.0205314149814, -0.195490069027, -0.109527270387, -0.0866387636784, -0.0524301114528], [0.124828979389, -0.265607072455, 0.165465040868, -0.0272205927779, 0.0120594180082], [0.314590889697, 0.264374673452, -0.109192744887, 0.100184701005, 0.0455045295284], [0.469795875846, 0.181913049472, 0.155839252309, 0.016709533649, -0.137666011385], [0.0637685935909, 0.0535028059534, -0.0606717496732, 0.119266355856, 0.242483238021], [0.311738319928, 0.267337347614, -0.150153895422, -0.150719909339, -0.0504307918516], [0.312891653564, -0.00918761069589, 0.205774706012, -0.0432075605609, 0.0396222751291], [0.33420930206, 0.245734758731, -0.128049523093, -0.0837752112414, -0.0406359131686], [0.0601991055966, -0.240447295006, 0.0352529453245, -0.009121301408, -0.0178470714862], [0.437846153355, 0.354532567364, -0.00495509259066, -0.0410278429092, -0.0918775725001], [0.0389112644255, -0.0255711403749, -0.0639346169807, -0.0439537382217, 0.203055597057], [0.277508508002, -0.0128277048612, 0.0924157458636, -0.0463948114025, 0.00317953196155], [0.0641021518289, -0.116682124258, 0.0912460297165, -0.0284478797305, 0.0491412859978], [0.303791005905, 0.297733709966, -0.0208244737935, -0.0472930960338, 0.026688425996], [0.0854402650347, -0.17525410938, 0.135312514368, 0.00399491313962, 0.0262142857382], [0.377073684701, 0.483679793122, -0.00572217164373, -0.033535459638, -0.0785908851725], [-0.0172401553463, -0.00711789411203, -0.0966093863749, -0.136371012755, 0.240075422571], [0.012116791953, -0.098249833717, -0.145945783233, 0.034724035331, 0.0204676928178], [-0.00574781841, -0.0932734766557, -0.0244099816018, 0.19318565618, 0.0319516890343], [-0.304959538679, 0.162404937144, 0.146880288828, 0.0120083273571, -0.0719954626806], [0.0660712949698, -0.0334224945968, -0.144757746242, 0.255698384243, 0.155420097492], [-0.131825098336, -0.0297752602445, -0.129514846215, -0.0528176052439, -0.0529112087793], [-0.00479715705085, -0.0396049005734, 0.0298689349786, -0.0870887411977, 0.125303121836], [0.138365125775, -0.196909998737, 0.335304209663, 0.026078607562, 0.0532232120881], [-0.0562748779318, -0.0258596439522, -0.102184127244, -0.175183130796, 0.172900820959], [0.0954374796417, -0.253650859282, 0.121144970585, 0.0683207299071, -0.0646137075511], [0.351309655817, 0.412552898011, 0.00452198459195, -0.0586994308874, -0.134058035603], [0.420607030683, 0.199374715374, 0.0811389291303, -0.0871129541655, -0.114271913672], [-0.0240794661253, -0.0727437832181, -0.136582474022, 0.013601212007, 0.00761836092552], [0.0682225478514, -0.166485101515, -0.110292705621, 0.0186892057325, 0.178241537419], [0.387627886843, 0.468833597057, -0.0284726776205, -0.0587467860021, -0.0802538320595], [-0.0923253168341, -0.0245265431765, -0.0223848620283, 0.425659789232, -0.00276012601165], [0.296241831754, 0.00136858248388, 0.101141345437, -0.171529298803, 0.107156595914], [0.357131312007, 0.0305210047087, 0.211395419929, -0.0537504859158, -0.075853330749], [0.414829968976, 0.428886885064, -0.070895053117, -0.0835673932571, -0.0328350470886], [-0.0167317183608, -0.158023441457, 0.0664824598561, -0.114043966516, -0.0313376639998], [-0.230294968531, 0.176116465231, 0.172919610456, 0.0603713355154, 0.0138447533601], [0.0411214168345, -0.0966504645623, -0.023529555761, -0.0301159290362, 0.0897766962186], [0.246846601191, 0.101045436696, -0.15616470553, 0.147169638184, 0.0353966488623], [-0.0443707888477, -0.0666869908002, -0.135434410107, -0.0509178825079, 0.022405745435], [0.214935692357, -0.0139709437873, 0.2316274511, -0.0218003628076, 0.243552662404], [0.43705725233, 0.178783373692, 0.127371238782, -0.0625387840423, -0.0684992875625], [0.181232155685, -0.0492248760104, -0.152045666676, -0.115917865084, -0.130564158199], [0.0895477204785, -0.248540395634, 0.146298235592, -0.100976541497, -0.0343982239908], [-0.0143927113643, 0.156078115393, 0.0118722341622, 0.0139749176444, 0.252114189862], [0.349879331896, 0.0126795760357, 0.166107281891, 0.0461959696265, 0.0592702861491], [0.428929894421, 0.494258579138, -0.019947921422, -0.0464175433408, -0.0314951343744], [0.0365229128525, -0.187342111687, 0.0368538452921, -0.231523854887, 0.0685410614279], [0.0988237864582, -0.25583055445, -0.0057159379724, -0.0689666869037, -0.0287935747216], [0.369065994231, 0.088688002889, 0.0311451856475, -0.115719150025, -0.221230821932], [0.142129510115, -0.0655147729979, 0.273509951535, -0.0287465093317, 0.250823053648], [0.273478188357, 0.248930020367, -0.0878833092265, 0.108894085454, 0.158881168604], [0.426047243179, 0.0779957382434, 0.154365233219, -0.0747567270811, -0.109753226505], [0.0452434384577, -0.156344909666, 0.0455067419976, 0.0416702088023, -0.0415055796421], [0.151569312907, 0.0656609037938, 0.0862721809252, -0.0195259990523, 0.107064512755], [0.0515323195344, 0.0827434457044, -0.0503317501492, 0.0202067062437, 0.222927904115], [0.0176923720006, -0.205417453872, 0.111169929077, -0.0640920103035, -0.0297106127129], [-0.0906422966531, -0.0909052152942, -0.0221545133524, -0.0206608210047, -0.0820210725423], [-0.000479764559212, -0.0885310116329, -0.108713993193, 0.300472380293, 0.0338255063652], [0.158295590979, -0.0251471184066, 0.0116746685953, -0.150017726318, -0.132215920554], [0.0355987528733, -0.16106780872, -0.0147929650475, -0.110330373001, 0.012187209295], [0.319034682205, -0.0508751595963, 0.026040235016, 0.0577717686984, -0.0972274525078], [0.439987345133, 0.310496215049, -0.0180750146903, 0.0964999916247, -0.0331065174051], [-0.265090193165, 0.190844527806, 0.0497086147856, -0.0357240191938, 0.0309874236476], [0.164740174887, 0.133920365038, 0.0791820991762, 0.13655013206, -0.0757354698854], [0.00467681013724, 0.0995875980473, -0.0588910728878, -0.0761600529636, 0.255839961061], [0.158141765531, -0.168545692409, 0.233795354017, 0.0464971781421, 0.0816515087012], [0.410483155205, 0.463235768773, -0.040227183023, -0.0739046083174, -0.0604253506572], [0.395111271147, 0.013431634148, 0.151649766633, -0.045133391625, -0.0916224291825], [0.0111067740253, -0.160935868447, -0.157167235647, 0.295469634398, -0.025609842255], [0.0331211408911, -0.06936396203, -0.0944880800748, 0.37555104761, 0.060675788236], [0.343401445745, 0.192586966187, -0.0560450012836, 0.0868389256575, -0.0970857578814], [0.0906852857963, -0.0575610593717, 0.0827535844634, -0.0935138642983, 0.268911890532], [0.484673847055, 0.123864172475, 0.224948669002, -0.00385773310335, -0.0552121150212], [-0.0045091481123, 0.173429423395, 0.0251202935286, 0.0496658307589, 0.296974295721], [-0.0459561396437, -0.0581382883701, 0.189791054566, 0.240090997124, -0.0197629508846], [-0.085503257906, -0.130655519785, -0.0578740854141, -0.163851082721, -0.0998413606528], [-0.0572291218806, -0.103330587001, 0.0963337542879, 0.0774967343818, -0.0545860771297], [0.423493749589, 0.477427124208, -0.00288769715927, -0.0160817397395, 0.0782531778551], [0.407448794394, -0.019757150009, 0.228106596525, 0.0018862193604, -0.0658119441334], [0.259120875825, 0.0254544711276, -0.0431333232618, -0.0762081663054, 0.0218997466076], [0.306099967477, 0.0320182299284, 0.116075589448, -0.00575187704544, -0.0281715250265], [0.0881877202494, 0.0723604547451, 0.0653872466791, 0.0110520605659, 0.267868199216], [-0.0628344246578, -0.0586962607956, 0.0118731974473, -0.242257774378, 0.148639624223], [0.419184302528, 0.0667337407777, 0.22620484254, -0.0447138776432, -0.0517751087772], [-0.0520302084332, -0.16181779815, -0.0633585247112, -0.0657122315192, -0.0714550773495], [-0.17598554723, 0.0574725332412, 0.266630954359, -0.048671669425, 0.0428973825632], [0.304840972634, 0.157498025062, 0.0999715472858, -0.042891521718, -0.205257335336], [-0.0361194552525, -0.105127515277, -0.155120206332, 0.196645096104, 0.0167458423856], [0.469644017083, 0.177777505998, 0.128334237778, -0.00458130563323, -0.146788300856], [-0.0972427346594, -0.0985016785712, -0.075862573055, -0.116548424015, -0.0665252784321], [0.208437577909, -0.178439584171, 0.113867688944, 0.0969473995523, 0.00743956827822], [-0.11903961169, -0.0548852720852, 0.0250155343998, 0.119058105617, -0.0580795635547], [0.0190725392245, -0.226891353143, -0.0136789638069, 0.11009810951, -0.0924692125017], [0.0987801665432, -0.170164853877, 0.119245767454, -0.00989279655515, 0.0450973492943], [0.0212327093992, -0.136344726877, -0.0486191372788, -0.110997197208, 0.0498203674824], [-0.0392126580657, 0.0602557938797, -0.0941655419751, -0.0719071808787, 0.2805419128], [-0.012872580417, -0.186238424356, 0.205042562115, -0.124090731925, -0.049269183002], [-0.0850289815549, -0.126035723893, 0.0464047937472, -0.0272689559568, -0.015607202383], [0.0204155114201, 0.109074224286, -0.0158684988347, -0.0201300840339, 0.375188271762], [0.0242629507044, 0.104615929077, -0.0370627116346, 0.00384155728997, 0.409079203867], [-0.0766555642811, -0.0328335337278, -0.161675153035, -0.177007279218, 0.152889324146], [0.165699864682, -0.193700864866, 0.31263815008, 0.117341095212, 0.100189501509], [0.0684810405958, -0.130518374523, -0.0936461605031, 0.0383862837096, 0.0765346172265], [-0.127634219583, -0.0733430013314, -0.173731173196, -0.176264494107, -0.0394445421201], [0.0912927805701, -0.284968924563, 0.161323786102, -0.000711761115426, -0.0749675869005], [-0.00469156386914, -0.0891673808011, 0.0118830007219, -0.097778165173, 0.140145918909], [0.0812304387136, -0.102356610939, 0.0897974854412, -0.169413215718, 0.2726576852], [0.0801737763285, -0.11188607843, 0.325809421951, 0.0785470854656, 0.128068897825], [0.0184621901848, 0.121289408056, -0.0145010616732, 0.000270133662662, 0.317147358009], [-0.0682732329228, -0.0605652367835, -0.10464943802, -0.0516676305916, 0.00224009730615], [0.054227845504, -0.110227767516, 0.0373769040878, -0.176826339185, 0.196087742123], [0.0784493178006, 0.0260129376728, 0.0866126607464, 0.153989370903, 0.163068172948], [0.0176802534328, -0.258064533804, 0.0825619510311, -0.09043375936, -0.0690196183437], [-0.0125936441612, -0.224158691471, 0.116303153755, -0.0925007539574, -0.0988462524046], [0.283039747952, 0.298468192887, 0.00381910117314, -0.00532672332387, 0.196363037366], [0.027219359617, -0.00939876050057, -0.00734035033181, -0.0871109947871, 0.293944689093], [-0.0869348742948, -0.079891602816, 0.142668418318, -0.131064562628, -0.00168978368157], [0.124793610198, 0.00438317290585, -0.0616390582504, -0.19066843704, 0.19644269244], [0.0929185993237, -0.219984902975, 0.28200806649, 0.00166764499938, 0.0379139273338], [0.0548907202067, -0.202762292327, -0.00579467861885, -0.0799909992069, 0.0216409733231], [0.0051131440433, -0.00962248136702, -0.0823947742464, -0.208319405935, 0.270257584805], [-0.0175897903401, 0.0354638280692, -0.0429924039514, -0.137608441549, 0.235843512623], [-0.108785188278, -0.102397956458, -0.16227149949, -0.0561920719689, -0.0500687014102], [0.0245220272711, 0.118611747401, -0.00480119934816, 0.0127859409822, 0.382270392572], [-0.091495113012, 0.0146764297315, -0.0641673615055, -0.144899550649, 0.198921354227], [-0.0333585812405, -0.143057396928, -0.00122842158811, 0.0407601085134, -0.046350561602], [-0.00559094779433, -0.0802698731301, 0.151410165516, -0.0197837814155, 0.115731290217], [-0.130284180072, 0.0127613643652, -0.12742175423, -0.018426241187, 0.0961273551549], [0.0674167813858, -0.223777446812, 0.261103872909, 0.0299471989996, -0.0321003273005], [-0.0996608330563, -0.134339005979, 0.0107460478888, 0.105177892466, -0.126442379646], [-0.0444816551947, -0.189486359599, 0.24668800366, 0.0170597764156, -0.122747419791], [0.0683049966569, -0.18776490825, 0.120191255359, -0.028428360435, -0.00630017870056], [-0.0339072726136, -0.0508604908142, 0.0234434780044, -0.117430275299, 0.0870523635725], [0.0630031559317, -0.215584480608, 0.294941187136, 0.0152827961706, -0.0478657623643], [-0.245072310996, 0.0263573361118, 0.0230277314883, -0.0380462649032, -0.0680453226813], [0.128364253039, 0.160031768351, 0.00264999123556, 0.0507313096523, 0.252257173966], [0.0920642531883, -0.134142102097, 0.0664374587144, -0.187566130758, 0.208457845768], [0.0251463553212, 0.128369173858, -0.00721919271005, 0.00359564419564, 0.396905587612], [0.0931941085297, -0.166159068293, 0.080990142219, 0.247121344404, 0.096322315986], [-0.0131857207643, -0.123270977327, -0.0522038290342, -0.274596412883, 0.156468163836], [-0.159501480049, -0.062238870384, -0.0444294954817, -0.0705395142081, -0.044914918006], [0.0508725249751, -0.0692156311668, 0.1027901873, -0.0698434867817, 0.189076824924], [-0.105013908158, -0.11105976783, -0.179226197955, -0.0734833123661, -0.0603354699694], [0.0591769635556, -0.202206742349, 0.0537032059641, -0.0966557124639, 0.012276200598], [-0.0243184007859, 0.0646196659878, -0.0306071600115, -0.11692113451, 0.351980987795], [-0.0125505114812, -0.0871354248929, 0.0289699467837, -0.0315295164017, 0.0468896569466], [0.458236089625, 0.221108487435, 0.276994196772, -0.0578096258372, 0.0247638947332], [-0.049547846665, -0.158384790265, -0.125171612866, 0.214948897854, -0.053754781973], [0.0484081253564, -0.220765143693, 0.11243870432, 0.0308228143398, -0.0226369142264], [0.0701256070045, -0.232301749613, 0.0307897793083, -0.107098963206, -0.0122618495895], [-0.00573084096129, -0.0148916735589, -0.0587462045475, 0.301479612159, 0.123808729858], [0.0818226660468, -0.214428213008, 0.178103208948, -0.105561323646, 0.093523355956], [0.0297473847602, -0.251280363863, 0.167231441332, -0.0689866775974, -0.0900503776116], [0.136267231868, -0.192209593508, 0.147598923503, 0.000624483920077, 0.131652181034], [0.0250268391347, 0.0728525624053, -0.0267596804625, 0.260894209282, 0.0636190537304], [0.0822091473585, -0.265677722448, 0.227509942219, -0.00948697200155, -0.036924201859], [0.18729758309, 0.164884686993, -0.0673252088672, 0.0839225180868, 0.275032395871], [0.0676497149994, -0.247909891068, 0.116643954057, -0.0799492494673, 0.0107465736785], [-0.0218165594167, 0.0473458134566, -0.0647899913072, 0.0234994689431, 0.306405905], [-0.161690413629, -0.0741088696202, -0.0620159202883, -0.148844388293, -0.111594193602], [0.0207060556709, -0.101480734166, -0.210778351164, 0.130791207357, 0.116026913347], [0.083629466151, -0.15824194846, 0.00592857702424, 0.194717450442, 0.0767214805719], [-0.0477624504085, -0.153879431413, 0.051869358455, -0.0373438431695, -0.0966265571835], [0.127408958663, -0.220217689985, 0.190357086944, -0.0728582027451, 0.0618075344161], [0.0864306785914, -0.115661880044, 0.13160162036, -0.0678872857566, 0.174242999266], [0.0358591272556, -0.19669661362, 0.317845598712, 0.124306197632, -0.0165608262796], [-0.02409124452, -0.0577649709867, -0.149079843812, 0.156991162679, 0.118133827959], [0.171688243036, 0.0496384238386, 0.04247120179, -0.089866894246, 0.156686127249], [0.291019412699, 0.0398201394555, -0.0165971936635, -0.195022515919, 0.00215551120794], [-0.269679438508, 0.158190980722, -0.0118333555756, -0.0403271184825, 0.00784287027478], [-0.21109287465, 0.0450573668592, 0.0261080697459, -0.133751020846, -0.00678952865034], [-0.122153377837, -0.0146457737145, -0.17064367409, -0.00939084764207, -0.00390533343457], [-0.377084378482, 0.307176343216, 0.174215279185, 0.0389814239393, -0.00958788879302], [-0.2997600801, 0.163499658632, 0.0398018354216, 0.0471876464422, -0.0400234119041], [-0.360670579972, 0.289756154115, 0.0984805059919, 0.00471156401158, -0.0134668205213], [-0.0294723850211, -0.0312254633287, -0.155667443863, 0.168940745876, 0.0833902069733], [-0.125763448085, 0.0114080656643, 0.157644727276, 0.0364063841086, -0.044774339053], [-0.279778272255, 0.200031701948, 0.0886949749882, 0.00355705800644, 0.0239202125611], [-0.327380142262, 0.134116358508, 0.0468690195116, -0.0906263157735, -0.0299030026], [-0.11866933513, 0.0577577223686, 0.00812725121219, -0.203482112855, 0.181154602733], [-0.281616730726, 0.234437259558, 0.0757516653687, 0.0052556941732, 0.0131779778437], [-0.376340909531, 0.330461550183, 0.175852416039, 0.0467380526856, 0.0344559454202], [-0.387619672863, 0.294426664352, 0.169347215954, 0.0390974510334, -0.0237049373743], [-0.302465983266, 0.249674400353, 0.156955955515, 0.036263758644, 0.034644747176], [-0.151109670617, -0.0276303666831, -0.106404021314, -0.127749248905, -0.0399985159183], [-0.265759283232, 0.0567090751852, -0.0460585098162, -0.0982799174098, -0.115379195453], [-0.375925137026, 0.335597147315, 0.177226764682, 0.0408164102942, 0.0365977439317], [-0.368795343948, 0.297943167374, 0.147608070109, 0.0475323898873, 0.00427285937608], [-0.0889671590521, -0.0391733593586, -0.064881781943, -0.0375658001595, 0.0243577819578], [-0.333616596318, 0.158563876709, 0.0628122041755, -0.0522942437083, -0.0989819116552], [-0.364797062432, 0.250246483707, 0.12934856534, 0.0033029398732, -0.0349593182529], [-0.345928812585, 0.265549468775, 0.133959327715, 0.037463237056, -0.0260074235557], [-0.233735157133, 0.127212609585, 0.033924209665, -0.0796491625778, 0.0449800134722], [-0.227271568808, 0.0629117472697, 0.0622188698948, 0.0167113023758, -0.0525666652627], [-0.379195379238, 0.319226618389, 0.113180693886, 0.0205401138555, -0.0226884280895], [-0.361630923639, 0.252252295652, 0.119930309609, 0.0303310904961, -0.0309266436212], [-0.327212642943, 0.208350709345, -0.00815783733961, -0.055672476062, -0.0483400916483], [-0.333612851266, 0.260011392161, 0.0543767131909, -0.0359882301751, 0.0227518469325], [-0.0546129190719, 0.00346720877475, -0.192954128678, -0.0221798155908, 0.0668311742141], [-0.378264787652, 0.261133713088, 0.084835898325, -0.0196745954514, -0.0257212885351], [-0.149109747875, -0.0393223499139, 0.0419747557703, 0.0562119102488, -0.0378708021704], [-0.374708349351, 0.259313263045, 0.139892331465, 0.0482720222749, -0.02897090043], [-0.283788585582, 0.146490209467, 0.0773332661944, -0.0722120922901, 0.00660236509175], [-0.386811746261, 0.263730267407, 0.104690535058, 0.0192475809659, -0.0371625941517], [0.0017140916363, -0.0548114338051, 0.0954268750058, -0.0431043219771, -0.0735676737304], [-0.228120731219, 0.0991555944517, -0.0118187769953, -0.091005507175, 0.0325855592079], [-0.288883895839, 0.245670516707, 0.118638433823, -0.00649790440323, 0.0525771205216], [-0.380486564279, 0.284834828535, 0.133063162767, 0.0256460298978, -0.0133964176811], [-0.113042877919, -0.0592174265321, -0.0761239762019, -0.104411488007, -0.0162068814954], [-0.354301728782, 0.331674161501, 0.163272032194, 0.0335520053873, 0.0407149645523], [-0.34294228111, 0.235344603648, 0.125196415511, -0.0116852809958, -0.0358658112953], [-0.228713097767, 0.0907064021865, 0.0344312079311, -0.012641654381, -0.0347517416603], [-0.352154737673, 0.19191298281, 0.0606285619369, 0.0118801418849, -0.074119313924], [-0.354811939432, 0.271965436146, 0.0794220461261, 0.0264321054426, 0.0181044127975], [-0.160739456038, -0.05831332062, 0.0434528850532, -0.0948028764622, -0.106339365292], [-0.218784963928, 0.252192366089, 0.0155233074755, -0.0323124402334, 0.0140146981412], [-0.376179809525, 0.280619517587, 0.152422240444, 0.0528322647675, -0.0309919155433], [-0.324638948121, 0.268362697418, 0.162716649099, 0.0596821411121, 0.0235317270839], [-0.173068102816, 0.103571185699, -0.0889833186274, 0.291765462002, 0.0788329604569], [-0.346736042788, 0.244330886612, 0.10921175105, 0.0145823270299, -0.00335762553924], [-0.351996711746, 0.2805773553, 0.0678869828322, -0.0150574343949, 0.0226741830061], [-0.364696779332, 0.295698934501, 0.104565785416, -0.00947275129833, -0.0217389914017], [-0.0743479921306, 0.143270642053, -0.0995635525159, -0.071315357033, 0.000643245096571], [-0.185339185728, 0.104909399354, 0.0216671575986, -0.15140738509, 0.15190563365], [-0.173065724966, -0.0171960699037, 0.0355629968874, -0.0661581495888, -0.088096465852], [-0.2921294231, 0.117923764204, 0.00337389125608, 0.0488257964907, -0.1002574401], [0.0151886028692, 0.123490781997, 0.0194000193669, 0.00314987947293, 0.184630648581], [-0.330952039404, 0.150027786474, 0.107285947236, -0.0503300445795, -0.0876314898011], [-0.218596011992, -0.0124674017881, 0.00616354228885, -0.0729116349212, -0.116277635703], [-0.357270714959, 0.257923500836, 0.174141786304, 0.0171525652129, -0.0288950106565], [0.0417242644309, -0.0382974167849, 0.0851538822911, -0.0644387575609, -0.0749648727918], [-0.358908686854, 0.304424691313, 0.206986434142, 0.0340318674563, -0.0221600171486], [-0.10275862575, 0.372435441516, -0.00480013175892, -0.0652006655857, 0.011449777748], [-0.145242723975, -0.00410263876344, -0.0334148684826, -0.0526252195535, -0.0227714979216], [-0.30485380512, 0.108711403688, -0.0318850046333, -0.0923731391261, -0.105472218654], [0.0138230206441, 0.0605879435539, -0.0465122032419, -0.0388543782432, 0.0302362682142], [-0.0437757621094, -0.0180268391121, -0.210190198192, -0.0213455236589, 0.103176012906], [-0.296632792067, 0.139706760146, 0.0697766092283, -0.000845988955509, -0.0756821088376], [-0.117809711552, 0.0110410603881, -0.101173595011, -0.0510392981649, 0.0494552174728], [-0.312215219076, 0.179024329553, 0.0669307255398, 0.00942110016277, -0.0401175724972], [-0.386417519957, 0.278123788056, 0.150387455922, 0.0222805269064, -0.0309630038937], [-0.21458239355, 0.152822502165, 0.0225794922444, -0.0532906299914, 0.0736211762877], [-0.354570484837, 0.292059247139, 0.119553160901, 0.022682421999, -0.0109982238551], [-0.40103035571, 0.273334110242, 0.158437870354, 0.0368460375718, -0.0639992503575], [-0.333766205576, 0.220064074165, 0.0861257658794, -0.0278032826141, -0.0286146345763], [-0.299973526927, 0.130710710038, -0.0717955200407, -0.127688560522, -0.0525262413386], [-0.218034285132, 0.0313669362479, 0.0406069515091, -0.0671281646131, -0.0687648062974], [-0.212487675909, 0.172555414634, 0.0140217432514, -0.0163280629085, 0.0613593308347], [-0.324597113717, 0.201050586235, 0.133277961461, 0.0277965328034, -0.0278869037292], [-0.275996816146, 0.180944811713, -0.0722768654897, -0.106624577343, 0.0297637477674], [-0.144745094712, -0.0090498554863, -0.0591204386863, -0.115673385011, -0.0183982767316], [0.0445167395311, -0.129513553567, -0.12755568494, 0.201702747828, 0.017150276561], [-0.108635938272, -0.121132287058, -0.107681783377, -0.0606918776235, -0.0986046296259], [-0.0500075210779, -0.125732795063, -0.14809959343, -0.0239504319692, -0.0572425521163], [-0.185424804188, -0.0400611374561, 0.00587353176615, 0.00801404034646, -0.16112333741], [-0.16599954095, 0.0138671880201, -0.105499897539, 0.00360907298906, -0.0360788486042], [-0.237745684615, 0.0327387568278, 0.0162305728494, 0.0286059293197, -0.125300103908], [-0.102742171898, -0.0799320093496, -0.0482930928172, -0.0975949086035, 0.0208381795172], [0.0650774303049, -0.00755979027707, -0.0778800027661, -0.210796022449, 0.0750354862468], [-0.0215351162315, -0.184246076288, -0.0270340837496, -0.00968198940744, -0.0833083171325], [-0.0752882121973, -0.0983559495924, -0.132569574901, -0.148181768145, -0.0642350335395], [-0.160551887307, 0.0204796087352, 0.116750925014, -0.0332302736051, -0.0161622144074], [0.0909434631715, -0.277618344301, 0.0515627489225, -0.0415542803655, -0.0639074709955], [-0.110276597458, -0.0474331701411, -0.193048936158, 0.0303006066611, -0.0354474171797], [0.0524009517054, -0.0243559103435, 0.112473596988, -0.0220398794437, 0.152758262124], [-0.043221695666, -0.0890991770647, -0.100650900552, -0.0750890274513, 0.0165834190165], [0.317737472516, 0.114217790937, -0.186774013065, 0.125372095342, -0.157248184111], [-0.149600772947, -0.12591192065, 0.00828423580304, -0.12837119961, -0.161838530198], [-0.130968217671, -0.0315451723909, -0.203211761119, -0.0743319162599, -0.00235989971064], [0.0210888952358, -0.222130178284, -0.00849874791346, -0.0967054757486, -0.0692388565806], [-0.108386463711, 0.170828228459, -0.0370241380821, 0.00223996288182, -0.0612063124316], [-0.0669151665723, 0.0627125522081, 0.0639468827898, 0.135030154961, 0.121298655343], [-0.106414773151, -0.055312370781, -0.140192545695, 0.0078023657552, -0.0537089212789], [0.168179609335, -0.20300633623, 0.13908711554, 0.264655103813, 0.100738323221], [0.0680208216334, -0.234656254183, 0.107739911712, -0.114460849981, -0.00843741380248], [0.00300663094359, -0.179076949359, 0.221689038, 0.100261677555, -0.0522028672954], [-0.0389185951648, -0.181966100503, -0.072201952075, -0.103978958155, -0.0873668811407], [-0.027904049142, -0.110515498146, -0.0882092756123, 0.105294310613, -0.0471932158416], [-0.0536470726088, 0.0213205837164, -0.203397906589, -0.105962239123, 0.120918450748], [-0.0615886585124, -0.12769826652, -0.149428525564, 0.00207731651681, -0.0670147540603], [-0.0944336658987, -0.0701597317644, -0.167124082477, -0.0893382784333, -0.0259160520133], [-0.175470291858, 0.00178759443, -0.0804270307972, -0.0623058319052, -0.0349365480007], [0.0309584065698, -0.148631375089, -0.0975234278208, 0.0158709352077, 0.0249083409851], [-0.0994441427731, -0.070976904954, -0.16791157831, 0.044706698053, -0.0102165287115], [-0.0792820316569, -0.173435427971, -0.0729177873884, 0.0507998301415, -0.156952179066], [-0.180625979807, 0.0402381553009, -0.059813920265, 0.111167946174, -0.07089293952], [-0.263990046917, 0.0226614493268, -0.114494075088, -0.0777869693493, -0.12741904674], [-0.00790611163478, -0.110841685694, -0.18057504697, -0.0923775852285, 0.0118201914442], [0.121875405618, -0.0402533556295, -0.0638083612433, 0.123382722593, -0.136946184824], [0.177013841711, -0.198040495292, 0.198734303986, 0.0264527330447, -0.0119291651949], [-0.0813688666812, -0.0695963652236, -0.15997353151, -0.0735306660475, 0.0347532400488], [0.140012729574, 0.0923858987256, -0.189961346859, 0.104541608951, 0.00957202583387], [-0.00169708841764, 0.00367209771212, -0.170998215865, 0.261163773525, 0.124966298579], [-0.000126425434674, -0.210423632461, 0.106709212025, 0.0410330186583, -0.0788055197003], [-0.0595296192834, -0.00161594546419, -0.235307312335, -0.0939634409316, 0.00934374092619], [-0.159836740266, -0.0747972319489, -0.150638038498, -0.0149063630801, -0.141392816323], [-0.111947702492, 0.0309702619644, -0.114750087719, -0.160949346679, 0.0628419367805], [-0.0270744480629, -0.235845829105, 0.180583618124, 0.0316514910133, -0.134690661368], [-0.0781138030371, -0.113043617013, -0.283863412625, 0.012444956091, -0.0254645151548], [-0.0023223477138, -0.102842593707, 0.0283357645451, 0.0417886631407, -0.0257240620072], [-0.214224955248, 0.103458190537, -0.0175351983878, 0.00955701292187, 0.0033133583676], [-0.14274328704, 0.0210400746125, -0.0390305714597, 0.0429338421403, 0.0104538059352], [-0.206920792574, 0.0472367841265, -0.0534470629014, 0.135286433712, -0.029658320975], [0.117471913008, -0.0450915525229, -0.052948574283, -0.000196133484706, -0.0811986811102], [0.0393352377186, -0.116148512188, -0.0717148531314, 0.40584746573, 0.0156318378122], [0.247215304651, -0.0403272542731, -0.0745931962995, -0.0738747457018, -0.106613288577], [-0.00833530793587, -0.13945139262, 0.0330281275098, 0.00803570176022, -0.00403252617226], [-0.145026939463, -0.0711542611166, -0.160200501972, -0.0207034067668, -0.108918750326], [0.00521080385348, -0.12618481678, -0.0776268797291, -0.0626263268992, 0.0105542497161], [-0.205889648717, 0.0466762461858, -0.0687245015791, -0.0296106435818, -0.0539055093216], [0.130706054683, -0.106068611139, -0.0975726362121, -0.0142124793429, 0.0923109086491], [-0.223363232799, 0.0671270392259, -0.0515978438985, 0.0113356107882, -0.050884199616], [-0.17302880878, 0.0520954473191, 0.121207981054, 0.0244689901701, -0.0256765733103], [0.0171967572501, -0.21915032336, 0.093894097442, 0.0809218196729, -0.0847841216972], [-0.037436765347, -0.139913806166, -0.150294220431, -0.153015137449, -0.0206971546653], [-0.0832771419317, -0.0885712976623, -0.184702475626, -0.160668688518, -0.00951349936451], [-0.150542235135, -0.0444192094075, -0.128468606284, 0.0367251622718, -0.0864497218816], [0.195745640066, 0.145082312523, -0.0899347251988, 0.272190592826, -0.126085167981], [0.314801459312, 0.199315680873, 0.0819246859278, -0.0609710261972, -0.153844963876], [-0.0411013487263, -0.0778563862677, -0.15352197925, -0.044230844375, 0.0405035057518], [0.10711124997, -0.012478399436, -0.0897718814762, 0.0117286172615, -0.137392795406], [0.0398597895934, -0.171938331248, 0.0658879919854, 0.0149323142353, 0.00976672560971], [0.0904130936361, -0.170987579398, 0.143735272108, 0.167388096171, 0.031920306014], [0.0933938618871, -0.250059785483, 0.0385344026697, -0.108671513629, 0.000138943770043], [-0.11697909003, -0.00582910843552, 0.159552383418, 0.141901302613, -0.0169992492236], [-0.104787751068, -0.107278693405, -0.216253455876, 0.0511484097615, -0.0726593758762], [0.0979786574716, -0.184050850807, 0.273962178419, -0.0418801275925, 0.0501178619967], [0.191177268263, 0.246999751947, 0.0121918192436, -0.0581022726783, -0.191851536963], [-0.143441249606, 0.0569855849821, -0.0788750432017, 0.00871178636054, 0.0444186096068], [-0.0195545959364, -0.0538069198971, -0.047926993955, 0.000474551797998, -0.124503559961], [-0.0820754607974, -0.0634678303618, -0.227334207696, 0.150327837385, -0.00863495113908], [-0.0115233611675, -0.192473203856, -0.101324076062, 0.0914039544077, -0.0807166962078], [-0.177453532655, -0.02018134175, -0.159530827566, -0.120370767323, -0.0732325949468], [-0.00794613070627, -0.110970690114, -0.148125269584, -0.0957644180625, -0.0020480866841], [-0.0275701943368, -0.153527227199, -0.120285567582, -0.0535477598272, -0.0487757969511], [0.402234166428, 0.0212931699994, 0.0439302947866, 0.0802998200915, -0.142009839631], [0.0734437367075, -0.0451833332179, -0.109902253335, 0.365569204656, -0.00256458210972], [0.0387685373013, -0.11192091699, -0.0742695889646, 0.412354598468, 0.0467554985613], [-0.138242127195, 0.111548141546, -0.0383618952291, -0.0408709200079, -0.128374588641], [-0.0353682593585, -0.00394317073973, -0.197818867543, -0.125211627163, 0.0832599105076], [-0.0454369856219, 0.0368662311785, -0.103766736633, 0.00345413941139, 0.0888774106092], [0.068524161282, -0.0375411204438, -0.150998315661, -0.0912180385113, 0.0447128720291], [-0.14164932057, -0.104894455967, -0.0276934764365, -0.115499898739, -0.15787305375], [-0.201575811003, 0.0554915369782, 0.151083089783, 0.0514162852571, -0.0922312535085], [-0.0363057676482, -0.135452022011, -0.257185627951, 0.101995675725, -0.0288271508863], [-0.00401118116178, 0.256386871087, -0.0410539836625, 0.0107424643647, 0.0563591613414], [-0.113298498567, 0.0907332054945, -0.0601834023396, 0.0470998292275, 0.153413947486], [-0.0547034696123, 0.24886657156, 0.137039516001, 0.161522249651, -0.0165703749618], [-0.0605980923955, -0.156805063578, -0.091185067064, -0.106783211141, -0.0811913947285], [-0.0181426678801, 0.0263631661718, -0.075712479688, 0.443563502954, 0.120882551207], [0.0264974540906, 0.0913702651354, -0.195851598584, -0.0364163524453, 0.228787310395], [0.152778135986, -0.124768018625, 0.00825695377309, -0.0337945845465, -0.124095832261], [-0.198730647608, 0.163291704125, -0.0156286169188, -0.0100262629038, 0.124668906849], [0.0274122962221, -0.0975847055954, -0.110120371162, 0.156599736131, 0.0663919769205], [-0.0678820778919, 0.138556163489, -0.0319312491978, 0.0439274989456, -0.145057681549], [0.0858495577245, -0.244093045961, 0.0622540480296, 0.0306995523454, -0.0370794901377], [-0.0532386330518, -0.10023098445, -0.109615429812, -0.0426801023679, -0.0172744301649], [-0.0928068722963, -0.1026249813, -0.152662256863, -0.194858943165, -0.0125993055154], [-0.100294417901, -0.134743488905, -0.0868044905751, -0.130781349367, -0.120639437636], [-0.0363696728961, -0.00638523628903, -0.12815429145, 0.00303879123886, 0.0768000669603], [-0.16610542204, -0.0392854196016, -0.0194384920016, 0.0490630731268, -0.104996172661], [-0.240472922609, 0.0708072145069, 0.057065647136, 0.0137093721126, -0.0852863675443], [-0.0908913382879, -0.0537482304073, -0.121123707147, -0.0915744538567, -0.01942304135], [0.0323957162786, -0.227204550566, 0.0403425080518, 0.0714146136594, -0.0962498506881], [0.0225550027747, -0.135456127343, -0.0838861222339, 0.0954664232011, -0.0067155130154], [0.155832873242, 0.128663427586, -0.0950324791658, 0.214250802971, -0.0464252948753], [0.10460719155, -0.0582636786573, 0.134002777706, 0.025027581189, 0.115456558749], [-0.18001302393, 0.0957849973865, 0.0412244937286, 0.286161795839, 0.0310509607817], [-0.0670302261629, -0.108031424488, -0.0512829908763, 0.086214227252, -0.0794689473568], [-0.0304434926058, -0.223914050011, 0.0803652332963, -0.115947364928, -0.146108784929], [-0.071203381019, -0.0567685104483, -0.261262472175, -0.0256012701798, 0.0343303318981], [-0.0131349541672, 0.192880966511, 0.116480718264, 0.0823426215642, 0.0963263908664], [-0.0763688548324, -0.0353205045834, 0.0450013162758, 0.385515453525, -0.0429798872323], [-0.259542491728, 0.0798437158381, -0.0310684405249, -0.0469127294363, -0.0876139190806], [0.0641444494042, -0.216413946983, 0.00215363559754, -0.0787121558298, -0.041728291623], [-0.0142048408789, -0.122172185753, 0.00501018239577, 0.0287892674952, -0.00702410620005], [0.0379567329573, -0.155314890081, -0.0464913053369, -0.099528081033, 0.0195591888673], [-0.141173163385, 0.0345503328148, -0.105600360147, -0.0261420840176, -0.0554788733883], [-0.0340487734534, -0.0670749111882, -0.203229423463, -0.0936174482422, -0.0548567958525], [0.0719750277239, -0.125868019881, 0.010517716232, 0.001624759856, -0.122602276585], [-0.134475321786, -0.0655979117491, -0.188544717754, -0.148646089149, -0.0355800894223], [0.306807100453, 0.338024436284, -0.101456381271, -0.0583805690908, -0.147035868145], [0.0126747905408, -0.118489058919, -0.146164840401, -0.253210572409, 0.197230214589], [0.342659079253, 0.143518891159, 0.0359804658255, -0.0434104167588, -0.120136007948], [-0.0145680356496, 0.025423813036, -0.248568568317, 0.225035652314, 0.197094420591], [0.0395145369896, -0.235439230014, 0.178208579761, -0.033239782972, -0.088547653541], [-0.104189104675, -0.00275306881046, 0.158043014511, 0.205477992174, -0.0471921112112], [-0.206334038574, 0.0183882328407, -0.0507298584212, -0.106767135391, -0.0413340212263], [0.0277461971981, -0.11770149411, 0.0305595700595, 0.121181996957, -0.0550660219751], [-0.0654994516456, -0.0904356072579, -0.134974007895, -0.0427247981867, -0.030291789667], [0.0383661782574, -0.139212685569, -0.0943580401186, -0.13523529504, 0.0622138863103], [0.292321280732, 0.229754441919, -0.214786938586, 0.202038803962, 0.0191758976649], [-0.224950179712, 0.0094605317921, -0.127875422411, -0.114131542768, -0.0943154218145], [-0.0205670104239, -0.0896432373257, -0.00444214191724, -0.111736197234, 0.0872186445419], [-0.0163827007436, -0.0891565943591, 0.0833510949218, 0.152613778934, -0.074663274049], [0.0208815227575, -0.234664014453, 0.0290166733688, 0.0406979946164, -0.098584160445], [-0.0391728796249, -0.109638766769, -0.166397655842, -0.184441322272, 0.0217255711125], [0.0586654670394, -0.120285508574, -0.169174097364, 0.367264498276, 0.0579771296631], [-0.313359994752, 0.145216880592, 0.102023008217, 0.0260963760533, -0.0949979776953], [0.0258618922786, -0.193559124229, 0.253636699773, 0.148929315828, -0.0544179455285], [-0.234592876549, 0.111447266583, 0.185451597632, 0.029040495038, -0.0364543054338], [0.090303476997, -0.203235642421, 0.137727683544, -0.162331404463, 0.15674986732], [-0.337546466742, 0.129706926744, 0.0234633662736, -0.0559951684986, -0.0980735628753], [0.0812367186127, -0.195438804009, 0.0317519391971, -0.120160772583, 0.0527760451182], [0.0411742772707, -0.0615095418549, -0.20513608425, 0.0256048322973, 0.109146025767], [-0.0254932428752, -0.185075460589, -0.117259421589, -0.05966942629, -0.0859540134301], [-0.249717614441, 0.147722999352, 0.013982235604, 0.0453617075923, -0.00364259318597], [0.0383154388517, 0.0462032717653, -0.253868161049, -0.126789741181, 0.0404737765546], [-0.0565466283553, -0.104896419409, -0.0722571575229, -0.0400829688452, -0.0615478409733], [-0.113436492941, -0.113618918033, -0.0868385168112, 0.0570925681744, -0.132956221816], [-0.0803217019736, -0.0649628458543, -0.217923682794, 0.260061851576, -0.00952307131704], [0.00408509186752, -0.0929674462269, -0.1785934589, -0.00841600699227, 0.0532813208529], [-0.169527133096, -0.039257691784, -0.110561214127, -0.0654818801493, -0.101696041036], [0.0104593415882, -0.149546550115, -0.209157086135, -0.0150944706072, -0.0181763233461], [-0.12058711159, -0.0450901366814, -0.16329442251, 0.0799133679818, -0.013644582168], [-0.155581927523, -0.0800279966375, 0.121453577822, -0.0054593414718, -0.16854579169], [-0.281730651957, 0.170094735836, 0.116169206207, 0.0700121726044, -0.0592101883353], [-0.207967939814, 0.0173583668557, -0.17041671841, -0.0158362955174, -0.0668962549601], [-0.0689686379397, -0.102576111368, -0.118814507346, 0.150377848335, -0.108174157856], [-0.148171806982, -0.0902021544011, 0.0209779381614, -0.0482551813725, -0.096402952833], [-0.0770187484178, -0.14328113472, -0.158165287735, -0.0773606773254, -0.0993473269114], [-0.00535195833476, -0.190955219221, -0.115733949356, -0.0862200863902, -0.102270208106], [-0.0735449300737, -0.023710902728, 0.0231328301976, 0.177869115514, -0.013021173958], [0.0926689439073, -0.267629605553, 0.165920003491, -0.0174034133756, -0.0182217365416], [-0.0229207987653, -0.049648998714, -0.257237944195, -0.136799821402, 0.0324314920218], [-0.186166129359, -0.0619900432103, -0.0190125268778, -0.0455604101176, -0.135291287366], [-0.0684520928552, -0.00790565347434, -0.126898481226, 0.0911463717379, -0.0987407225708], [-0.0999445105657, -0.153163752577, -0.124706171166, 0.145408285955, -0.148644143669], [-0.00207390416012, -0.0829973489285, -0.147747224181, 0.363724305701, 0.00571767597032], [0.0266371310248, -0.103325910779, -0.00153186642275, -0.0901562369875, 0.143426350987], [-0.110916204696, 0.0106225711781, -0.0299739052098, 0.0501323867872, -0.0353328383468], [0.0390788977448, 0.175924270853, -0.110901427233, -0.118503312814, -0.0152631329631], [-0.22044993218, 0.12802928871, 0.0389687875844, 0.0180472327802, -0.0622900557254], [-0.166903331067, 0.165845331293, 0.18232053443, 0.0932330578583, 0.0583788892702], [-0.0954965150631, -0.0564237700379, 0.346787651857, -0.00057333573177, -0.0450168514911], [-0.277271809575, 0.10403211901, 0.203814730852, 0.067096429102, -0.136251599913], [-0.0679551099924, -0.179246177113, 0.0190846567896, 0.0176815560192, -0.163287843648], [-0.0102339214578, -0.118871334915, -0.038928410635, 0.115481736273, -0.0237972710273], [0.0885465001501, 0.153143402489, -0.0228094229003, 0.0198868545473, -0.183887698296], [0.0172444478145, -0.199365675572, 0.135339239045, -0.0093877440026, -0.0319242116271], [0.0757505056866, -0.204760975914, 0.155453156221, 0.12666600876, -0.0129420982415], [0.100095430644, -0.287281920104, 0.158566558807, -0.00073790183194, -0.0363262069997], [-0.0419209096918, -0.121699854817, -0.110263188322, 0.0206773708589, -0.022546143982], [0.000167184921823, -0.134013544927, -0.0481365626055, 0.22219410886, -0.0559190859493], [-0.0406888629774, -0.169030510758, -0.0903142987459, -0.0607178504465, -0.0950582521255], [0.0484780844935, -0.237384254142, 0.118120764447, -0.0329795446141, -0.00230233913848], [0.0995672467799, -0.0150174106401, -0.0112763303218, 0.0769493153007, -0.0741858151026], [0.0496270558599, -0.27394656371, 0.0266927026564, 0.0956343064881, -0.0960055959514], [-0.143205983535, -0.044656616838, -0.073068691681, 0.0180474297501, -0.0914116161328], [-0.00834428508909, -0.122165226954, -0.202678652675, 0.210581204828, -0.0606092448499], [-0.0772406651132, -0.0880715223092, 0.0919562068206, 0.0684169625065, -0.0811566489813]];\n",
       "  var pct_var = [9.85884848745, 7.320241695510001, 4.08456832009, 3.42401112513, 3.07469714885];\n",
       "  var md_headers = ['SampleID', 'origexp', 'bloomlevel'];\n",
       "  var metadata = [['10317.000012318', 'ag-6-2016.clean.min100.withtax.biom', '197'], ['10317.000014290', 'ag-6-2016.clean.min100.withtax.biom', '2300'], ['10317.000015623', 'ag-6-2016.clean.min100.withtax.biom', '1411'], ['10317.000030000', 'ag-6-2016.clean.min100.withtax.biom', '2736'], ['10317.000013526', 'ag-6-2016.clean.min100.withtax.biom', '16'], ['10317.000013733', 'ag-6-2016.clean.min100.withtax.biom', '23'], ['10317.000033692', 'ag-6-2016.clean.min100.withtax.biom', '4782'], ['10317.000016727', 'ag-6-2016.clean.min100.withtax.biom', '51'], ['10317.000003161', 'ag-6-2016.clean.min100.withtax.biom', '549'], ['10317.000022430', 'ag-6-2016.clean.min100.withtax.biom', '7378'], ['10317.000029356', 'ag-6-2016.clean.min100.withtax.biom', '249'], ['10317.000018338', 'ag-6-2016.clean.min100.withtax.biom', '6332'], ['10317.000026184', 'ag-6-2016.clean.min100.withtax.biom', '88'], ['10317.000027869', 'ag-6-2016.clean.min100.withtax.biom', '2527'], ['10317.000011369', 'ag-6-2016.clean.min100.withtax.biom', '4347'], ['10317.000022048', 'ag-6-2016.clean.min100.withtax.biom', '2933'], ['10317.000034181', 'ag-6-2016.clean.min100.withtax.biom', '4279'], ['10317.000005805', 'ag-6-2016.clean.min100.withtax.biom', '6215'], ['10317.000007176', 'ag-6-2016.clean.min100.withtax.biom', '23'], ['10317.000013419', 'ag-6-2016.clean.min100.withtax.biom', '4'], ['10317.000014182', 'ag-6-2016.clean.min100.withtax.biom', '4112'], ['10317.000002597', 'ag-6-2016.clean.min100.withtax.biom', '7467'], ['10317.000016263', 'ag-6-2016.clean.min100.withtax.biom', '92'], ['10317.000027295', 'ag-6-2016.clean.min100.withtax.biom', '607'], ['10317.000001328', 'ag-6-2016.clean.min100.withtax.biom', '5977'], ['10317.000013937', 'ag-6-2016.clean.min100.withtax.biom', '28'], ['10317.000039938', 'ag-6-2016.clean.min100.withtax.biom', '1087'], ['10317.000030221', 'ag-6-2016.clean.min100.withtax.biom', '5386'], ['10317.000030041', 'ag-6-2016.clean.min100.withtax.biom', '874'], ['10317.000022516', 'ag-6-2016.clean.min100.withtax.biom', '4607'], ['10317.000014188', 'ag-6-2016.clean.min100.withtax.biom', '42'], ['10317.000013425', 'ag-6-2016.clean.min100.withtax.biom', '67'], ['10317.000021974', 'ag-6-2016.clean.min100.withtax.biom', '13'], ['10317.000017327', 'ag-6-2016.clean.min100.withtax.biom', '581'], ['10317.000030511', 'ag-6-2016.clean.min100.withtax.biom', '1394'], ['10317.000018302', 'ag-6-2016.clean.min100.withtax.biom', '4832'], ['10317.000016717', 'ag-6-2016.clean.min100.withtax.biom', '10'], ['10317.000015830', 'ag-6-2016.clean.min100.withtax.biom', '81'], ['10317.000037505', 'ag-6-2016.clean.min100.withtax.biom', '5599'], ['10317.000017175', 'ag-6-2016.clean.min100.withtax.biom', '2451'], ['10317.000021235', 'ag-6-2016.clean.min100.withtax.biom', '9610'], ['10317.000001948', 'ag-6-2016.clean.min100.withtax.biom', '5712'], ['10317.000017079', 'ag-6-2016.clean.min100.withtax.biom', '44'], ['10317.000041962', 'ag-6-2016.clean.min100.withtax.biom', '41'], ['10317.000040319', 'ag-6-2016.clean.min100.withtax.biom', '3159'], ['10317.000001028', 'ag-6-2016.clean.min100.withtax.biom', '3887'], ['10317.000020533', 'ag-6-2016.clean.min100.withtax.biom', '53'], ['10317.000017354', 'ag-6-2016.clean.min100.withtax.biom', '5'], ['10317.000005902', 'ag-6-2016.clean.min100.withtax.biom', '113'], ['10317.000002114', 'ag-6-2016.clean.min100.withtax.biom', '8638'], ['10317.000017647', 'ag-6-2016.clean.min100.withtax.biom', '1117'], ['10317.000015851', 'ag-6-2016.clean.min100.withtax.biom', '4705'], ['10317.000030180', 'ag-6-2016.clean.min100.withtax.biom', '2431'], ['10317.000014667', 'ag-6-2016.clean.min100.withtax.biom', '20'], ['10317.000029509', 'ag-6-2016.clean.min100.withtax.biom', '85'], ['10317.000030733', 'ag-6-2016.clean.min100.withtax.biom', '357'], ['10317.000013226', 'ag-6-2016.clean.min100.withtax.biom', '1967'], ['10317.000001321', 'ag-6-2016.clean.min100.withtax.biom', '4661'], ['10317.000026187', 'ag-6-2016.clean.min100.withtax.biom', '6243'], ['10317.000006657', 'ag-6-2016.clean.min100.withtax.biom', '10'], ['10317.000018081', 'ag-6-2016.clean.min100.withtax.biom', '1044'], ['10317.000009716', 'ag-6-2016.clean.min100.withtax.biom', '2556'], ['10317.000003266', 'ag-6-2016.clean.min100.withtax.biom', '828'], ['10317.000036682', 'ag-6-2016.clean.min100.withtax.biom', '5245'], ['10317.000013274', 'ag-6-2016.clean.min100.withtax.biom', '98'], ['10317.000026114', 'ag-6-2016.clean.min100.withtax.biom', '241'], ['10317.000013913', 'ag-6-2016.clean.min100.withtax.biom', '16'], ['10317.000030627', 'ag-6-2016.clean.min100.withtax.biom', '3673'], ['10317.000001751', 'ag-6-2016.clean.min100.withtax.biom', '3775'], ['10317.000038352', 'ag-6-2016.clean.min100.withtax.biom', '12'], ['10317.000033003', 'ag-6-2016.clean.min100.withtax.biom', '13'], ['10317.000037949', 'ag-6-2016.clean.min100.withtax.biom', '14'], ['10317.000007732', 'ag-6-2016.clean.min100.withtax.biom', '134'], ['10317.000017203', 'ag-6-2016.clean.min100.withtax.biom', '12'], ['10317.000014102', 'ag-6-2016.clean.min100.withtax.biom', '62'], ['10317.000006690', 'ag-6-2016.clean.min100.withtax.biom', '343'], ['10317.000005554', 'ag-6-2016.clean.min100.withtax.biom', '34'], ['10317.000001917', 'ag-6-2016.clean.min100.withtax.biom', '18'], ['10317.000020634', 'ag-6-2016.clean.min100.withtax.biom', '64'], ['10317.000030538', 'ag-6-2016.clean.min100.withtax.biom', '7303'], ['10317.000003196', 'ag-6-2016.clean.min100.withtax.biom', '3967'], ['10317.000020396', 'ag-6-2016.clean.min100.withtax.biom', '4515'], ['10317.000027281', 'ag-6-2016.clean.min100.withtax.biom', '1522'], ['10317.000014458', 'ag-6-2016.clean.min100.withtax.biom', '14'], ['10317.000008990', 'ag-6-2016.clean.min100.withtax.biom', '5872'], ['10317.000042738', 'ag-6-2016.clean.min100.withtax.biom', '16'], ['10317.000029342', 'ag-6-2016.clean.min100.withtax.biom', '4'], ['10317.000011240', 'ag-6-2016.clean.min100.withtax.biom', '118'], ['10317.000026530', 'ag-6-2016.clean.min100.withtax.biom', '4754'], ['10317.000022666', 'ag-6-2016.clean.min100.withtax.biom', '9640'], ['10317.000014558', 'ag-6-2016.clean.min100.withtax.biom', '8'], ['10317.000014967', 'ag-6-2016.clean.min100.withtax.biom', '18'], ['10317.000003225', 'ag-6-2016.clean.min100.withtax.biom', '3389'], ['10317.000010901', 'ag-6-2016.clean.min100.withtax.biom', '5783'], ['10317.000023783', 'ag-6-2016.clean.min100.withtax.biom', '7065'], ['10317.000023929', 'ag-6-2016.clean.min100.withtax.biom', '3388'], ['10317.000007792', 'ag-6-2016.clean.min100.withtax.biom', '1675'], ['10317.000010232', 'ag-6-2016.clean.min100.withtax.biom', '3069'], ['10317.000041714', 'ag-6-2016.clean.min100.withtax.biom', '6'], ['10317.000010259', 'ag-6-2016.clean.min100.withtax.biom', '7266'], ['10317.000013397', 'ag-6-2016.clean.min100.withtax.biom', '82'], ['10317.000020047', 'ag-6-2016.clean.min100.withtax.biom', '1745'], ['10317.000014888', 'ag-6-2016.clean.min100.withtax.biom', '2695'], ['10317.000002201', 'ag-6-2016.clean.min100.withtax.biom', '3036'], ['10317.000022608', 'ag-6-2016.clean.min100.withtax.biom', '232'], ['10317.000004878', 'ag-6-2016.clean.min100.withtax.biom', '9110'], ['10317.000030349', 'ag-6-2016.clean.min100.withtax.biom', '26'], ['10317.000017705', 'ag-6-2016.clean.min100.withtax.biom', '156'], ['10317.000038166', 'ag-6-2016.clean.min100.withtax.biom', '53'], ['10317.000017118', 'ag-6-2016.clean.min100.withtax.biom', '16'], ['10317.000028849', 'ag-6-2016.clean.min100.withtax.biom', '4410'], ['10317.000028465', 'ag-6-2016.clean.min100.withtax.biom', '298'], ['10317.000004163', 'ag-6-2016.clean.min100.withtax.biom', '4894'], ['10317.000036884', 'ag-6-2016.clean.min100.withtax.biom', '62'], ['10317.000030774', 'ag-6-2016.clean.min100.withtax.biom', '3'], ['10317.000013465', 'ag-6-2016.clean.min100.withtax.biom', '12'], ['10317.000003150', 'ag-6-2016.clean.min100.withtax.biom', '7242'], ['10317.000027912', 'ag-6-2016.clean.min100.withtax.biom', '5463'], ['10317.000038190', 'ag-6-2016.clean.min100.withtax.biom', '91'], ['10317.000030298', 'ag-6-2016.clean.min100.withtax.biom', '16'], ['10317.000012921', 'ag-6-2016.clean.min100.withtax.biom', '9239'], ['10317.000017084', 'ag-6-2016.clean.min100.withtax.biom', '33'], ['10317.000014168', 'ag-6-2016.clean.min100.withtax.biom', '3437'], ['10317.000013653', 'ag-6-2016.clean.min100.withtax.biom', '2656'], ['10317.000011262', 'ag-6-2016.clean.min100.withtax.biom', '7998'], ['10317.000036068', 'ag-6-2016.clean.min100.withtax.biom', '15'], ['10317.000017097', 'ag-6-2016.clean.min100.withtax.biom', '312'], ['10317.000011070', 'ag-6-2016.clean.min100.withtax.biom', '215'], ['10317.000017339', 'ag-6-2016.clean.min100.withtax.biom', '4995'], ['10317.000005948', 'ag-6-2016.clean.min100.withtax.biom', '8'], ['10317.000023857', 'ag-6-2016.clean.min100.withtax.biom', '4139'], ['10317.000010147', 'ag-6-2016.clean.min100.withtax.biom', '4905'], ['10317.000028169', 'ag-6-2016.clean.min100.withtax.biom', '1588'], ['10317.000013960', 'ag-6-2016.clean.min100.withtax.biom', '10'], ['10317.000001291', 'ag-6-2016.clean.min100.withtax.biom', '6806'], ['10317.000009201', 'ag-6-2016.clean.min100.withtax.biom', '3548'], ['10317.000001417', 'ag-6-2016.clean.min100.withtax.biom', '9879'], ['10317.000036721', 'ag-6-2016.clean.min100.withtax.biom', '7'], ['10317.000020487', 'ag-6-2016.clean.min100.withtax.biom', '76'], ['10317.000023858', 'ag-6-2016.clean.min100.withtax.biom', '4043'], ['10317.000001225', 'ag-6-2016.clean.min100.withtax.biom', '6542'], ['10317.000001451', 'ag-6-2016.clean.min100.withtax.biom', '1786'], ['10317.000020358', 'ag-6-2016.clean.min100.withtax.biom', '3994'], ['10317.000017121', 'ag-6-2016.clean.min100.withtax.biom', '275'], ['10317.000006926', 'ag-6-2016.clean.min100.withtax.biom', '6550'], ['10317.000028955', 'ag-6-2016.clean.min100.withtax.biom', '6591'], ['10317.000017080', 'ag-6-2016.clean.min100.withtax.biom', '3'], ['10317.000013939', 'ag-6-2016.clean.min100.withtax.biom', '353'], ['10317.000030484', 'ag-6-2016.clean.min100.withtax.biom', '62'], ['10317.000010723', 'ag-6-2016.clean.min100.withtax.biom', '1521'], ['10317.000020603', 'ag-6-2016.clean.min100.withtax.biom', '14'], ['10317.000014018', 'ag-6-2016.clean.min100.withtax.biom', '2140'], ['10317.000021965', 'ag-6-2016.clean.min100.withtax.biom', '4871'], ['10317.000020616', 'ag-6-2016.clean.min100.withtax.biom', '10'], ['10317.000020346', 'ag-6-2016.clean.min100.withtax.biom', '2710'], ['10317.000001284', 'ag-6-2016.clean.min100.withtax.biom', '754'], ['10317.000016300', 'ag-6-2016.clean.min100.withtax.biom', '3185'], ['10317.000013285', 'ag-6-2016.clean.min100.withtax.biom', '9094'], ['10317.000041945', 'ag-6-2016.clean.min100.withtax.biom', '3475'], ['10317.000028930', 'ag-6-2016.clean.min100.withtax.biom', '28'], ['10317.000026648', 'ag-6-2016.clean.min100.withtax.biom', '305'], ['10317.000012975', 'ag-6-2016.clean.min100.withtax.biom', '3380'], ['10317.000028287', 'ag-6-2016.clean.min100.withtax.biom', '73'], ['10317.000012138', 'ag-6-2016.clean.min100.withtax.biom', '4484'], ['10317.000031272', 'ag-6-2016.clean.min100.withtax.biom', '1542'], ['10317.000028961', 'ag-6-2016.clean.min100.withtax.biom', '1'], ['10317.000009528', 'ag-6-2016.clean.min100.withtax.biom', '22'], ['10317.000041937', 'ag-6-2016.clean.min100.withtax.biom', '43'], ['10317.000006001', 'ag-6-2016.clean.min100.withtax.biom', '9467'], ['10317.000009144', 'ag-6-2016.clean.min100.withtax.biom', '2421'], ['10317.000005693', 'ag-6-2016.clean.min100.withtax.biom', '3008'], ['10317.000013686', 'ag-6-2016.clean.min100.withtax.biom', '3153'], ['10317.000034123', 'ag-6-2016.clean.min100.withtax.biom', '8252'], ['10317.000037502', 'ag-6-2016.clean.min100.withtax.biom', '4'], ['10317.000012105', 'ag-6-2016.clean.min100.withtax.biom', '3709'], ['10317.000016231', 'ag-6-2016.clean.min100.withtax.biom', '2'], ['10317.000039950', 'ag-6-2016.clean.min100.withtax.biom', '1'], ['10317.000009465', 'ag-6-2016.clean.min100.withtax.biom', '4469'], ['10317.000016768', 'ag-6-2016.clean.min100.withtax.biom', '18'], ['10317.000003549', 'ag-6-2016.clean.min100.withtax.biom', '5964'], ['10317.000016354', 'ag-6-2016.clean.min100.withtax.biom', '10'], ['Balcom.Stool', 'pgp.baylor.clean.withtax.biom', '688'], ['Starratt.Stool', 'pgp.baylor.clean.withtax.biom', '12'], ['Dias.Stool', 'pgp.baylor.clean.withtax.biom', '37'], ['Zambom.Stool', 'pgp.baylor.clean.withtax.biom', '97'], ['Larcridge.Stool', 'pgp.baylor.clean.withtax.biom', '4'], ['Nobscot.Stool', 'pgp.baylor.clean.withtax.biom', '74'], ['Slades.Stool', 'pgp.baylor.clean.withtax.biom', '3'], ['Netta.Stool', 'pgp.baylor.clean.withtax.biom', '28'], ['Caryll.Stool', 'pgp.baylor.clean.withtax.biom', '1'], ['Cornstalk.Stool', 'pgp.baylor.clean.withtax.biom', '25'], ['Sandale.Stool', 'pgp.baylor.clean.withtax.biom', '158'], ['January.Stool', 'pgp.baylor.clean.withtax.biom', '1'], ['Purchade.Stool', 'pgp.baylor.clean.withtax.biom', '3566'], ['Burne.Stool', 'pgp.baylor.clean.withtax.biom', '1'], ['Charmark.Stool', 'pgp.baylor.clean.withtax.biom', '1'], ['Witch.Stool', 'pgp.baylor.clean.withtax.biom', '116'], ['Cedarhurst.Stool', 'pgp.baylor.clean.withtax.biom', '1'], ['Buckinghan.Stool', 'pgp.baylor.clean.withtax.biom', '13'], ['Lippokd.Stool', 'pgp.baylor.clean.withtax.biom', '1'], ['Innkeeper.Stool', 'pgp.baylor.clean.withtax.biom', '3'], ['Lassell.Stool', 'pgp.baylor.clean.withtax.biom', '1'], ['Westbora.Stool', 'pgp.baylor.clean.withtax.biom', '366'], ['Claudett.Stool', 'pgp.baylor.clean.withtax.biom', '18'], ['Hager.Stool', 'pgp.baylor.clean.withtax.biom', '1'], ['Lonergan.Stool', 'pgp.baylor.clean.withtax.biom', '2076'], ['Sylvanus.Stool', 'pgp.baylor.clean.withtax.biom', '13'], ['Malfa.Stool', 'pgp.baylor.clean.withtax.biom', '35'], ['Gigi.Stool', 'pgp.baylor.clean.withtax.biom', '836'], ['Noel.Stool', 'pgp.baylor.clean.withtax.biom', '1'], ['Patmos.Stool', 'pgp.baylor.clean.withtax.biom', '13'], ['Woodfin.Stool', 'pgp.baylor.clean.withtax.biom', '508'], ['Padanaram.Stool', 'pgp.baylor.clean.withtax.biom', '1'], ['Mariposa.Stool.2', 'pgp.baylor.clean.withtax.biom', '23'], ['Eisenhower.Stool', 'pgp.baylor.clean.withtax.biom', '17'], ['Digregorio.Stool', 'pgp.baylor.clean.withtax.biom', '32'], ['Hallets.Stool', 'pgp.baylor.clean.withtax.biom', '3'], ['Innitou.Stool', 'pgp.baylor.clean.withtax.biom', '66'], ['Mariposa.Stool.3', 'pgp.baylor.clean.withtax.biom', '1'], ['Turkey.Stool', 'pgp.baylor.clean.withtax.biom', '4'], ['Gibbon.Stool', 'pgp.baylor.clean.withtax.biom', '6'], ['Janis.Stool', 'pgp.baylor.clean.withtax.biom', '12'], ['Delmore.Stool', 'pgp.baylor.clean.withtax.biom', '419'], ['Caravel.Stool', 'pgp.baylor.clean.withtax.biom', '5'], ['Watoguadoc.Stool', 'pgp.baylor.clean.withtax.biom', '11'], ['Edenfield.Stool', 'pgp.baylor.clean.withtax.biom', '6'], ['Willowbe.Stool', 'pgp.baylor.clean.withtax.biom', '701'], ['Ronald.Stool', 'pgp.baylor.clean.withtax.biom', '159'], ['Pasho.Stool', 'pgp.baylor.clean.withtax.biom', '22'], ['Brae.Stool', 'pgp.baylor.clean.withtax.biom', '197'], ['Azalea.Stool', 'pgp.baylor.clean.withtax.biom', '4'], ['Bjorkland.Stool', 'pgp.baylor.clean.withtax.biom', '16'], ['Nyack.Stool', 'pgp.baylor.clean.withtax.biom', '131'], ['Foothill.Stool', 'pgp.baylor.clean.withtax.biom', '3'], ['Fermanagh.Stool', 'pgp.baylor.clean.withtax.biom', '38'], ['Misty.Stool', 'pgp.baylor.clean.withtax.biom', '12'], ['Wilbraview.Stool', 'pgp.baylor.clean.withtax.biom', '212'], ['Shadyside.Stool', 'pgp.baylor.clean.withtax.biom', '3562'], ['Salti.Stool', 'pgp.baylor.clean.withtax.biom', '1'], ['Maryjane.Stool', 'pgp.baylor.clean.withtax.biom', '1'], ['Winifreds.Stool', 'pgp.baylor.clean.withtax.biom', '1'], ['Coachmen.Stool', 'pgp.baylor.clean.withtax.biom', '2093'], ['Trafford.Stool', 'pgp.baylor.clean.withtax.biom', '22'], ['Milne.Stool', 'pgp.baylor.clean.withtax.biom', '7'], ['Cowan.Stool', 'pgp.baylor.clean.withtax.biom', '4'], ['Bows.Stool', 'pgp.baylor.clean.withtax.biom', '666'], ['Devenwood.Stool', 'pgp.baylor.clean.withtax.biom', '13'], ['Vinedale.Stool', 'pgp.baylor.clean.withtax.biom', '1044'], ['Stannes.Stool', 'pgp.baylor.clean.withtax.biom', '1'], ['Northwind.Stool', 'pgp.baylor.clean.withtax.biom', '19'], ['Overton.Stool', 'pgp.baylor.clean.withtax.biom', '1'], ['Bulls.Stool', 'pgp.baylor.clean.withtax.biom', '69'], ['Mariposa.Stool.1', 'pgp.baylor.clean.withtax.biom', '1'], ['Tewmac.Stool', 'pgp.baylor.clean.withtax.biom', '1'], ['Meadowlands.Stool', 'pgp.baylor.clean.withtax.biom', '1337'], ['Postscript.Stool', 'pgp.baylor.clean.withtax.biom', '11'], ['Trimmer.Stool', 'pgp.baylor.clean.withtax.biom', '3'], ['Elmavenue.Stool', 'pgp.baylor.clean.withtax.biom', '7'], ['Pinrock.Stool', 'pgp.baylor.clean.withtax.biom', '810'], ['Goddu.Stool', 'pgp.baylor.clean.withtax.biom', '2095'], ['1481.NA.17.T8', 'ercolini.feces.clean.withtax.biom', '5'], ['1481.PO4.3.T0', 'ercolini.feces.clean.withtax.biom', '4'], ['1481.PO5.5.T0', 'ercolini.feces.clean.withtax.biom', '7'], ['1481.NA.06.T0', 'ercolini.feces.clean.withtax.biom', '37'], ['1481.PO5.3.T0', 'ercolini.feces.clean.withtax.biom', '1'], ['1481.PO6.3.T0', 'ercolini.feces.clean.withtax.biom', '120'], ['1481.PO1.17.T8', 'ercolini.feces.clean.withtax.biom', '1'], ['1481.PO4.4.T8', 'ercolini.feces.clean.withtax.biom', '157'], ['1481.NA.04.T0', 'ercolini.feces.clean.withtax.biom', '125'], ['1481.PO5.3.T8', 'ercolini.feces.clean.withtax.biom', '8'], ['1481.PO5.8.T4', 'ercolini.feces.clean.withtax.biom', '133'], ['1481.NA.23.T0', 'ercolini.feces.clean.withtax.biom', '130'], ['1481.NA.18.T4', 'ercolini.feces.clean.withtax.biom', '1'], ['1481.NA.20.T0', 'ercolini.feces.clean.withtax.biom', '10'], ['1481.NA.07.T8', 'ercolini.feces.clean.withtax.biom', '12'], ['1481.PO2.1.T8', 'ercolini.feces.clean.withtax.biom', '22'], ['1481.NA.13.T4', 'ercolini.feces.clean.withtax.biom', '41'], ['1481.NA.18.T0', 'ercolini.feces.clean.withtax.biom', '1'], ['1481.NA.16.T8', 'ercolini.feces.clean.withtax.biom', '1'], ['1481.PO3.2.T8', 'ercolini.feces.clean.withtax.biom', '62'], ['1481.NA.12.T8', 'ercolini.feces.clean.withtax.biom', '14'], ['1481.PO2.1.T0', 'ercolini.feces.clean.withtax.biom', '5'], ['1481.PO6.4.T0', 'ercolini.feces.clean.withtax.biom', '98'], ['1481.NA.15.T0', 'ercolini.feces.clean.withtax.biom', '9'], ['1481.PO1.1.T8', 'ercolini.feces.clean.withtax.biom', '15'], ['1481.PO6.5.T0', 'ercolini.feces.clean.withtax.biom', '169'], ['1481.PO6.4.T4', 'ercolini.feces.clean.withtax.biom', '20'], ['1481.PO6.2.T8', 'ercolini.feces.clean.withtax.biom', '151'], ['1481.PO6.1.T8', 'ercolini.feces.clean.withtax.biom', '6'], ['1481.PO1.5.T8', 'ercolini.feces.clean.withtax.biom', '215'], ['1481.NA.17.T0', 'ercolini.feces.clean.withtax.biom', '3'], ['1481.PO4.9.T8', 'ercolini.feces.clean.withtax.biom', '24'], ['1481.NA.21.T0', 'ercolini.feces.clean.withtax.biom', '52'], ['1481.PO4.6.T8', 'ercolini.feces.clean.withtax.biom', '5'], ['1481.NA.24.T0', 'ercolini.feces.clean.withtax.biom', '6'], ['1481.PO5.2.T8', 'ercolini.feces.clean.withtax.biom', '558'], ['1481.PO1.2.T0', 'ercolini.feces.clean.withtax.biom', '1'], ['1481.PO1.15.T0', 'ercolini.feces.clean.withtax.biom', '10'], ['1481.NA.01.T8', 'ercolini.feces.clean.withtax.biom', '1'], ['1481.PO1.2.T8', 'ercolini.feces.clean.withtax.biom', '13'], ['1481.NA.20.T8', 'ercolini.feces.clean.withtax.biom', '33'], ['1481.NA.10.T0', 'ercolini.feces.clean.withtax.biom', '15'], ['1481.PO3.3.T8', 'ercolini.feces.clean.withtax.biom', '118'], ['1481.NA.10.T8', 'ercolini.feces.clean.withtax.biom', '39'], ['1481.NA.01.T0', 'ercolini.feces.clean.withtax.biom', '8'], ['1481.PO2.3.T4', 'ercolini.feces.clean.withtax.biom', '27'], ['1481.PO7.2.T8', 'ercolini.feces.clean.withtax.biom', '563'], ['1481.NA.16.T0', 'ercolini.feces.clean.withtax.biom', '1'], ['1481.NA.07.T4', 'ercolini.feces.clean.withtax.biom', '1'], ['1481.PO1.17.T0', 'ercolini.feces.clean.withtax.biom', '5'], ['1481.NA.04.T8', 'ercolini.feces.clean.withtax.biom', '17'], ['1481.PO6.2.T0', 'ercolini.feces.clean.withtax.biom', '8'], ['1481.PO6.3.T8', 'ercolini.feces.clean.withtax.biom', '142'], ['1481.PO4.8.T8', 'ercolini.feces.clean.withtax.biom', '650'], ['1481.PO1.15.T8', 'ercolini.feces.clean.withtax.biom', '4'], ['1481.PO2.3.T0', 'ercolini.feces.clean.withtax.biom', '20'], ['1481.NA.12.T0', 'ercolini.feces.clean.withtax.biom', '50'], ['1481.NA.21.T8', 'ercolini.feces.clean.withtax.biom', '467'], ['1481.PO4.3.T4', 'ercolini.feces.clean.withtax.biom', '5'], ['1481.PO2.5.T4', 'ercolini.feces.clean.withtax.biom', '1'], ['1481.NA.02.T8', 'ercolini.feces.clean.withtax.biom', '7'], ['1481.PO5.2.T0', 'ercolini.feces.clean.withtax.biom', '782'], ['1481.NA.02.T0', 'ercolini.feces.clean.withtax.biom', '117'], ['1481.PO6.1.T0', 'ercolini.feces.clean.withtax.biom', '1223'], ['1481.PO3.3.T0', 'ercolini.feces.clean.withtax.biom', '18'], ['1481.NA.13.T8', 'ercolini.feces.clean.withtax.biom', '60'], ['1481.PO3.2.T0', 'ercolini.feces.clean.withtax.biom', '679'], ['1481.PO5.5.T8', 'ercolini.feces.clean.withtax.biom', '1'], ['1481.PO1.3.T0', 'ercolini.feces.clean.withtax.biom', '4'], ['1481.PO4.7.T8', 'ercolini.feces.clean.withtax.biom', '55'], ['1481.PO4.9.T0', 'ercolini.feces.clean.withtax.biom', '35'], ['1481.NA.06.T8', 'ercolini.feces.clean.withtax.biom', '5'], ['1481.NA.15.T8', 'ercolini.feces.clean.withtax.biom', '41'], ['1481.NA.24.T8', 'ercolini.feces.clean.withtax.biom', '127'], ['1481.PO6.5.T8', 'ercolini.feces.clean.withtax.biom', '36'], ['1481.PO1.11.T0', 'ercolini.feces.clean.withtax.biom', '40'], ['1481.NA.14.T0', 'ercolini.feces.clean.withtax.biom', '29'], ['1481.PO5.10.T4', 'ercolini.feces.clean.withtax.biom', '40'], ['1481.NA.23.T8', 'ercolini.feces.clean.withtax.biom', '1'], ['1481.PO1.1.T0', 'ercolini.feces.clean.withtax.biom', '5'], ['1481.NA.14.T8', 'ercolini.feces.clean.withtax.biom', '1'], ['1481.PO1.11.T8', 'ercolini.feces.clean.withtax.biom', '48'], ['2014.Plate15.83', 'twins2.clean.min10.withtax.biom', '1'], ['2014.Plate10.23', 'twins2.clean.min10.withtax.biom', '361'], ['2014.Plate13.70', 'twins2.clean.min10.withtax.biom', '14'], ['2014.Low1.50', 'twins2.clean.min10.withtax.biom', '11'], ['2014.Plate14.37', 'twins2.clean.min10.withtax.biom', '7'], ['2014.Low1.87', 'twins2.clean.min10.withtax.biom', '10'], ['2014.Plate13.9', 'twins2.clean.min10.withtax.biom', '3'], ['2014.Plate11.25', 'twins2.clean.min10.withtax.biom', '701'], ['2014.Plate13.65', 'twins2.clean.min10.withtax.biom', '1'], ['2014.Plate6.31', 'twins2.clean.min10.withtax.biom', '194'], ['2014.Low2.27', 'twins2.clean.min10.withtax.biom', '6'], ['2014.Plate14.43', 'twins2.clean.min10.withtax.biom', '4'], ['2014.Plate11.42', 'twins2.clean.min10.withtax.biom', '52'], ['2014.Plate8.75', 'twins2.clean.min10.withtax.biom', '2'], ['2014.High2.66', 'twins2.clean.min10.withtax.biom', '106'], ['2014.Plate13.1', 'twins2.clean.min10.withtax.biom', '2896'], ['2014.Low1.12', 'twins2.clean.min10.withtax.biom', '8'], ['2014.Plate6.11', 'twins2.clean.min10.withtax.biom', '7'], ['2014.High1.18', 'twins2.clean.min10.withtax.biom', '9'], ['2014.Plate7.7', 'twins2.clean.min10.withtax.biom', '778'], ['2014.Plate7.93', 'twins2.clean.min10.withtax.biom', '4'], ['2014.Low2.87', 'twins2.clean.min10.withtax.biom', '2'], ['2014.Low2.68', 'twins2.clean.min10.withtax.biom', '29'], ['2014.Plate14.77', 'twins2.clean.min10.withtax.biom', '1'], ['2014.Low1.19', 'twins2.clean.min10.withtax.biom', '2'], ['2014.Plate15.14', 'twins2.clean.min10.withtax.biom', '4'], ['2014.Plate11.81', 'twins2.clean.min10.withtax.biom', '17'], ['2014.Plate13.68', 'twins2.clean.min10.withtax.biom', '141'], ['2014.Plate9.71', 'twins2.clean.min10.withtax.biom', '2'], ['2014.Low2.15', 'twins2.clean.min10.withtax.biom', '23'], ['2014.Plate9.53', 'twins2.clean.min10.withtax.biom', '2'], ['2014.Plate11.40', 'twins2.clean.min10.withtax.biom', '105'], ['2014.Plate14.59', 'twins2.clean.min10.withtax.biom', '2'], ['2014.Low2.18', 'twins2.clean.min10.withtax.biom', '9'], ['2014.Plate11.89', 'twins2.clean.min10.withtax.biom', '55'], ['2014.Plate6.38', 'twins2.clean.min10.withtax.biom', '3'], ['2014.Plate14.6', 'twins2.clean.min10.withtax.biom', '3'], ['2014.Plate15.44', 'twins2.clean.min10.withtax.biom', '1121'], ['2014.High2.83', 'twins2.clean.min10.withtax.biom', '644'], ['2014.Plate9.68', 'twins2.clean.min10.withtax.biom', '3'], ['2014.Plate5.76', 'twins2.clean.min10.withtax.biom', '1352'], ['2014.Plate6.78', 'twins2.clean.min10.withtax.biom', '123'], ['2014.Low2.24', 'twins2.clean.min10.withtax.biom', '6'], ['2014.Plate9.21', 'twins2.clean.min10.withtax.biom', '285'], ['2014.High1.50', 'twins2.clean.min10.withtax.biom', '4'], ['2014.Plate13.46', 'twins2.clean.min10.withtax.biom', '198'], ['2014.Plate6.64', 'twins2.clean.min10.withtax.biom', '2'], ['2014.High2.32', 'twins2.clean.min10.withtax.biom', '5'], ['2014.Plate11.33', 'twins2.clean.min10.withtax.biom', '253'], ['2014.Plate12.26', 'twins2.clean.min10.withtax.biom', '49'], ['2014.High1.54', 'twins2.clean.min10.withtax.biom', '2'], ['2014.Plate9.84', 'twins2.clean.min10.withtax.biom', '1'], ['2014.Low2.32', 'twins2.clean.min10.withtax.biom', '1035'], ['2014.Plate13.7', 'twins2.clean.min10.withtax.biom', '1'], ['2014.High1.82', 'twins2.clean.min10.withtax.biom', '1652'], ['2014.Plate11.78', 'twins2.clean.min10.withtax.biom', '3'], ['2014.Plate5.55', 'twins2.clean.min10.withtax.biom', '20'], ['2014.Plate13.81', 'twins2.clean.min10.withtax.biom', '18'], ['2014.Plate12.83', 'twins2.clean.min10.withtax.biom', '7'], ['2014.Plate9.42', 'twins2.clean.min10.withtax.biom', '427'], ['2014.Plate12.37', 'twins2.clean.min10.withtax.biom', '23'], ['2014.Plate11.31', 'twins2.clean.min10.withtax.biom', '6'], ['2014.High1.3', 'twins2.clean.min10.withtax.biom', '4'], ['2014.Plate8.44', 'twins2.clean.min10.withtax.biom', '112'], ['2014.Plate11.56', 'twins2.clean.min10.withtax.biom', '12'], ['2014.Low1.88', 'twins2.clean.min10.withtax.biom', '3'], ['2014.Low1.20', 'twins2.clean.min10.withtax.biom', '2149'], ['2014.Low1.32', 'twins2.clean.min10.withtax.biom', '3487'], ['2014.Plate11.88', 'twins2.clean.min10.withtax.biom', '90'], ['2014.Low1.78', 'twins2.clean.min10.withtax.biom', '1275'], ['2014.Plate6.73', 'twins2.clean.min10.withtax.biom', '2'], ['2014.Plate15.72', 'twins2.clean.min10.withtax.biom', '2'], ['2014.Plate10.58', 'twins2.clean.min10.withtax.biom', '6'], ['2014.Plate8.9', 'twins2.clean.min10.withtax.biom', '19'], ['2014.High1.48', 'twins2.clean.min10.withtax.biom', '1'], ['2014.Plate15.62', 'twins2.clean.min10.withtax.biom', '1'], ['2014.Plate11.64', 'twins2.clean.min10.withtax.biom', '3183'], ['2014.Plate12.21', 'twins2.clean.min10.withtax.biom', '15'], ['2014.Plate5.65', 'twins2.clean.min10.withtax.biom', '644'], ['2014.High1.89', 'twins2.clean.min10.withtax.biom', '228'], ['2014.High1.19', 'twins2.clean.min10.withtax.biom', '567'], ['2014.Plate8.18', 'twins2.clean.min10.withtax.biom', '22'], ['2014.Plate5.31', 'twins2.clean.min10.withtax.biom', '894'], ['2014.Plate10.15', 'twins2.clean.min10.withtax.biom', '16'], ['2014.Plate14.95', 'twins2.clean.min10.withtax.biom', '3223'], ['2014.Low2.72', 'twins2.clean.min10.withtax.biom', '589'], ['2014.Plate13.73', 'twins2.clean.min10.withtax.biom', '8'], ['2014.Low1.52', 'twins2.clean.min10.withtax.biom', '667'], ['2014.Low2.57', 'twins2.clean.min10.withtax.biom', '134'], ['2014.Plate15.29', 'twins2.clean.min10.withtax.biom', '178'], ['2014.Plate6.22', 'twins2.clean.min10.withtax.biom', '455'], ['2014.Low2.86', 'twins2.clean.min10.withtax.biom', '111'], ['2014.Plate6.86', 'twins2.clean.min10.withtax.biom', '71'], ['2014.Plate15.60', 'twins2.clean.min10.withtax.biom', '1'], ['2014.Plate12.88', 'twins2.clean.min10.withtax.biom', '927'], ['2014.Low1.35', 'twins2.clean.min10.withtax.biom', '4'], ['2014.Plate10.18', 'twins2.clean.min10.withtax.biom', '907'], ['2014.Plate5.78', 'twins2.clean.min10.withtax.biom', '9'], ['2014.Plate13.8', 'twins2.clean.min10.withtax.biom', '4'], ['2014.High1.23', 'twins2.clean.min10.withtax.biom', '267'], ['2014.High1.32', 'twins2.clean.min10.withtax.biom', '992'], ['2014.Low2.17', 'twins2.clean.min10.withtax.biom', '5605'], ['2014.Plate13.41', 'twins2.clean.min10.withtax.biom', '2'], ['2014.Plate10.50', 'twins2.clean.min10.withtax.biom', '1079'], ['2014.Plate15.16', 'twins2.clean.min10.withtax.biom', '48'], ['2014.Plate6.9', 'twins2.clean.min10.withtax.biom', '2'], ['2014.Plate10.24', 'twins2.clean.min10.withtax.biom', '44'], ['2014.Plate5.49', 'twins2.clean.min10.withtax.biom', '46'], ['2014.Plate11.38', 'twins2.clean.min10.withtax.biom', '150'], ['2014.Plate6.90', 'twins2.clean.min10.withtax.biom', '17'], ['2014.Plate12.19', 'twins2.clean.min10.withtax.biom', '40'], ['2014.Plate11.44', 'twins2.clean.min10.withtax.biom', '195'], ['2014.Plate15.40', 'twins2.clean.min10.withtax.biom', '3'], ['2014.Plate14.24', 'twins2.clean.min10.withtax.biom', '2'], ['2014.Plate14.64', 'twins2.clean.min10.withtax.biom', '1568'], ['2014.Low2.29', 'twins2.clean.min10.withtax.biom', '3196'], ['2014.Plate7.87', 'twins2.clean.min10.withtax.biom', '2'], ['2014.Plate13.94', 'twins2.clean.min10.withtax.biom', '2'], ['2014.Plate8.1', 'twins2.clean.min10.withtax.biom', '5'], ['2014.Plate8.60', 'twins2.clean.min10.withtax.biom', '16'], ['2014.Plate16.58', 'twins2.clean.min10.withtax.biom', '530'], ['2014.High1.13', 'twins2.clean.min10.withtax.biom', '2'], ['2014.Plate6.42', 'twins2.clean.min10.withtax.biom', '52'], ['2014.High1.59', 'twins2.clean.min10.withtax.biom', '65'], ['2014.High1.27', 'twins2.clean.min10.withtax.biom', '72'], ['2014.Plate14.20', 'twins2.clean.min10.withtax.biom', '102'], ['2014.Low1.72', 'twins2.clean.min10.withtax.biom', '303'], ['2014.Low2.14', 'twins2.clean.min10.withtax.biom', '455'], ['2014.Plate11.74', 'twins2.clean.min10.withtax.biom', '644'], ['2014.Plate8.42', 'twins2.clean.min10.withtax.biom', '3'], ['2014.Plate7.69', 'twins2.clean.min10.withtax.biom', '4897'], ['2014.Plate14.93', 'twins2.clean.min10.withtax.biom', '10'], ['2014.High2.65', 'twins2.clean.min10.withtax.biom', '3458'], ['2014.Plate9.58', 'twins2.clean.min10.withtax.biom', '30'], ['2014.Plate9.1', 'twins2.clean.min10.withtax.biom', '9'], ['2014.Plate11.39', 'twins2.clean.min10.withtax.biom', '4'], ['2014.Low1.93', 'twins2.clean.min10.withtax.biom', '18'], ['2014.Low1.71', 'twins2.clean.min10.withtax.biom', '263'], ['2014.Plate9.87', 'twins2.clean.min10.withtax.biom', '3'], ['2014.Plate16.67', 'twins2.clean.min10.withtax.biom', '70'], ['2014.Low2.51', 'twins2.clean.min10.withtax.biom', '2767'], ['2014.High1.61', 'twins2.clean.min10.withtax.biom', '1'], ['2014.Plate14.33', 'twins2.clean.min10.withtax.biom', '5'], ['2014.High1.92', 'twins2.clean.min10.withtax.biom', '284'], ['2014.Plate5.87', 'twins2.clean.min10.withtax.biom', '17'], ['2014.High2.17', 'twins2.clean.min10.withtax.biom', '7'], ['2014.Plate9.57', 'twins2.clean.min10.withtax.biom', '5'], ['2014.Low2.5', 'twins2.clean.min10.withtax.biom', '2'], ['2014.Plate15.38', 'twins2.clean.min10.withtax.biom', '9'], ['2014.Plate12.45', 'twins2.clean.min10.withtax.biom', '1'], ['2014.Plate13.56', 'twins2.clean.min10.withtax.biom', '1'], ['2014.Plate12.44', 'twins2.clean.min10.withtax.biom', '14'], ['2014.Plate13.79', 'twins2.clean.min10.withtax.biom', '3'], ['2014.Plate5.51', 'twins2.clean.min10.withtax.biom', '161'], ['2014.Plate9.50', 'twins2.clean.min10.withtax.biom', '1'], ['2014.High1.78', 'twins2.clean.min10.withtax.biom', '2'], ['2014.High1.67', 'twins2.clean.min10.withtax.biom', '774'], ['2014.Plate8.24', 'twins2.clean.min10.withtax.biom', '80'], ['2014.Plate7.90', 'twins2.clean.min10.withtax.biom', '10'], ['2014.High2.6', 'twins2.clean.min10.withtax.biom', '11'], ['2014.Plate15.93', 'twins2.clean.min10.withtax.biom', '1'], ['2014.Plate11.68', 'twins2.clean.min10.withtax.biom', '8'], ['2014.Low2.28', 'twins2.clean.min10.withtax.biom', '3'], ['2014.Plate15.53', 'twins2.clean.min10.withtax.biom', '1'], ['2014.Low1.68', 'twins2.clean.min10.withtax.biom', '3'], ['2014.Plate12.85', 'twins2.clean.min10.withtax.biom', '48'], ['2014.Plate7.82', 'twins2.clean.min10.withtax.biom', '1'], ['2014.Plate7.53', 'twins2.clean.min10.withtax.biom', '153'], ['2014.Plate9.62', 'twins2.clean.min10.withtax.biom', '3'], ['2014.Plate6.55', 'twins2.clean.min10.withtax.biom', '332'], ['2014.Plate6.84', 'twins2.clean.min10.withtax.biom', '90'], ['2014.Plate10.17', 'twins2.clean.min10.withtax.biom', '11'], ['2014.Plate5.29', 'twins2.clean.min10.withtax.biom', '8'], ['2014.High2.68', 'twins2.clean.min10.withtax.biom', '185'], ['2014.Low1.91', 'twins2.clean.min10.withtax.biom', '9'], ['2014.Plate5.92', 'twins2.clean.min10.withtax.biom', '483'], ['2014.Plate14.78', 'twins2.clean.min10.withtax.biom', '13'], ['2014.Plate10.3', 'twins2.clean.min10.withtax.biom', '496'], ['2014.Plate9.73', 'twins2.clean.min10.withtax.biom', '1'], ['2014.Plate11.52', 'twins2.clean.min10.withtax.biom', '60'], ['2014.High1.64', 'twins2.clean.min10.withtax.biom', '1951'], ['2014.Low1.36', 'twins2.clean.min10.withtax.biom', '281'], ['2014.Plate6.27', 'twins2.clean.min10.withtax.biom', '128'], ['2014.High1.39', 'twins2.clean.min10.withtax.biom', '2'], ['2014.High1.53', 'twins2.clean.min10.withtax.biom', '18'], ['2014.Plate15.56', 'twins2.clean.min10.withtax.biom', '2'], ['2014.Plate5.62', 'twins2.clean.min10.withtax.biom', '4'], ['2014.High1.57', 'twins2.clean.min10.withtax.biom', '1984'], ['2014.Plate15.27', 'twins2.clean.min10.withtax.biom', '13'], ['2014.Plate7.18', 'twins2.clean.min10.withtax.biom', '13'], ['2014.Plate15.10', 'twins2.clean.min10.withtax.biom', '1'], ['2014.Plate7.57', 'twins2.clean.min10.withtax.biom', '2'], ['2014.Plate13.92', 'twins2.clean.min10.withtax.biom', '1'], ['2014.Plate6.10', 'twins2.clean.min10.withtax.biom', '13'], ['2014.Plate6.74', 'twins2.clean.min10.withtax.biom', '1'], ['2014.Plate7.23', 'twins2.clean.min10.withtax.biom', '1017'], ['2014.Plate14.35', 'twins2.clean.min10.withtax.biom', '1'], ['2014.Plate9.24', 'twins2.clean.min10.withtax.biom', '3'], ['2014.Plate6.44', 'twins2.clean.min10.withtax.biom', '153'], ['2014.Plate5.24', 'twins2.clean.min10.withtax.biom', '181']];\n",
       "  var axesNames = [0, 1, 2, 3, 4];\n",
       "\n",
       "  var dm, ec;\n",
       "\n",
       "  function init() {\n",
       "    // Initialize the DecompositionModel\n",
       "    dm = new DecompositionModel(name, ids, coords, pct_var,\n",
       "                                md_headers, metadata, axesNames);\n",
       "    // Initialize the EmperorController\n",
       "    ec = new EmperorController(dm, 'emperor-notebook-0x31190a40');\n",
       "  }\n",
       "\n",
       "  function animate() {\n",
       "    requestAnimationFrame(animate);\n",
       "    ec.render();\n",
       "  }\n",
       "  $(window).resize(function() {\n",
       "    ec.resize(div.innerWidth(), div.innerHeight());\n",
       "  });\n",
       "\n",
       "  $(function(){\n",
       "    init();\n",
       "    animate();\n",
       "\n",
       "  });\n",
       "\n",
       "}); // END REQUIRE.JS block\n",
       "</script>"
      ],
      "text/plain": [
       "<IPython.core.display.HTML object>"
      ]
     },
     "metadata": {},
     "output_type": "display_data"
    },
    {
     "data": {
      "text/plain": [
       "<emperor.core.Emperor at 0x121daa7f0>"
      ]
     },
     "execution_count": 40,
     "metadata": {},
     "output_type": "execute_result"
    }
   ],
   "source": [
    "# and plot (with the blooming bacteria (no filtering))\n",
    "# need to choose origexp as color field, bloomlevel as size\n",
    "x"
   ]
  },
  {
   "cell_type": "code",
   "execution_count": 41,
   "metadata": {
    "collapsed": true
   },
   "outputs": [],
   "source": [
    "# create the without the blooming bacteria (with filtering) emperor data\n",
    "xnobloom = Emperor(resnobloom, pmf, remote=False)"
   ]
  },
  {
   "cell_type": "code",
   "execution_count": 42,
   "metadata": {
    "collapsed": false
   },
   "outputs": [],
   "source": [
    "# need to convert to int (otherwise problem with emperor size from field)\n",
    "xnobloom.mf.bloomlevel=xnobloom.mf.bloomlevel.astype(float).astype(int)"
   ]
  },
  {
   "cell_type": "code",
   "execution_count": 44,
   "metadata": {
    "collapsed": false
   },
   "outputs": [
    {
     "data": {
      "text/html": [
       "\n",
       "<script type=\"text/javascript\">\n",
       "\n",
       "if ($(\"#emperor-css\").length == 0){{\n",
       "    $(\"head\").append([\n",
       "\n",
       "        '<link id=\"emperor-css\" rel=\"stylesheet\" type=\"text/css\" href=\"/nbextensions/emperor/support_files/css/emperor.css\">',\n",
       "        '<link rel=\"stylesheet\" type=\"text/css\" href=\"/nbextensions/emperor/support_files/vendor/css/jquery-ui.min.css\">',\n",
       "        '<link rel=\"stylesheet\" type=\"text/css\" href=\"/nbextensions/emperor/support_files/vendor/css/slick.grid.min.css\">',\n",
       "        '<link rel=\"stylesheet\" type=\"text/css\" href=\"/nbextensions/emperor/support_files/vendor/css/spectrum.min.css\">',\n",
       "        '<link rel=\"stylesheet\" type=\"text/css\" href=\"/nbextensions/emperor/support_files/vendor/css/chosen.min.css\">',\n",
       "        '<link rel=\"stylesheet\" type=\"text/css\" href=\"/nbextensions/emperor/support_files/vendor/css/jquery.contextMenu.min.css\">'\n",
       "    ]);\n",
       "}}\n",
       "</script>\n",
       "\n",
       "<div id='emperor-notebook-0x7914c5bf' style=\"position: relative; width:100%; height:500px;\">\n",
       "  <div class='loading' style=\"position: absolute;top: 50%;left: 50%;margin-left: -229px; margin-top: -59px; z-index: 10000;height:118px;width:458px;padding:0px\"><img src='/nbextensions/emperor/support_files/img/emperor.png' alt='Emperor resources missing. Expected them to be found in /nbextensions/emperor/support_files'></div>\n",
       "</div>\n",
       "</div>\n",
       "\n",
       "<script type=\"text/javascript\">\n",
       "requirejs.config({\n",
       "// the left side is the module name, and the right side is the path\n",
       "// relative to the baseUrl attribute, do NOT include the .js extension\n",
       "'paths': {\n",
       "  /* jQuery */\n",
       "  'jquery': '/nbextensions/emperor/support_files/vendor/js/jquery-2.1.4.min',\n",
       "  'jqueryui': '/nbextensions/emperor/support_files/vendor/js/jquery-ui.min',\n",
       "  'jquery_drag': '/nbextensions/emperor/support_files/vendor/js/jquery.event.drag-2.2.min',\n",
       "\n",
       "  /* jQuery plugins */\n",
       "  'chosen': '/nbextensions/emperor/support_files/vendor/js/chosen.jquery.min',\n",
       "  'spectrum': '/nbextensions/emperor/support_files/vendor/js/spectrum.min',\n",
       "  'position': '/nbextensions/emperor/support_files/vendor/js/jquery.ui.position.min',\n",
       "  'contextmenu': '/nbextensions/emperor/support_files/vendor/js/jquery.contextMenu.min',\n",
       "\n",
       "  /* other libraries */\n",
       "  'underscore': '/nbextensions/emperor/support_files/vendor/js/underscore-min',\n",
       "  'chroma': '/nbextensions/emperor/support_files/vendor/js/chroma.min',\n",
       "  'filesaver': '/nbextensions/emperor/support_files/vendor/js/FileSaver.min',\n",
       "  'blob': '/nbextensions/emperor/support_files/vendor/js/Blob',\n",
       "  'd3': '/nbextensions/emperor/support_files/vendor/js/d3.min',\n",
       "\n",
       "  /* THREE.js and plugins */\n",
       "  'three': '/nbextensions/emperor/support_files/vendor/js/three.min',\n",
       "  'orbitcontrols': '/nbextensions/emperor/support_files/vendor/js/three.js-plugins/OrbitControls',\n",
       "  'projector': '/nbextensions/emperor/support_files/vendor/js/three.js-plugins/Projector',\n",
       "  'svgrenderer': '/nbextensions/emperor/support_files/vendor/js/three.js-plugins/SVGRenderer',\n",
       "\n",
       "  /* SlickGrid */\n",
       "  'slickcore': '/nbextensions/emperor/support_files/vendor/js/slick.core.min',\n",
       "  'slickgrid': '/nbextensions/emperor/support_files/vendor/js/slick.grid.min',\n",
       "  'slickformatters': '/nbextensions/emperor/support_files/vendor/js/slick.editors.min',\n",
       "  'slickeditors': '/nbextensions/emperor/support_files/vendor/js/slick.formatters.min',\n",
       "\n",
       "  /* Emperor's objects */\n",
       "  'util': '/nbextensions/emperor/support_files/js/util',\n",
       "  'model': '/nbextensions/emperor/support_files/js/model',\n",
       "  'view': '/nbextensions/emperor/support_files/js/view',\n",
       "  'controller': '/nbextensions/emperor/support_files/js/controller',\n",
       "  'draw': '/nbextensions/emperor/support_files/js/draw',\n",
       "  'scene3d': '/nbextensions/emperor/support_files/js/sceneplotview3d',\n",
       "  'abcviewcontroller': '/nbextensions/emperor/support_files/js/abc-view-controller',\n",
       "  'viewcontroller': '/nbextensions/emperor/support_files/js/view-controller',\n",
       "  'colorviewcontroller': '/nbextensions/emperor/support_files/js/color-view-controller',\n",
       "  'visibilitycontroller': '/nbextensions/emperor/support_files/js/visibility-controller',\n",
       "  'scaleviewcontroller': '/nbextensions/emperor/support_files/js/scale-view-controller',\n",
       "  'shapecontroller': '/nbextensions/emperor/support_files/js/shape-controller',\n",
       "  'axescontroller': '/nbextensions/emperor/support_files/js/axes-controller',\n",
       "  'shape-editor': '/nbextensions/emperor/support_files/js/shape-editor',\n",
       "  'color-editor': '/nbextensions/emperor/support_files/js/color-editor',\n",
       "  'scale-editor': '/nbextensions/emperor/support_files/js/scale-editor',\n",
       "  'shapes': '/nbextensions/emperor/support_files/js/shapes'\n",
       "},\n",
       "/*\n",
       "   Libraries that are not AMD compatible need shim to declare their\n",
       "   dependencies.\n",
       " */\n",
       "'shim': {\n",
       "  'jquery_drag': {\n",
       "    'deps': ['jquery', 'jqueryui']\n",
       "  },\n",
       "  'chosen': {\n",
       "    'deps': ['jquery'],\n",
       "    'exports': 'jQuery.fn.chosen'\n",
       "  },\n",
       "  'contextmenu' : {\n",
       "    'deps': ['jquery', 'jqueryui', 'position']\n",
       "  },\n",
       "  'filesaver' : {\n",
       "    'deps': ['blob']\n",
       "  },\n",
       "  'orbitcontrols': {\n",
       "    'deps': ['three']\n",
       "  },\n",
       "  'projector': {\n",
       "    'deps': ['three']\n",
       "  },\n",
       "  'svgrenderer': {\n",
       "    'deps': ['orbitcontrols', 'projector']\n",
       "  },\n",
       "'slickcore': ['jqueryui'],\n",
       "'slickgrid': ['slickcore', 'jquery_drag', 'slickformatters',\n",
       "              'slickeditors']\n",
       "}\n",
       "});\n",
       "\n",
       "requirejs(\n",
       "[\"jquery\", \"model\", \"controller\"],\n",
       "function($, model, EmperorController) {\n",
       "  var DecompositionModel = model.DecompositionModel;\n",
       "\n",
       "  var div = $('#emperor-notebook-0x7914c5bf');\n",
       "\n",
       "  var ids = ['10317.000012318', '10317.000014290', '10317.000015623', '10317.000030000', '10317.000013526', '10317.000013733', '10317.000033692', '10317.000016727', '10317.000003161', '10317.000022430', '10317.000029356', '10317.000026184', '10317.000027869', '10317.000022048', '10317.000034181', '10317.000005805', '10317.000007176', '10317.000013419', '10317.000014182', '10317.000016263', '10317.000027295', '10317.000001328', '10317.000013937', '10317.000030221', '10317.000030041', '10317.000022516', '10317.000014188', '10317.000013425', '10317.000021974', '10317.000030511', '10317.000016717', '10317.000015830', '10317.000037505', '10317.000017175', '10317.000001948', '10317.000017079', '10317.000041962', '10317.000040319', '10317.000001028', '10317.000020533', '10317.000017354', '10317.000005902', '10317.000017647', '10317.000030180', '10317.000014667', '10317.000029509', '10317.000030733', '10317.000013226', '10317.000001321', '10317.000026187', '10317.000006657', '10317.000018081', '10317.000009716', '10317.000003266', '10317.000013274', '10317.000026114', '10317.000013913', '10317.000030627', '10317.000001751', '10317.000038352', '10317.000033003', '10317.000037949', '10317.000007732', '10317.000017203', '10317.000014102', '10317.000006690', '10317.000005554', '10317.000001917', '10317.000020634', '10317.000003196', '10317.000027281', '10317.000014458', '10317.000042738', '10317.000029342', '10317.000011240', '10317.000026530', '10317.000014558', '10317.000014967', '10317.000003225', '10317.000023929', '10317.000007792', '10317.000010232', '10317.000041714', '10317.000013397', '10317.000020047', '10317.000014888', '10317.000002201', '10317.000022608', '10317.000030349', '10317.000017705', '10317.000038166', '10317.000017118', '10317.000028849', '10317.000028465', '10317.000004163', '10317.000036884', '10317.000030774', '10317.000013465', '10317.000003150', '10317.000027912', '10317.000038190', '10317.000030298', '10317.000017084', '10317.000014168', '10317.000013653', '10317.000036068', '10317.000017097', '10317.000011070', '10317.000017339', '10317.000005948', '10317.000010147', '10317.000028169', '10317.000013960', '10317.000001291', '10317.000009201', '10317.000036721', '10317.000020487', '10317.000001225', '10317.000001451', '10317.000020358', '10317.000017121', '10317.000006926', '10317.000028955', '10317.000017080', '10317.000013939', '10317.000030484', '10317.000010723', '10317.000020603', '10317.000014018', '10317.000021965', '10317.000020616', '10317.000001284', '10317.000041945', '10317.000028930', '10317.000026648', '10317.000012975', '10317.000028287', '10317.000031272', '10317.000028961', '10317.000009528', '10317.000041937', '10317.000009144', '10317.000005693', '10317.000013686', '10317.000034123', '10317.000037502', '10317.000012105', '10317.000016231', '10317.000039950', '10317.000009465', '10317.000016768', '10317.000016354', 'Balcom.Stool', 'Starratt.Stool', 'Dias.Stool', 'Zambom.Stool', 'Larcridge.Stool', 'Nobscot.Stool', 'Slades.Stool', 'Netta.Stool', 'Caryll.Stool', 'Cornstalk.Stool', 'Sandale.Stool', 'January.Stool', 'Purchade.Stool', 'Burne.Stool', 'Charmark.Stool', 'Witch.Stool', 'Cedarhurst.Stool', 'Buckinghan.Stool', 'Lippokd.Stool', 'Innkeeper.Stool', 'Lassell.Stool', 'Westbora.Stool', 'Claudett.Stool', 'Hager.Stool', 'Lonergan.Stool', 'Sylvanus.Stool', 'Malfa.Stool', 'Gigi.Stool', 'Noel.Stool', 'Patmos.Stool', 'Woodfin.Stool', 'Padanaram.Stool', 'Mariposa.Stool.2', 'Eisenhower.Stool', 'Digregorio.Stool', 'Hallets.Stool', 'Innitou.Stool', 'Mariposa.Stool.3', 'Turkey.Stool', 'Gibbon.Stool', 'Janis.Stool', 'Delmore.Stool', 'Caravel.Stool', 'Watoguadoc.Stool', 'Edenfield.Stool', 'Willowbe.Stool', 'Ronald.Stool', 'Pasho.Stool', 'Brae.Stool', 'Azalea.Stool', 'Bjorkland.Stool', 'Nyack.Stool', 'Foothill.Stool', 'Fermanagh.Stool', 'Misty.Stool', 'Wilbraview.Stool', 'Shadyside.Stool', 'Salti.Stool', 'Maryjane.Stool', 'Winifreds.Stool', 'Coachmen.Stool', 'Trafford.Stool', 'Milne.Stool', 'Cowan.Stool', 'Bows.Stool', 'Devenwood.Stool', 'Vinedale.Stool', 'Stannes.Stool', 'Northwind.Stool', 'Overton.Stool', 'Bulls.Stool', 'Mariposa.Stool.1', 'Tewmac.Stool', 'Meadowlands.Stool', 'Postscript.Stool', 'Trimmer.Stool', 'Elmavenue.Stool', 'Pinrock.Stool', 'Goddu.Stool', '1481.NA.17.T8', '1481.PO4.3.T0', '1481.PO5.5.T0', '1481.NA.06.T0', '1481.PO5.3.T0', '1481.PO6.3.T0', '1481.PO1.17.T8', '1481.PO4.4.T8', '1481.NA.04.T0', '1481.PO5.3.T8', '1481.NA.23.T0', '1481.NA.18.T4', '1481.NA.20.T0', '1481.NA.07.T8', '1481.PO2.1.T8', '1481.NA.13.T4', '1481.NA.18.T0', '1481.NA.16.T8', '1481.PO3.2.T8', '1481.NA.12.T8', '1481.PO2.1.T0', '1481.PO6.4.T0', '1481.NA.15.T0', '1481.PO1.1.T8', '1481.PO6.5.T0', '1481.PO6.4.T4', '1481.PO6.2.T8', '1481.PO6.1.T8', '1481.PO1.5.T8', '1481.NA.17.T0', '1481.PO4.9.T8', '1481.NA.21.T0', '1481.PO4.6.T8', '1481.NA.24.T0', '1481.PO5.2.T8', '1481.PO1.2.T0', '1481.PO1.15.T0', '1481.NA.01.T8', '1481.PO1.2.T8', '1481.NA.20.T8', '1481.NA.10.T0', '1481.PO3.3.T8', '1481.NA.10.T8', '1481.NA.01.T0', '1481.PO2.3.T4', '1481.PO7.2.T8', '1481.NA.16.T0', '1481.NA.07.T4', '1481.PO1.17.T0', '1481.NA.04.T8', '1481.PO6.2.T0', '1481.PO6.3.T8', '1481.PO4.8.T8', '1481.PO1.15.T8', '1481.PO2.3.T0', '1481.NA.12.T0', '1481.NA.21.T8', '1481.PO4.3.T4', '1481.PO2.5.T4', '1481.NA.02.T8', '1481.PO5.2.T0', '1481.NA.02.T0', '1481.PO6.1.T0', '1481.PO3.3.T0', '1481.NA.13.T8', '1481.PO3.2.T0', '1481.PO5.5.T8', '1481.PO1.3.T0', '1481.PO4.7.T8', '1481.PO4.9.T0', '1481.NA.06.T8', '1481.NA.15.T8', '1481.NA.24.T8', '1481.PO6.5.T8', '1481.PO1.11.T0', '1481.NA.14.T0', '1481.PO5.10.T4', '1481.NA.23.T8', '1481.PO1.1.T0', '1481.NA.14.T8', '1481.PO1.11.T8', '2014.Plate15.83', '2014.Plate10.23', '2014.Plate13.70', '2014.Low1.50', '2014.Plate14.37', '2014.Low1.87', '2014.Plate13.9', '2014.Plate11.25', '2014.Plate13.65', '2014.Plate6.31', '2014.Low2.27', '2014.Plate14.43', '2014.Plate11.42', '2014.Plate8.75', '2014.High2.66', '2014.Plate13.1', '2014.Low1.12', '2014.Plate6.11', '2014.High1.18', '2014.Plate7.7', '2014.Plate7.93', '2014.Low2.87', '2014.Low2.68', '2014.Plate14.77', '2014.Low1.19', '2014.Plate15.14', '2014.Plate11.81', '2014.Plate13.68', '2014.Plate9.71', '2014.Low2.15', '2014.Plate9.53', '2014.Plate11.40', '2014.Plate14.59', '2014.Low2.18', '2014.Plate11.89', '2014.Plate6.38', '2014.Plate14.6', '2014.Plate15.44', '2014.High2.83', '2014.Plate9.68', '2014.Plate5.76', '2014.Plate6.78', '2014.Low2.24', '2014.Plate9.21', '2014.High1.50', '2014.Plate13.46', '2014.Plate6.64', '2014.High2.32', '2014.Plate11.33', '2014.Plate12.26', '2014.High1.54', '2014.Plate9.84', '2014.Low2.32', '2014.Plate13.7', '2014.High1.82', '2014.Plate11.78', '2014.Plate5.55', '2014.Plate13.81', '2014.Plate12.83', '2014.Plate9.42', '2014.Plate12.37', '2014.Plate11.31', '2014.High1.3', '2014.Plate8.44', '2014.Plate11.56', '2014.Low1.88', '2014.Low1.20', '2014.Low1.32', '2014.Plate11.88', '2014.Low1.78', '2014.Plate6.73', '2014.Plate15.72', '2014.Plate10.58', '2014.Plate8.9', '2014.High1.48', '2014.Plate15.62', '2014.Plate11.64', '2014.Plate12.21', '2014.Plate5.65', '2014.High1.89', '2014.High1.19', '2014.Plate8.18', '2014.Plate5.31', '2014.Plate10.15', '2014.Plate14.95', '2014.Low2.72', '2014.Plate13.73', '2014.Low1.52', '2014.Low2.57', '2014.Plate15.29', '2014.Plate6.22', '2014.Low2.86', '2014.Plate6.86', '2014.Plate15.60', '2014.Plate12.88', '2014.Low1.35', '2014.Plate10.18', '2014.Plate5.78', '2014.Plate13.8', '2014.High1.23', '2014.High1.32', '2014.Low2.17', '2014.Plate13.41', '2014.Plate10.50', '2014.Plate15.16', '2014.Plate6.9', '2014.Plate10.24', '2014.Plate5.49', '2014.Plate11.38', '2014.Plate6.90', '2014.Plate12.19', '2014.Plate11.44', '2014.Plate15.40', '2014.Plate14.24', '2014.Plate14.64', '2014.Low2.29', '2014.Plate7.87', '2014.Plate13.94', '2014.Plate8.1', '2014.Plate8.60', '2014.Plate16.58', '2014.High1.13', '2014.Plate6.42', '2014.High1.59', '2014.High1.27', '2014.Plate14.20', '2014.Low1.72', '2014.Low2.14', '2014.Plate11.74', '2014.Plate8.42', '2014.Plate7.69', '2014.Plate14.93', '2014.High2.65', '2014.Plate9.58', '2014.Plate9.1', '2014.Plate11.39', '2014.Low1.93', '2014.Low1.71', '2014.Plate9.87', '2014.Plate16.67', '2014.Low2.51', '2014.High1.61', '2014.Plate14.33', '2014.High1.92', '2014.Plate5.87', '2014.High2.17', '2014.Plate9.57', '2014.Low2.5', '2014.Plate15.38', '2014.Plate12.45', '2014.Plate13.56', '2014.Plate12.44', '2014.Plate13.79', '2014.Plate5.51', '2014.Plate9.50', '2014.High1.78', '2014.High1.67', '2014.Plate8.24', '2014.Plate7.90', '2014.High2.6', '2014.Plate15.93', '2014.Plate11.68', '2014.Low2.28', '2014.Plate15.53', '2014.Low1.68', '2014.Plate12.85', '2014.Plate7.82', '2014.Plate7.53', '2014.Plate9.62', '2014.Plate6.55', '2014.Plate6.84', '2014.Plate10.17', '2014.Plate5.29', '2014.High2.68', '2014.Low1.91', '2014.Plate5.92', '2014.Plate14.78', '2014.Plate10.3', '2014.Plate9.73', '2014.Plate11.52', '2014.High1.64', '2014.Low1.36', '2014.Plate6.27', '2014.High1.39', '2014.High1.53', '2014.Plate15.56', '2014.Plate5.62', '2014.High1.57', '2014.Plate15.27', '2014.Plate7.18', '2014.Plate15.10', '2014.Plate7.57', '2014.Plate13.92', '2014.Plate6.10', '2014.Plate6.74', '2014.Plate7.23', '2014.Plate14.35', '2014.Plate9.24', '2014.Plate6.44', '2014.Plate5.24'];\n",
       "  var coords = [[-0.122810536353, 0.0747119983537, -0.0115674280704, 0.234995037558, -0.214774444428], [-0.0720811582937, -0.182721202317, 0.0680652476911, 0.250992067612, 0.11480424293], [-0.116258329491, 0.0926846800711, 0.0547474470634, 0.0345507249907, 0.0570979719634], [-0.176681219775, -0.0359981619518, 0.101854930411, -0.113107715973, 0.0382189124873], [-0.233643791409, 0.104028118031, 0.154557093186, -0.0405384617084, 0.0164584022656], [-0.0686311673241, -0.00882112036431, 0.102703670014, 0.0258977981545, 0.155195109626], [-0.202391768903, 0.19178198365, 0.0377372712965, -0.0558945448555, -0.0844682349821], [-0.197319049459, 0.0231305910646, 0.111332165712, 0.011659114484, 0.0546631452801], [-0.243113787188, 0.131186550258, 0.0600278381411, -0.0210533038617, 0.0507292895566], [0.0624176030329, 0.0155275028052, -0.126236998412, 0.211413350163, 0.0293442940503], [-0.168110656536, 0.0618338833154, -0.0235091716264, -0.0621123823516, 0.0299706859531], [-0.12253677623, 0.292139158558, 0.123073271509, -0.00558785498862, 0.119982631027], [-0.15626231612, 0.0205995059828, 0.0974328555099, -0.0574141785223, -0.0115285652438], [-0.109456580548, -0.0881081449198, -0.454887515557, -0.00196594029712, 0.0451285732006], [-0.0390625601696, -0.213764081729, -0.223353248805, -0.0342019106238, 0.0768986692507], [-0.1486188265, 0.212386055387, 0.062290789831, -0.0818931983969, -0.000695179172844], [-0.106661788749, 0.0824259984997, 0.0366073412075, 0.311405780504, 0.201878772202], [-0.0227766535887, -0.195290785046, 0.0998798909721, 0.111748993478, 0.0465277489346], [-0.0142747850114, -0.00535796856661, -0.0263116074257, -0.215170865812, 0.0517908020992], [-0.0491715414284, -0.146095339131, 0.111735290889, 0.0811315299976, 0.0542271920902], [-0.107667537424, -0.0137177716572, 0.140585005022, -0.0542304317943, 0.0908854219595], [-0.291265231748, 0.218993406016, 0.0235352453627, -0.048997428876, -0.0304160466101], [-0.270846791531, -0.0185220256687, -0.0453577585531, -0.0954071271021, 0.0092387815397], [-0.147183508507, -0.191772610035, -0.0431538762908, -0.0356730960483, -0.0586437407682], [-0.126730301962, 0.0811602337784, 0.153749418655, -0.0542029754903, 0.0580260771424], [-0.113377472169, -0.147712060176, -0.290233602038, -0.11024249492, 0.150590332705], [0.161244825804, -0.077889815925, 0.0803683449226, -0.0119063572932, 0.0819787674692], [-0.0406802628677, -0.0402020113734, 0.12145012704, -0.0338769820176, -0.11057830646], [-0.000492473691012, -0.138910387515, 0.135747730648, -0.0478394349134, 0.0414818269815], [-0.107322218896, -0.127005714766, -0.0719245364453, -0.00914779259884, 0.0911815461664], [-0.232388697448, 0.0943429940474, -0.0651115345396, -0.0912520562836, 0.0533510014601], [-0.0671291872438, -0.121798476149, 0.0460974269617, 0.00777152382802, 0.0446174653186], [0.0559908827969, -0.00822101094941, 0.0471171113749, 0.124978563753, 0.351749152714], [0.0496002211739, 0.0198939793939, -0.138724886316, 0.114942068529, 0.0638727802615], [-0.302383311354, 0.244274854339, -0.0526148766008, -0.00574308544278, -0.110790576601], [-0.161287438259, -0.0322427282359, -0.360711483236, -0.20487050509, 0.100327610731], [0.100028836688, -0.0369460471336, 0.179580712359, -0.0923396880169, 0.110183610175], [-0.212296519709, 0.114143159071, 0.0608975315015, -0.082195349558, 0.107403623566], [-0.176411962139, -0.0962563899121, 0.109154038419, -0.0429490031311, 0.0552354907502], [-0.153076571295, -0.051650491762, -0.215873140599, 0.0627845485094, -0.0506334945878], [-0.166425841946, 0.0520503011207, 0.115878971972, 0.0222233952676, 0.0337397588686], [-0.261726604641, 0.160877078988, 0.020103487827, 0.113315723594, -0.0245054346352], [-0.083781926976, -0.182825397217, 0.024776296025, -0.136485671102, 0.0273388942489], [0.0619641770368, 0.0124469549291, -0.0676988054436, 0.0926551837434, 0.118282880415], [0.0272657512769, -0.0685154852368, -0.332593279665, -0.113984193563, 0.248951619759], [-0.0486509638079, 0.00479627165766, 0.1132179636, -0.189524932168, 0.16776257321], [-0.0734200926131, -0.120982214557, 0.0494400621243, -0.073681585715, 0.0610538371668], [-0.102540715482, -0.160086663627, -0.0110318507287, 0.221258394582, 0.184261920579], [-0.1440824554, -0.152511022599, -0.172053102161, -0.176900198795, 0.119365672261], [0.154465765396, 0.00525670836578, 0.17686659772, -0.104558239606, 0.155018789532], [-0.246273961357, 0.249936036703, 0.0543731604059, -0.0817551091809, 0.0676805009408], [-0.128263403874, -0.127041479851, -0.154606488846, -0.0271376277111, 0.0630822667033], [-0.070505366113, -0.12749018472, 0.187174596351, 0.117249433805, 0.113602342825], [-0.0348285049472, 0.0582415197218, -0.0146271631419, -0.0886713048919, 0.0529739607331], [-0.1410839469, -0.182649771257, -0.0418959166553, -0.157635030246, 0.166922096357], [-0.148997508004, 0.162573565938, -0.109291701295, -0.0955990699208, 0.0665018151331], [-0.197002154431, 0.33599639015, -0.0888993521728, 0.136693221282, -0.052756843651], [-0.295512288007, 0.295815211579, -0.0733930327436, 0.0221047132697, -0.122611420002], [-0.101470885, -0.00642766887284, -0.215682710644, 0.0492537438962, -0.088726886485], [-0.0446004569423, -0.173098549838, 0.1706374191, -0.01926102902, -0.0306410120077], [-0.0217314400024, -0.0652089514198, 0.10245178629, 0.0817706406174, 0.202985559215], [-0.0959564804889, 0.21330423834, 0.143753168523, -0.0389375947375, -0.0415105143646], [-0.164877324699, -0.149858034566, -0.150900294132, -0.214078046326, 0.192172466199], [-0.242524599794, 0.0655419883487, 0.00831256413838, -0.0639383623243, 0.101599120626], [0.307552532298, 0.113983989107, -0.122285513351, -0.00377213224122, 0.0013704704079], [0.121350928669, -0.036132841202, -0.00332501547581, 0.0343575334056, 0.0484012144834], [0.0434301873054, -0.163746695503, 0.0565909870064, -0.0155434285517, 0.0446342990897], [-0.24730495804, -0.0344704008989, -0.0303111556211, -0.127152286558, 0.0244955874237], [-0.108755545958, -0.132290577451, 0.0841674681873, 0.060808181273, -0.0515536944748], [-0.036442152297, -0.0987693485035, -0.0235066676332, 0.0187561983619, 0.0664982372188], [-0.167906011804, 0.284609884154, -0.102894446445, 0.14909442791, -0.0415572178641], [-0.16688809485, 0.187189822423, 0.0843914104701, -0.027720096479, 0.0772914198968], [-0.169744337765, -0.139437291392, 0.058238503279, 0.0307525254667, -0.0148859778401], [-0.0454027307938, -0.102559230375, 0.0890403439402, 0.0262614880652, -0.0311991627731], [-0.17069737869, -0.130510496972, -0.180603605674, -0.209524562856, 0.165320789404], [-0.163120686807, -0.165568297925, -0.197622571661, -0.0618544595778, 0.0676044516377], [-0.14267316295, -0.132457875968, 0.12928403832, -0.0279903709104, 0.0980675991003], [-0.288374298609, 0.15883951263, 0.0578181694631, 0.0144866327605, -0.0569116387189], [-0.0415297356049, -0.0948381487492, -0.30937357705, 0.132921928669, -0.0108637731285], [-0.0198911930656, -0.173283768883, 0.0482945186022, 0.187903818714, 0.0679393089005], [-0.254258732573, 0.24605653879, -0.0312015333977, 0.112519916728, -0.0231884284643], [-0.0823309886193, -0.12340299894, -0.0498051558754, 0.183840909159, -0.115185255906], [-0.210410250764, 0.00819139576961, 0.0571729981071, -0.0219343342495, -0.14941542274], [-0.0653328339794, -0.0532852133831, -0.0856192280511, 0.241347447634, -0.10397313661], [-0.224553730333, 0.124425675655, 0.00196413764386, 0.083570713007, 0.00437256020323], [-0.149347269272, 0.10775119184, 0.0430429566554, -0.0150221843503, -0.0987690787577], [-0.00417944332821, 0.00711347836453, -0.0801629868784, 0.183555059063, -0.0139464518152], [-0.196548558386, 0.132269966837, 0.0212173320795, 0.00189114885969, -0.0353193251041], [0.00044758581329, -0.0903355479491, 0.0168277063201, 0.250118302484, 0.301359602461], [-0.0778720213254, -0.150483970537, -0.0162119242552, -0.0128109273251, 0.0989180442462], [-0.0750879211153, -0.0195242600812, -0.153862788006, -0.0829025171882, 0.0221711795968], [0.323202307887, 0.150376071194, 0.0441207617106, -0.085222255821, 0.136673844997], [-0.126365378133, -0.137781569098, -0.316112404526, -0.0910900042286, 0.104355362415], [0.0841150080258, -0.135077136523, 0.0787195989097, -0.0268579405562, -0.00377113672873], [-0.0227501751483, 0.0760471777506, 0.164223373416, -0.0279295836658, 0.0944060955231], [-0.265573738579, 0.336108350837, -0.0154135930532, 0.0206962385344, -0.0512448320273], [0.020323947896, -0.0982737159714, 0.0735084657929, 0.243548481361, 0.0442093282741], [-0.242291787464, 0.0793794179181, 0.0119437244508, -0.11961406478, 0.0106101986169], [0.105793411489, 0.103013157911, -0.0476564461266, 0.0262432774483, 0.146881492394], [-0.214198919152, 0.177143232924, 0.0386633603302, 0.0173445863881, -0.0868727801436], [-0.0296123800559, -0.144082483372, 0.00163659294238, 0.020813236644, -0.0896904405221], [-0.179796735846, -0.11136349612, -0.0779596553654, 0.105026966845, 0.222145210543], [0.0252328134249, -0.0283249979516, -0.341046959619, -0.240903920586, 0.0630878298059], [-0.243549670132, 0.138098893152, 0.095895224306, 0.20262362496, 0.116318267301], [-0.243092790286, 0.262217886531, 0.0288124926335, 0.0375787699493, -0.0262426686017], [-0.0864963023475, 0.0328457582328, 0.147545203178, -0.00627526134568, 0.130494791168], [0.280269607573, 0.180007031805, -0.042994798932, -0.0450104947297, 0.153932043277], [-0.0883366318983, -0.0369729129384, -0.0255912759174, 0.123807697475, -0.214298506689], [-0.138023611346, -0.173702973373, -0.223173209761, -0.133906588588, 0.051797320908], [-0.0148119752086, -0.130899343613, 0.0545659131877, 0.0223630070288, 0.205543996749], [-0.224604746965, 0.201162779755, -0.0230444871761, 0.0841152611964, -0.110009348255], [-0.141685256794, -0.168376203883, 0.154816490592, -0.0208186297279, 0.0144671697789], [-0.227869781805, 0.120620249389, 0.15199473322, -0.0175690419546, 0.143833382244], [0.113755516445, 0.0472903932677, -0.172974401359, 0.233488832272, -0.0013757920261], [-0.296169012948, 0.229356707618, -0.0771968485082, 0.00376278513945, -0.0546447702401], [-0.152994245886, 0.00682976493259, 0.197385311792, 0.144055085275, 0.0942515097698], [-0.250160323448, -0.0377392511895, 0.108501335799, 0.00172963984432, -0.0710365640291], [-0.217831586547, 0.363374510299, -0.0999776115263, 0.234869143241, -0.0932205616291], [-0.0314430098204, -0.0510527985897, -0.334047621327, 0.226031281367, -0.0299616057175], [-0.30026576307, 0.207641791189, 0.0201410172566, 0.0144015283946, -0.0316084633864], [-0.134768186791, 0.0378081714129, 0.0283958699005, -0.0700930423585, -0.0631590867209], [-0.133732098757, 0.251611422028, -0.0434405531132, 0.0383226661491, -0.0183355222882], [0.00625168967416, -0.0977630782328, -0.0273001692403, -0.0595401796194, 0.125057463683], [-0.15276939247, 0.0788683469159, 0.123515525632, -0.0265412228669, -0.015891305228], [0.000135885315318, -0.0411938868446, 0.0794131925078, -0.0881466984775, 0.100924332452], [-0.0782425492778, -0.116376363348, -0.272133519229, -0.157640118351, 0.137473722357], [-0.106807887045, 0.0046008192179, 0.186854883674, -0.0107587027913, 0.0057720372244], [-0.129843799679, -0.0346621439307, 0.11411426066, 0.0510125241962, 0.0407239940388], [-0.279223944913, 0.044751496824, -0.0497401388589, -0.0910475707084, 0.065408136479], [-0.172860092119, 0.0543675523392, -0.325292314195, 0.0510488549968, 0.0268976677076], [0.309382972229, 0.057803450347, 0.00569677014124, 0.0483085202572, 0.0744542328927], [0.0538775609595, -0.0488472166176, -0.0687075056806, 0.26136813544, 0.0769107425893], [-0.31240947702, 0.20353039623, 0.036162745493, -0.0258300326658, 0.00368856309051], [-0.12165264593, -0.16914468277, -0.203281215626, -0.19539093647, 0.0787516571987], [-0.0858190930992, -0.0950297471293, -0.34124584073, -0.170549261923, 0.160529311265], [-0.126237401966, -0.0280812366181, -0.180375368795, -0.0513754485583, 0.0177278177061], [-0.120053833044, 0.0940931901082, -0.0713601649068, 0.308631512317, -0.225870913166], [0.111606157318, 0.0489231051895, -0.187756085518, 0.224003257707, -0.00685492949863], [-0.0202117079161, 0.177739757524, -0.177191132245, -0.15014269906, -0.0600849537808], [-0.00805916277293, -0.0843248547182, 0.223337612922, -0.0262852696899, 0.0651113631164], [-0.0400237403579, 0.0824880327832, -0.00142858073167, -0.117572530863, 0.132372844372], [-0.342734337788, 0.281468945598, -0.04529513642, 0.0125872310083, -0.0451054629639], [-0.200793967632, -0.033477404354, 0.0644258958457, 0.0507176973462, -0.0454728747239], [-0.236072649052, 0.172100563551, 0.0161271477752, -0.0469453950928, 0.0138847530133], [-0.174097030062, 0.253482350515, 0.0305518935152, -0.0425132579149, 0.0338281611885], [-0.00119825428552, 0.000869372709448, 0.148299551613, 0.207266613595, 0.297507669723], [-0.296166247338, 0.291389416411, -0.00709034408402, 0.0277229757236, -0.0318655636566], [-0.0658800930044, -0.0936066815538, 0.126465774062, -0.0443103054357, 0.0400429319022], [0.147375197204, 0.249603034263, 0.0423062043213, 0.0489867312529, 0.0314314947656], [-0.0990896696787, 0.193568953836, 0.0819198078801, -0.17503122688, 0.0857725440864], [-0.0572547433145, -0.15838928062, -0.149163567337, -0.0998476516417, 0.0618503241141], [0.00730389921886, -0.0993220421411, 0.146254952605, -0.0164627897634, 0.0370719918025], [-0.28353906079, 0.114232899151, -0.0647172796423, -0.0584083334484, 0.0361435977339], [0.0481499349434, 0.0134389847881, -0.0333348173127, -0.139926784838, 0.159295012251], [-0.170142486668, -0.0441117579176, -0.0070797269894, -0.163972417732, 0.0387434151015], [-0.198834515649, 0.0987797904897, 0.0161917992158, 0.0297814710951, -0.0692933314965], [-0.109988763132, -0.0671542650113, 0.0783817243344, 0.101293349753, -0.0924663923111], [0.0578250545496, -0.0829044255403, -0.0807006470937, 0.29134412661, 0.0394434267507], [-0.126542669404, 0.189356737905, 0.185793003121, -0.0288996959219, 0.0971990401089], [-0.0160991274896, 0.0233200172059, 0.0896877879978, -0.0445426791573, 0.15824684952], [0.0400312554064, 0.00770127403247, -0.192609542394, 0.351031582055, 0.0888000974644], [0.0314542802506, -0.00709091712098, -0.227734502333, 0.372477923367, 0.0796111876304], [0.0362763758608, -0.156148349895, 0.0842924394015, 0.217372283655, 0.0340917223799], [-0.291807979509, 0.318922814631, -0.130718973112, 0.0328556387104, -0.09765748206], [-0.200900265387, -0.108308713102, -0.0428315596088, -0.0626748297092, 0.0572825921992], [0.0484405205242, -0.187510761619, 0.18455660157, 0.0457575608877, 0.0103738751287], [-0.265818003727, 0.126025029276, 0.0933299544517, -0.0958619812394, 0.00985449112687], [-0.0672079391596, -0.0026449327895, 0.0379278592745, 0.150345370111, 0.150918305384], [-0.137663388379, 0.0669201742001, 0.0225640552688, 0.304778554776, 0.114435122081], [-0.159191641151, 0.331018296531, -0.0988376868725, 0.0636943275873, -0.0699054723635], [0.0471111734452, 0.00999669659539, -0.187449807188, 0.298747353228, 0.0665717436034], [0.00830435689294, -0.113928470929, 0.0561101850022, 0.0262675914785, 0.0220497170029], [-0.124836051368, 0.0234224339691, 0.078950324191, 0.227219011176, 0.220530831998], [-0.0557161021316, 0.103035502548, -0.225283103512, 0.0886316104992, 0.034439157235], [-0.19232742893, 0.0539578653127, 0.161475114494, -0.0503926478186, -0.0353820885732], [-0.137929823674, 0.0879051842417, 0.183765724874, -0.0848101944259, 0.0832626603366], [0.00736430368043, 0.0469918734872, -0.239440085126, 0.343001702443, 0.0684833852031], [-0.0366163702309, -0.00403622167117, -0.0728237105734, 0.305260873868, 0.0655353285105], [0.0124327627171, 0.112915368861, 0.147327418689, 0.0303507489122, 0.0994415647845], [-0.0836903256247, -0.0521674075286, 0.0621095938669, 0.270142862054, 0.301582260213], [-0.252097601877, 0.284651202597, 0.0255685534982, 0.00532753751894, 0.0429443389375], [-0.18257931881, -0.0347795929781, 0.0771194938059, 0.0617866465067, -0.0883737935323], [-0.0222669603694, -0.0796441166702, 0.0500166882064, 0.313841023059, 0.226176808835], [0.027655900558, -0.0342574620743, -0.00802073671922, 0.260198974991, 0.246443970128], [0.0182727183794, -0.174434070037, 0.102591388883, -0.0302935906417, 0.022672781866], [0.039831170736, 0.0213983189344, -0.225479775276, 0.344064124701, 0.076498304951], [0.0610880395558, -0.0648053168129, 0.0364522497126, 0.228237634073, 0.260020098051], [-0.0641957592177, -0.02678168973, 0.0206891915209, -0.0745362356125, -0.0539467110873], [-0.0643485880278, 0.150017098869, -0.0119624205623, 0.0969982521412, 0.048308745164], [0.104598971613, -0.122047474097, -0.017921661156, 0.0892209008103, -0.00571812160086], [-0.222770193768, 0.236462837669, 0.0471339830214, -0.0819247786105, -0.000925466765874], [-0.0251195103021, -0.0116936690494, 0.0245558578404, -0.193628639763, 0.100983389066], [-0.101998993891, 0.216713815045, 0.117096915524, -0.14656492906, 0.00692387844325], [-0.184444010326, 0.0950039094834, 0.0731229761051, -0.0199689500591, -0.112223840117], [-0.013596757332, 0.00970887061251, 0.0716977272509, 0.105818442394, 0.204530028661], [-0.2198079842, 0.29228901498, 0.0616437899138, -0.0843292580954, 0.0419951664968], [0.199894634796, 0.00956610249416, 0.0938384630377, -0.0649189920196, 0.0500680216294], [0.00491223761439, 0.0374041769508, -0.234491327628, 0.258020564725, 0.0476250623624], [-0.168618041719, 0.0546574872909, 0.0814436953759, 0.248993888313, 0.178195116243], [0.043731535718, 0.0198778881745, -0.227500093085, 0.366393917821, 0.0900525256253], [-0.201480004972, 0.0652119886617, -0.233262969962, -0.0816052680836, 0.0688696005513], [-0.0783060761896, -0.0637801481715, 0.186188597754, 0.227641344853, 0.275531724259], [0.0876779152948, -0.0557185768084, 0.121346131373, -0.0418564529303, 0.146179350831], [-0.0911290549187, 0.0922092133542, -0.0271365926152, 0.20160293796, 0.0132618574638], [0.00389533549601, -0.199129761333, 0.114398040095, -0.0226106055257, -0.000769009849789], [-0.178792962653, 0.0283879725339, 0.102531790231, 0.0558883237719, 0.0130041556786], [0.047461053718, -0.018190770602, -0.0861068694532, 0.367252228947, 0.168693837427], [-0.0500315300002, 0.0188150830765, 0.0200166704358, 0.0465499039766, 0.0510392359889], [-0.199301630314, 0.361495360047, -0.131844465815, 0.258184760066, -0.0890330288223], [-0.0742208473739, -0.129772141183, -0.111984624963, -0.186948555575, 0.0554291255216], [-0.198602173149, 0.104221632806, 0.0426366967183, -0.0934895567964, 0.217302350782], [-0.216080514367, 0.00974723117209, 0.127865111904, 0.0234840696448, -0.0587882406401], [-0.00672854896302, -0.0592390082313, -0.256058848631, -0.187847621342, 0.336793162697], [-0.227688367297, 0.177299485678, 0.0856490403868, 0.117846831982, -0.0217897102045], [-0.19456405961, 0.135134175489, 0.164609022659, -0.0917753633672, 0.0523817276924], [-0.248070739468, 0.132237976631, -0.0413788003097, 0.108330725841, -0.0942373414127], [0.023736811304, -0.00483492647113, -0.268157509908, -0.0861004356332, 0.170271691371], [-0.257408738874, 0.208866783642, 0.0836999368723, -0.0588572104062, -0.0082826419816], [-0.0336554660684, -0.0315231935651, -0.296359685315, 0.295794001112, 0.0101845973502], [-0.226651430054, 0.0891881162888, 0.108381755728, 0.0146325239768, 0.00832100521552], [0.0301010328993, -0.0475175031647, -0.184759539569, 0.258342472153, 0.124291374727], [0.0778023829329, -0.0686759150258, 0.220871404576, -0.0578922346975, 0.14478576713], [-0.0897325389479, -0.204241607606, -0.162032223313, 0.0436236907204, -0.0697171526764], [-0.189131821203, 0.00675573050259, -0.164427015509, -0.0535192755917, 0.109434850046], [-0.0730665043302, 0.0284361328581, 0.12644112611, -0.111190790079, 0.192258220448], [-0.277413879723, 0.191806066153, 0.0689083214242, 0.0555340733318, -0.0579437665547], [-0.158733515149, 0.117010330029, -0.00765286659925, 0.16926531481, 0.042072591852], [-0.185520664837, 0.295710954162, -0.039400916773, -0.116095756716, 0.0177486035615], [-0.023659856226, -0.146565613953, -0.173646893719, 0.0304095249604, -0.011262495122], [-0.0955012715283, 0.0564625171896, -0.0344562593608, 0.231963178529, 0.0194878825597], [-0.197425809032, 0.00298181007142, 0.115118878347, 0.188207231263, 0.064864706399], [0.295973102191, -0.0102813267852, 0.0196896685023, 0.0475273092627, -0.0442350536558], [0.184964866279, 0.0180813391611, 0.128260342938, 0.0289658594446, 0.180517001788], [0.0800181441844, -0.165218025046, 0.00845571470356, 0.00856510158742, -0.0336844936035], [0.472214408892, 0.189322026282, -0.0489361848058, -0.0177732487104, 0.00143226449955], [0.323948982636, 0.0424471073933, -0.0262383591736, -0.0524677459743, -0.0479517377119], [0.45701750956, 0.11539822306, -0.0157997191754, -0.000991933333024, -0.0459419173213], [-0.00669048046379, -0.143473187223, -0.170320820753, -0.0420149344538, 0.23536643379], [0.0959311038254, 0.14609558413, 0.00225581897602, -0.0613118717543, -0.0406440618894], [0.334702279393, 0.102946203251, -0.0248925131705, 0.023734552833, 0.0048927435023], [0.327053938139, 0.0387821572351, 0.104056172053, -0.00738778920245, 0.0910814652856], [0.354594166098, 0.0863377395872, -0.0301735189944, 0.0220836094369, -0.0283838625537], [0.482414294813, 0.191621474518, -0.0774269152196, 0.017932260831, 0.00314916277411], [0.468893091417, 0.179031271795, -0.0360394314603, -0.0255113807975, -0.0127702027531], [0.374160299916, 0.166211545993, -0.0650892595553, 0.0181129801787, 0.0395934374702], [0.101157556901, -0.109757072257, 0.146733058766, 0.00406585554882, 0.112445814826], [0.233990959383, -0.0504519425786, 0.149318915252, -0.068985376721, 0.0357034048988], [0.486093762616, 0.192874134702, -0.0754967586173, 0.025660925113, -0.00978800178831], [0.458742533105, 0.161979378532, -0.0583053868167, -0.00447625599463, -0.0372007734127], [0.0395731476212, -0.0720380385854, 0.0468014929287, 0.0052214554528, 0.189998862308], [0.34864004289, 0.0579405810755, 0.093833368723, -0.0755973529849, 0.0757715085067], [0.426576768819, 0.135372985969, -0.00244886993363, -0.0178427371498, -0.00738123138669], [0.425368522365, 0.145910227186, -0.034054889951, -0.0346235567746, -0.00988489598869], [0.248766410865, 0.0416280903214, 0.0295949485569, 0.0969265829282, -0.19153687421], [0.207442763624, 0.0608768128916, 0.0313472618473, -0.0884734355059, 0.111445310861], [0.488830646006, 0.132522426962, -0.0286247170613, -0.0114295729622, -0.0973227753113], [0.423793566813, 0.133259827584, -0.0169084981464, -0.0366987664483, 0.00559606777959], [0.38517534723, 4.49297351336e-05, 0.0558146391492, -0.00731702467701, -0.0943063605542], [0.405025516529, 0.0706686290444, -0.0080358538625, 0.0605278539461, -0.083838145129], [0.0413906418842, -0.186827519861, -0.015884206773, 0.083818376959, -0.0355625049243], [0.441445430349, 0.0973380978689, 0.0093318955715, 0.00617083031354, -0.0496321550607], [0.0802199057394, 0.0274687954072, 0.00397488286827, -0.0819501870375, 0.00810895171537], [0.446798461058, 0.155723042262, -0.042330361316, -0.0392173869464, -0.0454179377802], [0.302634667467, 0.0819164046744, 0.05758628368, 0.0204636465454, 0.0958163091293], [0.454478513829, 0.114185113829, -0.0112515721574, -0.0346545887781, -0.0159203594734], [-0.0319999187839, 0.0901115698075, 0.0855970980934, -0.0374825000892, -0.0515366716205], [0.228141735752, -0.0122750894723, 0.0546051277702, 0.0640033615253, 0.069428299089], [0.363574418944, 0.131250219563, -0.0422746015041, 0.0594755767777, -0.014361101795], [0.46027255503, 0.140888815256, -0.0273890186103, -0.0133183888165, -0.0309886146389], [0.042150708678, -0.0791363660979, 0.11347129587, 0.0127918774437, 0.101447931983], [0.472011717027, 0.183747535852, -0.076122947839, 0.0398756393753, -0.0381085666], [0.405679524093, 0.137837300501, 0.018954248788, -0.0314509793025, 0.0512359655139], [0.219344683084, 0.0347911451851, 0.0383055729277, -0.0436935650275, 0.0832636402815], [0.385446981818, 0.0674529995278, 0.0278195028407, -0.0728716861337, -0.00552762747892], [0.433176103408, 0.0912500896665, -0.0472011512739, 0.017432220448, -0.0672138920174], [0.0812431022755, 0.0267345012956, 0.165325589177, -0.0824711638249, 0.146721727636], [0.351538652143, 0.0424337284967, -0.0109038152154, 0.0574073155621, -0.112224101426], [0.454420212158, 0.16212635448, -0.039995185156, -0.0459428300345, -0.0151146029067], [0.406436570918, 0.174076658304, -0.0745246176144, -0.00342988006736, 0.0263786972776], [0.176338403828, -0.0858650498312, -0.2942750004, -0.102684943182, 0.130738581309], [0.409321588305, 0.122164549394, -0.0185010503961, -0.0114432336189, 0.0187667717884], [0.434594311988, 0.0879640247571, -0.025487444803, 0.0493047856783, -0.101678418551], [0.461291630358, 0.121370772395, 0.000933659540069, -0.00270293036591, -0.0429056544028], [0.159084991365, -0.0853498263046, 0.0167506678855, 0.0883049835633, -0.133408595207], [0.193263431051, 0.0253318412135, 0.0423723169525, 0.19171412756, 0.151603741553], [0.125578799648, 0.0179189380297, 0.118885078248, -0.0675420580891, 0.0699410959016], [0.291427536103, 0.00518684275837, 0.0140706912721, -0.122507199634, 0.00393731174379], [0.0668899948479, 0.0459202250797, -0.139666671342, 0.213312619882, -0.108254017808], [0.345926225201, 0.111154714782, 0.0971641014106, -0.0750500500133, 0.124261383509], [0.157592355333, -0.00369748092943, 0.145006072861, -0.0952740395753, 0.120016938571], [0.423895308343, 0.184403085138, -0.0116692706008, -0.0359107671834, 0.0661567036496], [-0.0442606177613, 0.0982980754817, 0.0898150343996, -0.0265042502515, -0.0673893207813], [0.461411865811, 0.22636908173, -0.0336395076461, -0.0364639857113, 0.0643067089204], [0.366603959694, 0.0320291327761, -0.0447868245399, 0.143891899388, -0.186375271286], [0.099012993941, -0.0451881088224, 0.078727751678, -0.0170428365668, 0.169209976887], [0.304728132959, -0.0302993286855, 0.138650491957, -0.0584314080712, -0.00294271489696], [0.0411739359188, -0.0408340651639, -0.000811731021513, 0.0674837642853, 0.0855298169629], [0.0178086244026, -0.203621245498, -0.0426023633276, 0.117984934694, -0.137618615518], [0.303729247007, 0.0652459348629, 0.0429141285457, -0.069427212014, 0.00380512905455], [0.0839033125708, -0.101169088761, -0.00477654414104, 0.094633308219, -0.13467727322], [0.344058153205, 0.0720342074323, -0.00265935934683, -0.0323899397649, -0.0227464344775], [0.4640359662, 0.16236563437, -0.0220096478831, -0.035728324676, 0.0165238788648], [0.253435300491, 0.0348951563652, -0.0106590106465, 0.110808312756, -0.172209780002], [0.454025123047, 0.138339863749, -0.0373819994882, -0.0104013358589, -0.0197205925925], [0.47016100518, 0.165759326589, -0.00104123241495, -0.0756149895728, 0.031083735145], [0.388248828004, 0.0936624262525, 0.0266382651811, -0.00871091569365, -0.00631007464198], [0.314541298312, -0.0659688168332, 0.118059857566, 0.0276532600617, -0.076134212811], [0.189627784752, 0.0358015748099, 0.103906718388, -0.0459292033945, 0.0454957294855], [0.263729338154, 0.0326120737951, -0.0423243206743, 0.0785102617577, -0.0296809433275], [0.356837213677, 0.133348083376, -0.0182616236257, -0.0346369928503, -0.0491436058815], [0.321113138549, -0.0627479539986, 0.0452381328547, 0.108256241543, -0.104442798447], [0.114533889568, -0.0671246898091, 0.110819935245, 0.0284336916808, 0.075235559299], [-0.124727627095, -0.123805924497, -0.177668859719, -0.0811453433484, 0.0440599535875], [0.0111230419856, -0.134288804492, 0.120158383993, -0.0755955468835, -0.16406645051], [-0.0482929734941, -0.171600899863, 0.0519160299283, -0.0431475559149, -0.113740344527], [0.111230390142, -0.0190948226984, 0.0856119055801, -0.158525796239, -0.0715693251736], [0.121996622676, -0.0979733118771, 0.0289068128113, -0.0351480647329, -0.0518459937394], [0.19356865733, 0.000168544386804, 0.050779084073, -0.13305240987, -0.0685881955301], [0.0271849548732, -0.0713904768229, 0.0974009909113, 0.051544160659, 0.0123316377013], [-0.0442105646842, -0.0791303193149, 0.146481172035, 0.165845056057, 0.172950002153], [-0.104034283739, -0.0490138185651, 0.0827082893212, -0.0756094486368, -0.0755741216796], [-0.00709708500539, -0.143603715003, 0.164555057649, 0.0288061061109, -0.205800440834], [0.13504198473, 0.0894686555633, 0.0459705651712, 0.000699695148225, -0.103171017503], [-0.256895443682, 0.0111991154795, 0.111071957486, -0.0588067400547, -0.0981953681662], [0.0610267140926, -0.18283673564, 0.00780496139326, -0.0398338303513, -0.0888446768995], [-0.0812603270334, 0.125721161835, -0.060429820521, 0.158201422815, -0.0288939306068], [-0.0207328893459, -0.112968643246, 0.0654117527905, 0.0755573442143, -0.184894282126], [-0.146338950035, -0.21062192786, -0.154865833117, -0.154282703729, 0.00556717059664], [0.0289531625242, -0.017365515588, 0.232914336223, -0.103768362776, -0.0387637381695], [0.0654022839326, -0.204513507666, 0.0705854392694, 0.0401916588202, -0.0455238911595], [-0.155524210096, -0.0367390790781, 0.152348766778, -0.0312297195842, -0.0491080214895], [0.226886941775, -0.0273896949548, -0.004213280514, -0.0102808098016, -0.126774631945], [0.0726303664715, 0.0757330249825, -0.181268734199, 0.0786991543588, -0.120370910957], [0.0444899718101, -0.160855296751, 0.03246026254, -0.0324547424431, -0.187514964721], [-0.298245830342, 0.144367337276, -0.240528994126, -0.0553959960505, -0.0730137405851], [-0.205066057756, 0.0767464932881, 0.139421870284, 0.0229082580846, -0.0822637169345], [-0.134170970212, 0.194653495343, -0.02091387744, -0.118966638949, -0.0257482493942], [-0.087425637252, -0.0983089237633, 0.164603760796, -0.0374069682407, -0.0696524992487], [-0.0584502103802, -0.0871206181412, -0.0516018061654, -0.0830573072241, -0.0936494827012], [0.0537799721899, -0.194147063342, 0.0211017582103, 0.180674824058, 0.00554900954385], [-0.0419502805143, -0.155382906546, 0.0609332183526, -0.0756003040514, 0.0627416442515], [0.0245387100139, -0.172286861846, 0.103169936852, 0.0334805037057, -0.104177646102], [0.139195283771, -0.0862663655966, 0.081755681749, 0.00430776071866, -0.0495841203677], [-0.132376584871, -0.101964372116, 0.00495020740507, -0.00718427703918, 0.0271226449841], [0.0323344106738, -0.170567902608, -0.00850798794978, -0.0385302495269, 0.0803850207525], [-0.0397540453054, -0.0905329857094, 0.0720055328934, -0.175206618671, -0.0378768230315], [0.165111308618, -0.0571146130127, -0.0584314520183, -0.105563062117, -0.0998255408627], [0.210316932177, -0.122094090494, 0.141970161065, -0.0764485151173, -0.0898322088024], [-0.0704808695848, -0.189640361591, 0.0763987626395, 0.0829819422085, -0.167164968702], [-0.111555572848, -0.0641910266266, -0.0596449728166, -0.164315842182, -0.0199952255259], [-0.28720063085, 0.205797412905, -0.00527591826738, -0.00858931969927, -0.175750372213], [0.0115311988008, -0.177721559171, 0.0524322070863, 0.0532348377492, 0.0376685396952], [-0.0117362220365, -0.176734468028, -0.159353151371, 0.0477383239125, -0.23264792312], [-0.00735482236245, -0.151108008406, -0.302431172143, -0.00052577799086, -0.0393154601133], [-0.139245856877, 0.0659636880299, 0.0619793329675, -0.108906403552, -0.125717028338], [0.0574980571609, -0.22495879392, 0.0575836959045, 0.0914492468059, -0.168580146368], [0.0765172236184, -0.161490864976, 0.128480470535, -0.133845880763, 0.0431550821501], [0.111042590023, -0.123198246853, 0.102798454528, 0.128063289672, -0.00369488238891], [-0.130724362773, 0.15426201548, 0.104039642879, -0.180858301955, 0.0200627564282], [-0.00772286904242, -0.286040590966, 0.0130375476206, -0.0423495423433, -0.0190428808516], [-0.0502576685517, 0.00993990231452, 0.00648193986266, -0.0465739462595, -0.0673530117186], [0.233061339788, -0.00544740361441, -0.00330470865871, -0.000663640916666, -0.0785591309537], [0.122529298238, -0.0298181398074, -0.0315347249651, -0.0203998392279, 0.000313150365634], [0.171180852025, -0.0462733795224, -0.0674895912643, -0.0961652477662, -0.039306536547], [-0.117297692099, -0.0511089467958, 0.0233019719894, -0.0265443879407, -0.146113986317], [-0.125885660756, -0.0830564347021, -0.336501878003, -0.214977315914, 0.0417704171545], [-0.200511881311, -0.0867963796996, 0.0783505125351, 0.0145711615113, -0.186689639862], [-0.0926344760458, 0.0123254812696, 0.0222496665518, -0.014901736148, -0.0591683398889], [0.055551557746, -0.175872800435, 0.0980982280699, -0.0982659362143, 0.0253227635081], [-0.0848842232787, -0.0960925448893, 0.0656330687252, 0.0321781525471, -0.0884172625925], [0.183405419824, -0.0582398806229, 0.0540154902622, -0.0407829978285, -0.0566078086644], [-0.185428867742, -0.0853990615006, -0.0603037509358, 0.131016868396, -0.260665364801], [0.207037738384, -0.0447603425525, 0.0290858203405, -0.0685518985152, 0.0587758723949], [0.152779275757, 0.109498623396, 0.000626771861965, -0.0422135579638, 0.0466433547624], [-0.158157867582, 0.0736097707313, 0.0266940331772, -0.143072612019, -0.0542734168785], [-0.0625111048266, -0.17410731817, 0.164125422337, 0.044394161878, 0.0912136569114], [0.00764250135669, -0.207953191769, 0.147757154465, 0.0864482353079, -0.115362141052], [0.0827416480467, -0.134735861436, 0.0181890094978, -0.0989747701242, -0.0647382344933], [-0.0182856130692, -0.0714600294379, -0.296784217489, -0.210103072946, 0.07359782326], [-0.0868617260643, 0.160438450813, 0.0247107307011, -0.0207621887855, 0.0297255539106], [-0.00262328245302, -0.169300133559, 0.0175686137958, 0.0774552989451, -0.256417001042], [-0.0841488703028, -0.0836568855793, 0.0569216733984, -0.110836310246, -0.0408845424808], [-0.15282501263, 0.0327705621719, -0.000439495807931, 0.000614649474629, -0.193088070692], [-0.211738789227, 0.130329744139, -0.127195790855, -0.0589524684208, -0.113710420076], [-0.239751876086, 0.0429089348564, 0.128578555848, 0.0547355475034, -0.127133709223], [0.0580470078589, 0.148795216762, -0.0999597814374, -0.0745965923324, -0.196603376677], [0.00132313213813, -0.222418219234, 0.0193174219033, -0.105960380051, -0.0027551489843], [-0.232140261462, 0.292934829017, 0.0379924468876, 0.0537503036366, 0.0371972726044], [0.0751859906527, 0.0543113257996, 0.0385356276526, -0.0379720808857, -0.203100942899], [0.143241229296, -0.0715911285124, -0.0418911186837, 0.0604040156149, -0.171197388145], [-0.00462257040617, -0.0715622996819, 0.0738701808218, -0.0973210774616, -0.183669146842], [0.0186323536113, -0.228336634017, -0.110778758603, -0.097994045033, 0.017512223625], [-0.108228901174, -0.132144106479, 0.00420116359162, -0.145042928773, -0.0835927426062], [0.118088201778, -0.164044633311, 0.15608496473, -0.0145565558632, -0.0741422179025], [-0.0663652819518, -0.166955582072, 0.111712146784, 0.0296643811687, -0.028358719124], [-0.0831043615592, -0.134128806716, 0.0990766882039, -0.0258060581357, -0.0537464894908], [-0.310375804757, 0.065051915156, -0.119878600155, -0.117264828752, -0.0560886630092], [-0.0962582656744, -0.107962864093, -0.32904679612, -0.207569522033, 0.128056711257], [-0.129292172745, -0.0830143318094, -0.367464068384, -0.193440906919, 0.0597950814529], [0.212822040893, -0.0256903555892, 0.0925746594471, -0.084196320062, -0.0129345187009], [0.0219500467915, -0.188302281866, 0.0394380273719, 0.182400301237, -0.191493968189], [0.0486476487403, -0.0852312376198, -0.0747850671583, 0.111566773094, -0.0764685628956], [-0.0682011692857, -0.158662976977, 0.0535107361171, 0.109169266227, -0.0387193174377], [0.0537542291787, -0.0439619828916, 0.217680552413, -0.123948228088, 0.106513539326], [0.189605033322, 0.14870098947, 0.026838314141, -0.121647298892, 0.0864269221372], [-0.0629980540737, -0.263097885617, -0.0417138285762, -0.0866752195157, 0.060163307581], [0.204349580916, 0.00343630384459, -0.119676892743, 0.128020493012, -0.0980347048472], [0.132909597655, -0.0433329697343, -0.133372005922, 0.14240477585, -0.216818240141], [0.228321101664, 0.17069770972, -0.191748168739, -0.0363389873807, -0.0195659536861], [-0.0536761848234, -0.118065820574, 0.165751312104, -0.0419361598998, 0.0204178270381], [0.00375521625389, -0.0657129720064, -0.459296925122, -0.127506006692, -0.00754365918004], [0.0356649000677, -0.167792676158, -0.132118450252, 0.284098748357, -0.203338809097], [-0.184851131796, 9.07522579348e-05, 0.100356304355, -0.0764296084186, -0.0657076513744], [0.390486280639, 0.0134502771312, 0.0744558693238, -0.0959451185135, -0.0625394351019], [-0.0898385686263, -0.118004713061, -0.153693779071, -0.0355593655812, 0.18286716784], [0.185301541433, -0.0206581790372, 0.00905786976507, -0.120571002872, 0.00401857941794], [-0.235926646861, 0.0231770693277, 0.0262708881334, -0.060797332923, -0.177119078572], [-0.0310984445096, -0.115139645266, 0.0663237467507, 0.00910028239287, 0.013742302092], [0.0127551364362, -0.172477173422, 0.179349833049, 0.0811411821222, -0.0730031766603], [-0.00572901156457, -0.111355077295, 0.210444869892, -0.0664597045021, 0.0690073225132], [0.0232816101998, -0.118151109709, -0.0706636456567, 0.0976621448703, -0.282313570295], [0.0908591499146, -0.0385671179397, 0.0393904203772, -0.126421267143, 0.0402896863678], [0.233349118282, 0.0674329469659, 0.0543850125228, -0.0890413471686, 0.0134157037672], [0.0179216851088, -0.112670355425, 0.0938631024093, 0.0396537661465, -0.179739573357], [-0.181630415623, 0.0126395033186, 0.0245503916053, -0.13382743502, -0.133549509185], [-0.110731029203, -0.111256436251, -0.0590810840796, -0.0409848664713, -0.178657443031], [-0.00400803692536, -0.072255341598, -0.266245184909, -0.0847243231877, -0.0460879861824], [-0.150441559589, 0.193240253061, -0.0750758079737, 0.0820725850515, -0.264239431905], [0.180648119953, 0.0618423455877, -0.244360299412, -0.109449075579, -0.0304610631968], [-0.0324101125658, -0.0643458003736, -0.0136382912032, -0.104996490376, -0.0668609279666], [-0.114772410005, 0.0508231405968, 0.222739027612, -0.110854036188, 0.107875770773], [0.0165584128519, -0.25390763935, 0.0182736959922, 0.0531670988417, -0.0990332565651], [0.129917714922, 0.144945761326, -0.149090784228, 0.090335790837, 0.000891799370744], [0.00899934569178, 0.0439628412482, -0.281648256228, -0.254760232459, 0.0609110066477], [0.266685449258, -0.0245669694413, 0.0890083184203, -0.0638089437004, -0.0129222824134], [-0.190138957371, -0.0241853284334, 0.117911052024, -0.000496348817708, -0.0919829118269], [-0.0712290925183, -0.0101219508722, 0.00339541806652, -0.0150271664255, -0.17227311686], [-0.133153386225, -0.0709303868658, 0.0852267309227, 0.0745310828387, -0.0568768509466], [0.138371591005, -0.111239613501, 0.0431249699049, -0.00619571143243, -0.17744327815], [0.0110611357191, -0.212432585421, 0.114936929497, 0.0220374352215, -0.172592444975], [-0.136437596445, -0.00460201057563, 0.0557145636489, -0.0963501614948, -0.115205833384], [0.0695766538883, -0.194836486779, 0.155320150553, 0.0454217373561, -0.195994099544], [0.0354758968454, -0.104360619136, -0.021738924219, 0.0432475777148, -0.104615208901], [-0.079093323662, -0.168523690734, 0.138183354989, 0.274621263441, 0.153876931736], [-0.166639726175, 0.0862610475991, 0.00154749529856, 0.0322617112986, -0.109795613011], [0.0152515715766, -0.225871338815, -0.312043612346, 0.0749686266283, -0.0909009692852], [-0.197345564411, 0.162159876283, 0.12374569863, -0.0899771527843, -0.0565930712153], [0.0562088538589, 0.151745711478, -0.124875129, -0.153247500483, 0.00978231399402], [0.162718568233, -0.0614176276028, 0.125990697814, 0.00746083494293, -0.00103514502474], [-0.116920488294, 0.0213379495376, -0.0700421695568, -0.0969948421647, -0.167009785743], [-0.0117626898994, -0.152626289037, 0.0697257430389, 0.00528785642392, -0.0882253729879], [-0.118682748032, -0.099419697202, 0.0971113923361, 0.126863792272, -0.14239063963], [-0.0425945313291, -0.2017881139, -0.369736632943, 0.0407825085678, -0.0638070224115], [0.172744767685, -0.138628404388, 0.155851331626, -0.020307945405, -0.068640428399], [-0.0608135851002, -0.0299754471684, 0.0703731991243, 0.131561723532, 0.0605731469617], [-0.0493301080462, 0.0833661687767, -0.0708538633472, -0.147043668679, -0.207916566743], [-0.170969813474, -0.0123312447613, 0.0580245395177, -0.130402574439, -0.136633202384], [-0.0349557192342, -0.181233894161, 0.165790505563, 0.105306447542, 0.0570642388353], [-0.153112522063, -0.165257693383, -0.345659610467, -0.134212313632, -0.0475991928574], [0.328015226503, 0.102726167683, 0.0458007183463, -0.111153179042, 0.0401361653025], [-0.173509187796, 0.249762473093, -0.0488508370597, -0.142954120062, -0.0905359874132], [0.248432747221, 0.170479493707, 0.00160494895007, -0.0396452187446, -0.146950895671], [-0.22233078169, 0.128404322568, 0.091912559042, 0.19963607623, 0.0210966796835], [0.342483848636, 0.0232109950341, 0.112582460115, -0.0765168650614, 0.0356777971899], [-0.197727663016, 0.0130491319085, 0.0991027581723, 0.0967342443763, -0.0638018817747], [-0.0756305367402, -0.206693213525, -0.0678686443306, 0.11171711111, -0.1730922132], [-0.0957151728712, -0.134548491998, 0.115212954103, -0.0448285151252, -0.0697487463374], [0.279856067351, 0.0269875415069, -0.0334414664079, -0.0216384446258, -0.00676104597409], [0.0143576493936, -0.249351829021, 0.0411516459222, 0.162416269314, -0.0944806946251], [-0.0264466761584, -0.0840082142821, 0.0867597015807, -0.0396902574149, -0.0672114924102], [0.0185371485138, -0.103390739388, 0.0545579912045, -0.151362886504, -0.0679193953754], [0.00593735706362, -0.221851358018, -0.20566823211, -0.139995694767, -0.0129057408217], [-0.0683847195044, -0.17299778829, -0.0173299376569, 0.0768359487736, -0.100213153438], [0.0962194527235, -0.129312907586, 0.116161284085, -0.0401494192955, -0.194092717902], [-0.099204045583, -0.21817085894, 0.0317296699739, -0.00984150974786, -0.0717966716578], [0.0599030625731, -0.160754366292, -0.0399797679288, -0.0521824178814, -0.0229341108824], [0.0570466276754, 0.0996028891168, 0.130728411453, -0.17811449449, 0.103680321087], [0.318236875097, 0.115551714959, -0.0152456443581, -0.0797664157809, -0.0079057977116], [0.173374335224, -0.168547725544, 0.0448131064672, -0.0284606399503, -0.220385764237], [-0.00987093555468, -0.126716685212, -0.051287375972, -0.189397271757, -0.0404434801817], [0.0596991915382, -0.0045595980169, 0.132006454642, -0.0887547070326, -0.00542089805449], [-0.0278005155815, -0.172253445696, 0.149761578169, -0.0755667022304, -0.0166878229177], [-0.119037791252, -0.144206426638, 0.159990282673, -0.0486288531684, -0.0281556039663], [0.0302373084725, 0.0128801153001, -0.138890794176, -0.0862887783365, -0.168669658659], [-0.273660321539, 0.148386584411, 0.0727120283326, -0.0239765426893, -0.0681231095543], [-0.00632379208879, -0.268105066123, 0.0927857365014, 0.118050237006, -0.140943771267], [0.0967276756268, -0.0455794511516, 0.133060056038, -0.121514387376, 0.045434514017], [0.0455559847307, -0.14058976274, -0.0225658319752, -0.135368284819, -0.0286076260842], [-0.0341550132315, -0.139722446913, 0.00250988706127, -0.227267006253, 0.0312687526926], [-0.0731922527955, -0.157474306375, -0.293506099696, -0.218130637359, -0.0111034114854], [-0.0927785773066, -0.0128724906127, 0.0193856946999, 0.142929436844, 0.187513853756], [0.0885690367769, -0.0244251891694, -0.0151170042376, -0.0615829384864, 0.0168491039146], [0.123997756812, -0.0871779788888, 0.0620894125802, 0.111214927566, -0.0807057965057], [0.266460013721, 0.0485535088268, 0.0177805044105, -0.0508077976296, -0.0877324550398], [0.209606628058, 0.189143252766, -0.114266029345, 0.022768079724, -0.011188110818], [0.0159404623801, 0.338366599726, 0.0745801387604, -0.0578436553364, -0.0104847420828], [0.269366731659, 0.193807171532, 0.0329773185149, -0.183122411224, 0.105575171381], [-0.0697976962975, -0.0104189098952, 0.110100896334, -0.176839500334, -0.0230521773965], [-0.0814539560671, -0.0451580157689, -0.0516641798268, -0.0963039900081, -0.00948123457277], [0.0928389635812, -0.00770219474105, 0.0302361583836, -0.125412385766, 0.042623273636], [-0.164094007231, 0.111217304368, 0.0718262887221, -0.044708048772, -0.00192724376345], [-0.205725516756, 0.121801665982, -0.0626361570664, -0.0914020881681, -0.0796009549673], [-0.286160538219, 0.144737053149, 0.0723440959576, -0.0566704809483, -0.122111584601], [-0.036951610542, -0.127208025073, 0.021532531192, -0.0341386042791, -0.0163656193848], [-0.0958204265231, -0.051694454315, -0.131019329946, -0.169309414587, -0.0261470483911], [-0.0755385717272, -0.111089272505, 0.133932809518, -0.0720097622287, 0.101111520917], [-0.205049105842, 0.0912127005558, 0.0894012740138, -0.01458683046, 0.0107248864699], [-0.0662845068172, -0.00726200258409, -0.055752915751, -0.0647208882203, -0.18005787244], [-0.22941097505, 0.0011642258207, 0.0359388283154, -0.165385306439, 0.0561217770809], [0.071180141831, -0.0809494925656, 0.0558033732884, -0.109647666966, -0.00315325452256], [-0.0674982283803, -0.20417293836, -0.133119021928, -0.161197466034, -0.0909257669981], [-0.00661224521504, 0.0589044350337, 0.0160250089896, -0.10883317991, -0.200614819201]];\n",
       "  var pct_var = [9.71918307009, 4.75581381849, 4.13368713817, 3.77069408823, 2.99781568621];\n",
       "  var md_headers = ['SampleID', 'origexp', 'bloomlevel'];\n",
       "  var metadata = [['10317.000012318', 'ag-6-2016.clean.min100.withtax.biom', '197'], ['10317.000014290', 'ag-6-2016.clean.min100.withtax.biom', '2300'], ['10317.000015623', 'ag-6-2016.clean.min100.withtax.biom', '1411'], ['10317.000030000', 'ag-6-2016.clean.min100.withtax.biom', '2736'], ['10317.000013526', 'ag-6-2016.clean.min100.withtax.biom', '16'], ['10317.000013733', 'ag-6-2016.clean.min100.withtax.biom', '23'], ['10317.000033692', 'ag-6-2016.clean.min100.withtax.biom', '4782'], ['10317.000016727', 'ag-6-2016.clean.min100.withtax.biom', '51'], ['10317.000003161', 'ag-6-2016.clean.min100.withtax.biom', '549'], ['10317.000022430', 'ag-6-2016.clean.min100.withtax.biom', '7378'], ['10317.000029356', 'ag-6-2016.clean.min100.withtax.biom', '249'], ['10317.000026184', 'ag-6-2016.clean.min100.withtax.biom', '88'], ['10317.000027869', 'ag-6-2016.clean.min100.withtax.biom', '2527'], ['10317.000022048', 'ag-6-2016.clean.min100.withtax.biom', '2933'], ['10317.000034181', 'ag-6-2016.clean.min100.withtax.biom', '4279'], ['10317.000005805', 'ag-6-2016.clean.min100.withtax.biom', '6215'], ['10317.000007176', 'ag-6-2016.clean.min100.withtax.biom', '23'], ['10317.000013419', 'ag-6-2016.clean.min100.withtax.biom', '4'], ['10317.000014182', 'ag-6-2016.clean.min100.withtax.biom', '4112'], ['10317.000016263', 'ag-6-2016.clean.min100.withtax.biom', '92'], ['10317.000027295', 'ag-6-2016.clean.min100.withtax.biom', '607'], ['10317.000001328', 'ag-6-2016.clean.min100.withtax.biom', '5977'], ['10317.000013937', 'ag-6-2016.clean.min100.withtax.biom', '28'], ['10317.000030221', 'ag-6-2016.clean.min100.withtax.biom', '5386'], ['10317.000030041', 'ag-6-2016.clean.min100.withtax.biom', '874'], ['10317.000022516', 'ag-6-2016.clean.min100.withtax.biom', '4607'], ['10317.000014188', 'ag-6-2016.clean.min100.withtax.biom', '42'], ['10317.000013425', 'ag-6-2016.clean.min100.withtax.biom', '67'], ['10317.000021974', 'ag-6-2016.clean.min100.withtax.biom', '13'], ['10317.000030511', 'ag-6-2016.clean.min100.withtax.biom', '1394'], ['10317.000016717', 'ag-6-2016.clean.min100.withtax.biom', '10'], ['10317.000015830', 'ag-6-2016.clean.min100.withtax.biom', '81'], ['10317.000037505', 'ag-6-2016.clean.min100.withtax.biom', '5599'], ['10317.000017175', 'ag-6-2016.clean.min100.withtax.biom', '2451'], ['10317.000001948', 'ag-6-2016.clean.min100.withtax.biom', '5712'], ['10317.000017079', 'ag-6-2016.clean.min100.withtax.biom', '44'], ['10317.000041962', 'ag-6-2016.clean.min100.withtax.biom', '41'], ['10317.000040319', 'ag-6-2016.clean.min100.withtax.biom', '3159'], ['10317.000001028', 'ag-6-2016.clean.min100.withtax.biom', '3887'], ['10317.000020533', 'ag-6-2016.clean.min100.withtax.biom', '53'], ['10317.000017354', 'ag-6-2016.clean.min100.withtax.biom', '5'], ['10317.000005902', 'ag-6-2016.clean.min100.withtax.biom', '113'], ['10317.000017647', 'ag-6-2016.clean.min100.withtax.biom', '1117'], ['10317.000030180', 'ag-6-2016.clean.min100.withtax.biom', '2431'], ['10317.000014667', 'ag-6-2016.clean.min100.withtax.biom', '20'], ['10317.000029509', 'ag-6-2016.clean.min100.withtax.biom', '85'], ['10317.000030733', 'ag-6-2016.clean.min100.withtax.biom', '357'], ['10317.000013226', 'ag-6-2016.clean.min100.withtax.biom', '1967'], ['10317.000001321', 'ag-6-2016.clean.min100.withtax.biom', '4661'], ['10317.000026187', 'ag-6-2016.clean.min100.withtax.biom', '6243'], ['10317.000006657', 'ag-6-2016.clean.min100.withtax.biom', '10'], ['10317.000018081', 'ag-6-2016.clean.min100.withtax.biom', '1044'], ['10317.000009716', 'ag-6-2016.clean.min100.withtax.biom', '2556'], ['10317.000003266', 'ag-6-2016.clean.min100.withtax.biom', '828'], ['10317.000013274', 'ag-6-2016.clean.min100.withtax.biom', '98'], ['10317.000026114', 'ag-6-2016.clean.min100.withtax.biom', '241'], ['10317.000013913', 'ag-6-2016.clean.min100.withtax.biom', '16'], ['10317.000030627', 'ag-6-2016.clean.min100.withtax.biom', '3673'], ['10317.000001751', 'ag-6-2016.clean.min100.withtax.biom', '3775'], ['10317.000038352', 'ag-6-2016.clean.min100.withtax.biom', '12'], ['10317.000033003', 'ag-6-2016.clean.min100.withtax.biom', '13'], ['10317.000037949', 'ag-6-2016.clean.min100.withtax.biom', '14'], ['10317.000007732', 'ag-6-2016.clean.min100.withtax.biom', '134'], ['10317.000017203', 'ag-6-2016.clean.min100.withtax.biom', '12'], ['10317.000014102', 'ag-6-2016.clean.min100.withtax.biom', '62'], ['10317.000006690', 'ag-6-2016.clean.min100.withtax.biom', '343'], ['10317.000005554', 'ag-6-2016.clean.min100.withtax.biom', '34'], ['10317.000001917', 'ag-6-2016.clean.min100.withtax.biom', '18'], ['10317.000020634', 'ag-6-2016.clean.min100.withtax.biom', '64'], ['10317.000003196', 'ag-6-2016.clean.min100.withtax.biom', '3967'], ['10317.000027281', 'ag-6-2016.clean.min100.withtax.biom', '1522'], ['10317.000014458', 'ag-6-2016.clean.min100.withtax.biom', '14'], ['10317.000042738', 'ag-6-2016.clean.min100.withtax.biom', '16'], ['10317.000029342', 'ag-6-2016.clean.min100.withtax.biom', '4'], ['10317.000011240', 'ag-6-2016.clean.min100.withtax.biom', '118'], ['10317.000026530', 'ag-6-2016.clean.min100.withtax.biom', '4754'], ['10317.000014558', 'ag-6-2016.clean.min100.withtax.biom', '8'], ['10317.000014967', 'ag-6-2016.clean.min100.withtax.biom', '18'], ['10317.000003225', 'ag-6-2016.clean.min100.withtax.biom', '3389'], ['10317.000023929', 'ag-6-2016.clean.min100.withtax.biom', '3388'], ['10317.000007792', 'ag-6-2016.clean.min100.withtax.biom', '1675'], ['10317.000010232', 'ag-6-2016.clean.min100.withtax.biom', '3069'], ['10317.000041714', 'ag-6-2016.clean.min100.withtax.biom', '6'], ['10317.000013397', 'ag-6-2016.clean.min100.withtax.biom', '82'], ['10317.000020047', 'ag-6-2016.clean.min100.withtax.biom', '1745'], ['10317.000014888', 'ag-6-2016.clean.min100.withtax.biom', '2695'], ['10317.000002201', 'ag-6-2016.clean.min100.withtax.biom', '3036'], ['10317.000022608', 'ag-6-2016.clean.min100.withtax.biom', '232'], ['10317.000030349', 'ag-6-2016.clean.min100.withtax.biom', '26'], ['10317.000017705', 'ag-6-2016.clean.min100.withtax.biom', '156'], ['10317.000038166', 'ag-6-2016.clean.min100.withtax.biom', '53'], ['10317.000017118', 'ag-6-2016.clean.min100.withtax.biom', '16'], ['10317.000028849', 'ag-6-2016.clean.min100.withtax.biom', '4410'], ['10317.000028465', 'ag-6-2016.clean.min100.withtax.biom', '298'], ['10317.000004163', 'ag-6-2016.clean.min100.withtax.biom', '4894'], ['10317.000036884', 'ag-6-2016.clean.min100.withtax.biom', '62'], ['10317.000030774', 'ag-6-2016.clean.min100.withtax.biom', '3'], ['10317.000013465', 'ag-6-2016.clean.min100.withtax.biom', '12'], ['10317.000003150', 'ag-6-2016.clean.min100.withtax.biom', '7242'], ['10317.000027912', 'ag-6-2016.clean.min100.withtax.biom', '5463'], ['10317.000038190', 'ag-6-2016.clean.min100.withtax.biom', '91'], ['10317.000030298', 'ag-6-2016.clean.min100.withtax.biom', '16'], ['10317.000017084', 'ag-6-2016.clean.min100.withtax.biom', '33'], ['10317.000014168', 'ag-6-2016.clean.min100.withtax.biom', '3437'], ['10317.000013653', 'ag-6-2016.clean.min100.withtax.biom', '2656'], ['10317.000036068', 'ag-6-2016.clean.min100.withtax.biom', '15'], ['10317.000017097', 'ag-6-2016.clean.min100.withtax.biom', '312'], ['10317.000011070', 'ag-6-2016.clean.min100.withtax.biom', '215'], ['10317.000017339', 'ag-6-2016.clean.min100.withtax.biom', '4995'], ['10317.000005948', 'ag-6-2016.clean.min100.withtax.biom', '8'], ['10317.000010147', 'ag-6-2016.clean.min100.withtax.biom', '4905'], ['10317.000028169', 'ag-6-2016.clean.min100.withtax.biom', '1588'], ['10317.000013960', 'ag-6-2016.clean.min100.withtax.biom', '10'], ['10317.000001291', 'ag-6-2016.clean.min100.withtax.biom', '6806'], ['10317.000009201', 'ag-6-2016.clean.min100.withtax.biom', '3548'], ['10317.000036721', 'ag-6-2016.clean.min100.withtax.biom', '7'], ['10317.000020487', 'ag-6-2016.clean.min100.withtax.biom', '76'], ['10317.000001225', 'ag-6-2016.clean.min100.withtax.biom', '6542'], ['10317.000001451', 'ag-6-2016.clean.min100.withtax.biom', '1786'], ['10317.000020358', 'ag-6-2016.clean.min100.withtax.biom', '3994'], ['10317.000017121', 'ag-6-2016.clean.min100.withtax.biom', '275'], ['10317.000006926', 'ag-6-2016.clean.min100.withtax.biom', '6550'], ['10317.000028955', 'ag-6-2016.clean.min100.withtax.biom', '6591'], ['10317.000017080', 'ag-6-2016.clean.min100.withtax.biom', '3'], ['10317.000013939', 'ag-6-2016.clean.min100.withtax.biom', '353'], ['10317.000030484', 'ag-6-2016.clean.min100.withtax.biom', '62'], ['10317.000010723', 'ag-6-2016.clean.min100.withtax.biom', '1521'], ['10317.000020603', 'ag-6-2016.clean.min100.withtax.biom', '14'], ['10317.000014018', 'ag-6-2016.clean.min100.withtax.biom', '2140'], ['10317.000021965', 'ag-6-2016.clean.min100.withtax.biom', '4871'], ['10317.000020616', 'ag-6-2016.clean.min100.withtax.biom', '10'], ['10317.000001284', 'ag-6-2016.clean.min100.withtax.biom', '754'], ['10317.000041945', 'ag-6-2016.clean.min100.withtax.biom', '3475'], ['10317.000028930', 'ag-6-2016.clean.min100.withtax.biom', '28'], ['10317.000026648', 'ag-6-2016.clean.min100.withtax.biom', '305'], ['10317.000012975', 'ag-6-2016.clean.min100.withtax.biom', '3380'], ['10317.000028287', 'ag-6-2016.clean.min100.withtax.biom', '73'], ['10317.000031272', 'ag-6-2016.clean.min100.withtax.biom', '1542'], ['10317.000028961', 'ag-6-2016.clean.min100.withtax.biom', '1'], ['10317.000009528', 'ag-6-2016.clean.min100.withtax.biom', '22'], ['10317.000041937', 'ag-6-2016.clean.min100.withtax.biom', '43'], ['10317.000009144', 'ag-6-2016.clean.min100.withtax.biom', '2421'], ['10317.000005693', 'ag-6-2016.clean.min100.withtax.biom', '3008'], ['10317.000013686', 'ag-6-2016.clean.min100.withtax.biom', '3153'], ['10317.000034123', 'ag-6-2016.clean.min100.withtax.biom', '8252'], ['10317.000037502', 'ag-6-2016.clean.min100.withtax.biom', '4'], ['10317.000012105', 'ag-6-2016.clean.min100.withtax.biom', '3709'], ['10317.000016231', 'ag-6-2016.clean.min100.withtax.biom', '2'], ['10317.000039950', 'ag-6-2016.clean.min100.withtax.biom', '1'], ['10317.000009465', 'ag-6-2016.clean.min100.withtax.biom', '4469'], ['10317.000016768', 'ag-6-2016.clean.min100.withtax.biom', '18'], ['10317.000016354', 'ag-6-2016.clean.min100.withtax.biom', '10'], ['Balcom.Stool', 'pgp.baylor.clean.withtax.biom', '688'], ['Starratt.Stool', 'pgp.baylor.clean.withtax.biom', '12'], ['Dias.Stool', 'pgp.baylor.clean.withtax.biom', '37'], ['Zambom.Stool', 'pgp.baylor.clean.withtax.biom', '97'], ['Larcridge.Stool', 'pgp.baylor.clean.withtax.biom', '4'], ['Nobscot.Stool', 'pgp.baylor.clean.withtax.biom', '74'], ['Slades.Stool', 'pgp.baylor.clean.withtax.biom', '3'], ['Netta.Stool', 'pgp.baylor.clean.withtax.biom', '28'], ['Caryll.Stool', 'pgp.baylor.clean.withtax.biom', '1'], ['Cornstalk.Stool', 'pgp.baylor.clean.withtax.biom', '25'], ['Sandale.Stool', 'pgp.baylor.clean.withtax.biom', '158'], ['January.Stool', 'pgp.baylor.clean.withtax.biom', '1'], ['Purchade.Stool', 'pgp.baylor.clean.withtax.biom', '3566'], ['Burne.Stool', 'pgp.baylor.clean.withtax.biom', '1'], ['Charmark.Stool', 'pgp.baylor.clean.withtax.biom', '1'], ['Witch.Stool', 'pgp.baylor.clean.withtax.biom', '116'], ['Cedarhurst.Stool', 'pgp.baylor.clean.withtax.biom', '1'], ['Buckinghan.Stool', 'pgp.baylor.clean.withtax.biom', '13'], ['Lippokd.Stool', 'pgp.baylor.clean.withtax.biom', '1'], ['Innkeeper.Stool', 'pgp.baylor.clean.withtax.biom', '3'], ['Lassell.Stool', 'pgp.baylor.clean.withtax.biom', '1'], ['Westbora.Stool', 'pgp.baylor.clean.withtax.biom', '366'], ['Claudett.Stool', 'pgp.baylor.clean.withtax.biom', '18'], ['Hager.Stool', 'pgp.baylor.clean.withtax.biom', '1'], ['Lonergan.Stool', 'pgp.baylor.clean.withtax.biom', '2076'], ['Sylvanus.Stool', 'pgp.baylor.clean.withtax.biom', '13'], ['Malfa.Stool', 'pgp.baylor.clean.withtax.biom', '35'], ['Gigi.Stool', 'pgp.baylor.clean.withtax.biom', '836'], ['Noel.Stool', 'pgp.baylor.clean.withtax.biom', '1'], ['Patmos.Stool', 'pgp.baylor.clean.withtax.biom', '13'], ['Woodfin.Stool', 'pgp.baylor.clean.withtax.biom', '508'], ['Padanaram.Stool', 'pgp.baylor.clean.withtax.biom', '1'], ['Mariposa.Stool.2', 'pgp.baylor.clean.withtax.biom', '23'], ['Eisenhower.Stool', 'pgp.baylor.clean.withtax.biom', '17'], ['Digregorio.Stool', 'pgp.baylor.clean.withtax.biom', '32'], ['Hallets.Stool', 'pgp.baylor.clean.withtax.biom', '3'], ['Innitou.Stool', 'pgp.baylor.clean.withtax.biom', '66'], ['Mariposa.Stool.3', 'pgp.baylor.clean.withtax.biom', '1'], ['Turkey.Stool', 'pgp.baylor.clean.withtax.biom', '4'], ['Gibbon.Stool', 'pgp.baylor.clean.withtax.biom', '6'], ['Janis.Stool', 'pgp.baylor.clean.withtax.biom', '12'], ['Delmore.Stool', 'pgp.baylor.clean.withtax.biom', '419'], ['Caravel.Stool', 'pgp.baylor.clean.withtax.biom', '5'], ['Watoguadoc.Stool', 'pgp.baylor.clean.withtax.biom', '11'], ['Edenfield.Stool', 'pgp.baylor.clean.withtax.biom', '6'], ['Willowbe.Stool', 'pgp.baylor.clean.withtax.biom', '701'], ['Ronald.Stool', 'pgp.baylor.clean.withtax.biom', '159'], ['Pasho.Stool', 'pgp.baylor.clean.withtax.biom', '22'], ['Brae.Stool', 'pgp.baylor.clean.withtax.biom', '197'], ['Azalea.Stool', 'pgp.baylor.clean.withtax.biom', '4'], ['Bjorkland.Stool', 'pgp.baylor.clean.withtax.biom', '16'], ['Nyack.Stool', 'pgp.baylor.clean.withtax.biom', '131'], ['Foothill.Stool', 'pgp.baylor.clean.withtax.biom', '3'], ['Fermanagh.Stool', 'pgp.baylor.clean.withtax.biom', '38'], ['Misty.Stool', 'pgp.baylor.clean.withtax.biom', '12'], ['Wilbraview.Stool', 'pgp.baylor.clean.withtax.biom', '212'], ['Shadyside.Stool', 'pgp.baylor.clean.withtax.biom', '3562'], ['Salti.Stool', 'pgp.baylor.clean.withtax.biom', '1'], ['Maryjane.Stool', 'pgp.baylor.clean.withtax.biom', '1'], ['Winifreds.Stool', 'pgp.baylor.clean.withtax.biom', '1'], ['Coachmen.Stool', 'pgp.baylor.clean.withtax.biom', '2093'], ['Trafford.Stool', 'pgp.baylor.clean.withtax.biom', '22'], ['Milne.Stool', 'pgp.baylor.clean.withtax.biom', '7'], ['Cowan.Stool', 'pgp.baylor.clean.withtax.biom', '4'], ['Bows.Stool', 'pgp.baylor.clean.withtax.biom', '666'], ['Devenwood.Stool', 'pgp.baylor.clean.withtax.biom', '13'], ['Vinedale.Stool', 'pgp.baylor.clean.withtax.biom', '1044'], ['Stannes.Stool', 'pgp.baylor.clean.withtax.biom', '1'], ['Northwind.Stool', 'pgp.baylor.clean.withtax.biom', '19'], ['Overton.Stool', 'pgp.baylor.clean.withtax.biom', '1'], ['Bulls.Stool', 'pgp.baylor.clean.withtax.biom', '69'], ['Mariposa.Stool.1', 'pgp.baylor.clean.withtax.biom', '1'], ['Tewmac.Stool', 'pgp.baylor.clean.withtax.biom', '1'], ['Meadowlands.Stool', 'pgp.baylor.clean.withtax.biom', '1337'], ['Postscript.Stool', 'pgp.baylor.clean.withtax.biom', '11'], ['Trimmer.Stool', 'pgp.baylor.clean.withtax.biom', '3'], ['Elmavenue.Stool', 'pgp.baylor.clean.withtax.biom', '7'], ['Pinrock.Stool', 'pgp.baylor.clean.withtax.biom', '810'], ['Goddu.Stool', 'pgp.baylor.clean.withtax.biom', '2095'], ['1481.NA.17.T8', 'ercolini.feces.clean.withtax.biom', '5'], ['1481.PO4.3.T0', 'ercolini.feces.clean.withtax.biom', '4'], ['1481.PO5.5.T0', 'ercolini.feces.clean.withtax.biom', '7'], ['1481.NA.06.T0', 'ercolini.feces.clean.withtax.biom', '37'], ['1481.PO5.3.T0', 'ercolini.feces.clean.withtax.biom', '1'], ['1481.PO6.3.T0', 'ercolini.feces.clean.withtax.biom', '120'], ['1481.PO1.17.T8', 'ercolini.feces.clean.withtax.biom', '1'], ['1481.PO4.4.T8', 'ercolini.feces.clean.withtax.biom', '157'], ['1481.NA.04.T0', 'ercolini.feces.clean.withtax.biom', '125'], ['1481.PO5.3.T8', 'ercolini.feces.clean.withtax.biom', '8'], ['1481.NA.23.T0', 'ercolini.feces.clean.withtax.biom', '130'], ['1481.NA.18.T4', 'ercolini.feces.clean.withtax.biom', '1'], ['1481.NA.20.T0', 'ercolini.feces.clean.withtax.biom', '10'], ['1481.NA.07.T8', 'ercolini.feces.clean.withtax.biom', '12'], ['1481.PO2.1.T8', 'ercolini.feces.clean.withtax.biom', '22'], ['1481.NA.13.T4', 'ercolini.feces.clean.withtax.biom', '41'], ['1481.NA.18.T0', 'ercolini.feces.clean.withtax.biom', '1'], ['1481.NA.16.T8', 'ercolini.feces.clean.withtax.biom', '1'], ['1481.PO3.2.T8', 'ercolini.feces.clean.withtax.biom', '62'], ['1481.NA.12.T8', 'ercolini.feces.clean.withtax.biom', '14'], ['1481.PO2.1.T0', 'ercolini.feces.clean.withtax.biom', '5'], ['1481.PO6.4.T0', 'ercolini.feces.clean.withtax.biom', '98'], ['1481.NA.15.T0', 'ercolini.feces.clean.withtax.biom', '9'], ['1481.PO1.1.T8', 'ercolini.feces.clean.withtax.biom', '15'], ['1481.PO6.5.T0', 'ercolini.feces.clean.withtax.biom', '169'], ['1481.PO6.4.T4', 'ercolini.feces.clean.withtax.biom', '20'], ['1481.PO6.2.T8', 'ercolini.feces.clean.withtax.biom', '151'], ['1481.PO6.1.T8', 'ercolini.feces.clean.withtax.biom', '6'], ['1481.PO1.5.T8', 'ercolini.feces.clean.withtax.biom', '215'], ['1481.NA.17.T0', 'ercolini.feces.clean.withtax.biom', '3'], ['1481.PO4.9.T8', 'ercolini.feces.clean.withtax.biom', '24'], ['1481.NA.21.T0', 'ercolini.feces.clean.withtax.biom', '52'], ['1481.PO4.6.T8', 'ercolini.feces.clean.withtax.biom', '5'], ['1481.NA.24.T0', 'ercolini.feces.clean.withtax.biom', '6'], ['1481.PO5.2.T8', 'ercolini.feces.clean.withtax.biom', '558'], ['1481.PO1.2.T0', 'ercolini.feces.clean.withtax.biom', '1'], ['1481.PO1.15.T0', 'ercolini.feces.clean.withtax.biom', '10'], ['1481.NA.01.T8', 'ercolini.feces.clean.withtax.biom', '1'], ['1481.PO1.2.T8', 'ercolini.feces.clean.withtax.biom', '13'], ['1481.NA.20.T8', 'ercolini.feces.clean.withtax.biom', '33'], ['1481.NA.10.T0', 'ercolini.feces.clean.withtax.biom', '15'], ['1481.PO3.3.T8', 'ercolini.feces.clean.withtax.biom', '118'], ['1481.NA.10.T8', 'ercolini.feces.clean.withtax.biom', '39'], ['1481.NA.01.T0', 'ercolini.feces.clean.withtax.biom', '8'], ['1481.PO2.3.T4', 'ercolini.feces.clean.withtax.biom', '27'], ['1481.PO7.2.T8', 'ercolini.feces.clean.withtax.biom', '563'], ['1481.NA.16.T0', 'ercolini.feces.clean.withtax.biom', '1'], ['1481.NA.07.T4', 'ercolini.feces.clean.withtax.biom', '1'], ['1481.PO1.17.T0', 'ercolini.feces.clean.withtax.biom', '5'], ['1481.NA.04.T8', 'ercolini.feces.clean.withtax.biom', '17'], ['1481.PO6.2.T0', 'ercolini.feces.clean.withtax.biom', '8'], ['1481.PO6.3.T8', 'ercolini.feces.clean.withtax.biom', '142'], ['1481.PO4.8.T8', 'ercolini.feces.clean.withtax.biom', '650'], ['1481.PO1.15.T8', 'ercolini.feces.clean.withtax.biom', '4'], ['1481.PO2.3.T0', 'ercolini.feces.clean.withtax.biom', '20'], ['1481.NA.12.T0', 'ercolini.feces.clean.withtax.biom', '50'], ['1481.NA.21.T8', 'ercolini.feces.clean.withtax.biom', '467'], ['1481.PO4.3.T4', 'ercolini.feces.clean.withtax.biom', '5'], ['1481.PO2.5.T4', 'ercolini.feces.clean.withtax.biom', '1'], ['1481.NA.02.T8', 'ercolini.feces.clean.withtax.biom', '7'], ['1481.PO5.2.T0', 'ercolini.feces.clean.withtax.biom', '782'], ['1481.NA.02.T0', 'ercolini.feces.clean.withtax.biom', '117'], ['1481.PO6.1.T0', 'ercolini.feces.clean.withtax.biom', '1223'], ['1481.PO3.3.T0', 'ercolini.feces.clean.withtax.biom', '18'], ['1481.NA.13.T8', 'ercolini.feces.clean.withtax.biom', '60'], ['1481.PO3.2.T0', 'ercolini.feces.clean.withtax.biom', '679'], ['1481.PO5.5.T8', 'ercolini.feces.clean.withtax.biom', '1'], ['1481.PO1.3.T0', 'ercolini.feces.clean.withtax.biom', '4'], ['1481.PO4.7.T8', 'ercolini.feces.clean.withtax.biom', '55'], ['1481.PO4.9.T0', 'ercolini.feces.clean.withtax.biom', '35'], ['1481.NA.06.T8', 'ercolini.feces.clean.withtax.biom', '5'], ['1481.NA.15.T8', 'ercolini.feces.clean.withtax.biom', '41'], ['1481.NA.24.T8', 'ercolini.feces.clean.withtax.biom', '127'], ['1481.PO6.5.T8', 'ercolini.feces.clean.withtax.biom', '36'], ['1481.PO1.11.T0', 'ercolini.feces.clean.withtax.biom', '40'], ['1481.NA.14.T0', 'ercolini.feces.clean.withtax.biom', '29'], ['1481.PO5.10.T4', 'ercolini.feces.clean.withtax.biom', '40'], ['1481.NA.23.T8', 'ercolini.feces.clean.withtax.biom', '1'], ['1481.PO1.1.T0', 'ercolini.feces.clean.withtax.biom', '5'], ['1481.NA.14.T8', 'ercolini.feces.clean.withtax.biom', '1'], ['1481.PO1.11.T8', 'ercolini.feces.clean.withtax.biom', '48'], ['2014.Plate15.83', 'twins2.clean.min10.withtax.biom', '1'], ['2014.Plate10.23', 'twins2.clean.min10.withtax.biom', '361'], ['2014.Plate13.70', 'twins2.clean.min10.withtax.biom', '14'], ['2014.Low1.50', 'twins2.clean.min10.withtax.biom', '11'], ['2014.Plate14.37', 'twins2.clean.min10.withtax.biom', '7'], ['2014.Low1.87', 'twins2.clean.min10.withtax.biom', '10'], ['2014.Plate13.9', 'twins2.clean.min10.withtax.biom', '3'], ['2014.Plate11.25', 'twins2.clean.min10.withtax.biom', '701'], ['2014.Plate13.65', 'twins2.clean.min10.withtax.biom', '1'], ['2014.Plate6.31', 'twins2.clean.min10.withtax.biom', '194'], ['2014.Low2.27', 'twins2.clean.min10.withtax.biom', '6'], ['2014.Plate14.43', 'twins2.clean.min10.withtax.biom', '4'], ['2014.Plate11.42', 'twins2.clean.min10.withtax.biom', '52'], ['2014.Plate8.75', 'twins2.clean.min10.withtax.biom', '2'], ['2014.High2.66', 'twins2.clean.min10.withtax.biom', '106'], ['2014.Plate13.1', 'twins2.clean.min10.withtax.biom', '2896'], ['2014.Low1.12', 'twins2.clean.min10.withtax.biom', '8'], ['2014.Plate6.11', 'twins2.clean.min10.withtax.biom', '7'], ['2014.High1.18', 'twins2.clean.min10.withtax.biom', '9'], ['2014.Plate7.7', 'twins2.clean.min10.withtax.biom', '778'], ['2014.Plate7.93', 'twins2.clean.min10.withtax.biom', '4'], ['2014.Low2.87', 'twins2.clean.min10.withtax.biom', '2'], ['2014.Low2.68', 'twins2.clean.min10.withtax.biom', '29'], ['2014.Plate14.77', 'twins2.clean.min10.withtax.biom', '1'], ['2014.Low1.19', 'twins2.clean.min10.withtax.biom', '2'], ['2014.Plate15.14', 'twins2.clean.min10.withtax.biom', '4'], ['2014.Plate11.81', 'twins2.clean.min10.withtax.biom', '17'], ['2014.Plate13.68', 'twins2.clean.min10.withtax.biom', '141'], ['2014.Plate9.71', 'twins2.clean.min10.withtax.biom', '2'], ['2014.Low2.15', 'twins2.clean.min10.withtax.biom', '23'], ['2014.Plate9.53', 'twins2.clean.min10.withtax.biom', '2'], ['2014.Plate11.40', 'twins2.clean.min10.withtax.biom', '105'], ['2014.Plate14.59', 'twins2.clean.min10.withtax.biom', '2'], ['2014.Low2.18', 'twins2.clean.min10.withtax.biom', '9'], ['2014.Plate11.89', 'twins2.clean.min10.withtax.biom', '55'], ['2014.Plate6.38', 'twins2.clean.min10.withtax.biom', '3'], ['2014.Plate14.6', 'twins2.clean.min10.withtax.biom', '3'], ['2014.Plate15.44', 'twins2.clean.min10.withtax.biom', '1121'], ['2014.High2.83', 'twins2.clean.min10.withtax.biom', '644'], ['2014.Plate9.68', 'twins2.clean.min10.withtax.biom', '3'], ['2014.Plate5.76', 'twins2.clean.min10.withtax.biom', '1352'], ['2014.Plate6.78', 'twins2.clean.min10.withtax.biom', '123'], ['2014.Low2.24', 'twins2.clean.min10.withtax.biom', '6'], ['2014.Plate9.21', 'twins2.clean.min10.withtax.biom', '285'], ['2014.High1.50', 'twins2.clean.min10.withtax.biom', '4'], ['2014.Plate13.46', 'twins2.clean.min10.withtax.biom', '198'], ['2014.Plate6.64', 'twins2.clean.min10.withtax.biom', '2'], ['2014.High2.32', 'twins2.clean.min10.withtax.biom', '5'], ['2014.Plate11.33', 'twins2.clean.min10.withtax.biom', '253'], ['2014.Plate12.26', 'twins2.clean.min10.withtax.biom', '49'], ['2014.High1.54', 'twins2.clean.min10.withtax.biom', '2'], ['2014.Plate9.84', 'twins2.clean.min10.withtax.biom', '1'], ['2014.Low2.32', 'twins2.clean.min10.withtax.biom', '1035'], ['2014.Plate13.7', 'twins2.clean.min10.withtax.biom', '1'], ['2014.High1.82', 'twins2.clean.min10.withtax.biom', '1652'], ['2014.Plate11.78', 'twins2.clean.min10.withtax.biom', '3'], ['2014.Plate5.55', 'twins2.clean.min10.withtax.biom', '20'], ['2014.Plate13.81', 'twins2.clean.min10.withtax.biom', '18'], ['2014.Plate12.83', 'twins2.clean.min10.withtax.biom', '7'], ['2014.Plate9.42', 'twins2.clean.min10.withtax.biom', '427'], ['2014.Plate12.37', 'twins2.clean.min10.withtax.biom', '23'], ['2014.Plate11.31', 'twins2.clean.min10.withtax.biom', '6'], ['2014.High1.3', 'twins2.clean.min10.withtax.biom', '4'], ['2014.Plate8.44', 'twins2.clean.min10.withtax.biom', '112'], ['2014.Plate11.56', 'twins2.clean.min10.withtax.biom', '12'], ['2014.Low1.88', 'twins2.clean.min10.withtax.biom', '3'], ['2014.Low1.20', 'twins2.clean.min10.withtax.biom', '2149'], ['2014.Low1.32', 'twins2.clean.min10.withtax.biom', '3487'], ['2014.Plate11.88', 'twins2.clean.min10.withtax.biom', '90'], ['2014.Low1.78', 'twins2.clean.min10.withtax.biom', '1275'], ['2014.Plate6.73', 'twins2.clean.min10.withtax.biom', '2'], ['2014.Plate15.72', 'twins2.clean.min10.withtax.biom', '2'], ['2014.Plate10.58', 'twins2.clean.min10.withtax.biom', '6'], ['2014.Plate8.9', 'twins2.clean.min10.withtax.biom', '19'], ['2014.High1.48', 'twins2.clean.min10.withtax.biom', '1'], ['2014.Plate15.62', 'twins2.clean.min10.withtax.biom', '1'], ['2014.Plate11.64', 'twins2.clean.min10.withtax.biom', '3183'], ['2014.Plate12.21', 'twins2.clean.min10.withtax.biom', '15'], ['2014.Plate5.65', 'twins2.clean.min10.withtax.biom', '644'], ['2014.High1.89', 'twins2.clean.min10.withtax.biom', '228'], ['2014.High1.19', 'twins2.clean.min10.withtax.biom', '567'], ['2014.Plate8.18', 'twins2.clean.min10.withtax.biom', '22'], ['2014.Plate5.31', 'twins2.clean.min10.withtax.biom', '894'], ['2014.Plate10.15', 'twins2.clean.min10.withtax.biom', '16'], ['2014.Plate14.95', 'twins2.clean.min10.withtax.biom', '3223'], ['2014.Low2.72', 'twins2.clean.min10.withtax.biom', '589'], ['2014.Plate13.73', 'twins2.clean.min10.withtax.biom', '8'], ['2014.Low1.52', 'twins2.clean.min10.withtax.biom', '667'], ['2014.Low2.57', 'twins2.clean.min10.withtax.biom', '134'], ['2014.Plate15.29', 'twins2.clean.min10.withtax.biom', '178'], ['2014.Plate6.22', 'twins2.clean.min10.withtax.biom', '455'], ['2014.Low2.86', 'twins2.clean.min10.withtax.biom', '111'], ['2014.Plate6.86', 'twins2.clean.min10.withtax.biom', '71'], ['2014.Plate15.60', 'twins2.clean.min10.withtax.biom', '1'], ['2014.Plate12.88', 'twins2.clean.min10.withtax.biom', '927'], ['2014.Low1.35', 'twins2.clean.min10.withtax.biom', '4'], ['2014.Plate10.18', 'twins2.clean.min10.withtax.biom', '907'], ['2014.Plate5.78', 'twins2.clean.min10.withtax.biom', '9'], ['2014.Plate13.8', 'twins2.clean.min10.withtax.biom', '4'], ['2014.High1.23', 'twins2.clean.min10.withtax.biom', '267'], ['2014.High1.32', 'twins2.clean.min10.withtax.biom', '992'], ['2014.Low2.17', 'twins2.clean.min10.withtax.biom', '5605'], ['2014.Plate13.41', 'twins2.clean.min10.withtax.biom', '2'], ['2014.Plate10.50', 'twins2.clean.min10.withtax.biom', '1079'], ['2014.Plate15.16', 'twins2.clean.min10.withtax.biom', '48'], ['2014.Plate6.9', 'twins2.clean.min10.withtax.biom', '2'], ['2014.Plate10.24', 'twins2.clean.min10.withtax.biom', '44'], ['2014.Plate5.49', 'twins2.clean.min10.withtax.biom', '46'], ['2014.Plate11.38', 'twins2.clean.min10.withtax.biom', '150'], ['2014.Plate6.90', 'twins2.clean.min10.withtax.biom', '17'], ['2014.Plate12.19', 'twins2.clean.min10.withtax.biom', '40'], ['2014.Plate11.44', 'twins2.clean.min10.withtax.biom', '195'], ['2014.Plate15.40', 'twins2.clean.min10.withtax.biom', '3'], ['2014.Plate14.24', 'twins2.clean.min10.withtax.biom', '2'], ['2014.Plate14.64', 'twins2.clean.min10.withtax.biom', '1568'], ['2014.Low2.29', 'twins2.clean.min10.withtax.biom', '3196'], ['2014.Plate7.87', 'twins2.clean.min10.withtax.biom', '2'], ['2014.Plate13.94', 'twins2.clean.min10.withtax.biom', '2'], ['2014.Plate8.1', 'twins2.clean.min10.withtax.biom', '5'], ['2014.Plate8.60', 'twins2.clean.min10.withtax.biom', '16'], ['2014.Plate16.58', 'twins2.clean.min10.withtax.biom', '530'], ['2014.High1.13', 'twins2.clean.min10.withtax.biom', '2'], ['2014.Plate6.42', 'twins2.clean.min10.withtax.biom', '52'], ['2014.High1.59', 'twins2.clean.min10.withtax.biom', '65'], ['2014.High1.27', 'twins2.clean.min10.withtax.biom', '72'], ['2014.Plate14.20', 'twins2.clean.min10.withtax.biom', '102'], ['2014.Low1.72', 'twins2.clean.min10.withtax.biom', '303'], ['2014.Low2.14', 'twins2.clean.min10.withtax.biom', '455'], ['2014.Plate11.74', 'twins2.clean.min10.withtax.biom', '644'], ['2014.Plate8.42', 'twins2.clean.min10.withtax.biom', '3'], ['2014.Plate7.69', 'twins2.clean.min10.withtax.biom', '4897'], ['2014.Plate14.93', 'twins2.clean.min10.withtax.biom', '10'], ['2014.High2.65', 'twins2.clean.min10.withtax.biom', '3458'], ['2014.Plate9.58', 'twins2.clean.min10.withtax.biom', '30'], ['2014.Plate9.1', 'twins2.clean.min10.withtax.biom', '9'], ['2014.Plate11.39', 'twins2.clean.min10.withtax.biom', '4'], ['2014.Low1.93', 'twins2.clean.min10.withtax.biom', '18'], ['2014.Low1.71', 'twins2.clean.min10.withtax.biom', '263'], ['2014.Plate9.87', 'twins2.clean.min10.withtax.biom', '3'], ['2014.Plate16.67', 'twins2.clean.min10.withtax.biom', '70'], ['2014.Low2.51', 'twins2.clean.min10.withtax.biom', '2767'], ['2014.High1.61', 'twins2.clean.min10.withtax.biom', '1'], ['2014.Plate14.33', 'twins2.clean.min10.withtax.biom', '5'], ['2014.High1.92', 'twins2.clean.min10.withtax.biom', '284'], ['2014.Plate5.87', 'twins2.clean.min10.withtax.biom', '17'], ['2014.High2.17', 'twins2.clean.min10.withtax.biom', '7'], ['2014.Plate9.57', 'twins2.clean.min10.withtax.biom', '5'], ['2014.Low2.5', 'twins2.clean.min10.withtax.biom', '2'], ['2014.Plate15.38', 'twins2.clean.min10.withtax.biom', '9'], ['2014.Plate12.45', 'twins2.clean.min10.withtax.biom', '1'], ['2014.Plate13.56', 'twins2.clean.min10.withtax.biom', '1'], ['2014.Plate12.44', 'twins2.clean.min10.withtax.biom', '14'], ['2014.Plate13.79', 'twins2.clean.min10.withtax.biom', '3'], ['2014.Plate5.51', 'twins2.clean.min10.withtax.biom', '161'], ['2014.Plate9.50', 'twins2.clean.min10.withtax.biom', '1'], ['2014.High1.78', 'twins2.clean.min10.withtax.biom', '2'], ['2014.High1.67', 'twins2.clean.min10.withtax.biom', '774'], ['2014.Plate8.24', 'twins2.clean.min10.withtax.biom', '80'], ['2014.Plate7.90', 'twins2.clean.min10.withtax.biom', '10'], ['2014.High2.6', 'twins2.clean.min10.withtax.biom', '11'], ['2014.Plate15.93', 'twins2.clean.min10.withtax.biom', '1'], ['2014.Plate11.68', 'twins2.clean.min10.withtax.biom', '8'], ['2014.Low2.28', 'twins2.clean.min10.withtax.biom', '3'], ['2014.Plate15.53', 'twins2.clean.min10.withtax.biom', '1'], ['2014.Low1.68', 'twins2.clean.min10.withtax.biom', '3'], ['2014.Plate12.85', 'twins2.clean.min10.withtax.biom', '48'], ['2014.Plate7.82', 'twins2.clean.min10.withtax.biom', '1'], ['2014.Plate7.53', 'twins2.clean.min10.withtax.biom', '153'], ['2014.Plate9.62', 'twins2.clean.min10.withtax.biom', '3'], ['2014.Plate6.55', 'twins2.clean.min10.withtax.biom', '332'], ['2014.Plate6.84', 'twins2.clean.min10.withtax.biom', '90'], ['2014.Plate10.17', 'twins2.clean.min10.withtax.biom', '11'], ['2014.Plate5.29', 'twins2.clean.min10.withtax.biom', '8'], ['2014.High2.68', 'twins2.clean.min10.withtax.biom', '185'], ['2014.Low1.91', 'twins2.clean.min10.withtax.biom', '9'], ['2014.Plate5.92', 'twins2.clean.min10.withtax.biom', '483'], ['2014.Plate14.78', 'twins2.clean.min10.withtax.biom', '13'], ['2014.Plate10.3', 'twins2.clean.min10.withtax.biom', '496'], ['2014.Plate9.73', 'twins2.clean.min10.withtax.biom', '1'], ['2014.Plate11.52', 'twins2.clean.min10.withtax.biom', '60'], ['2014.High1.64', 'twins2.clean.min10.withtax.biom', '1951'], ['2014.Low1.36', 'twins2.clean.min10.withtax.biom', '281'], ['2014.Plate6.27', 'twins2.clean.min10.withtax.biom', '128'], ['2014.High1.39', 'twins2.clean.min10.withtax.biom', '2'], ['2014.High1.53', 'twins2.clean.min10.withtax.biom', '18'], ['2014.Plate15.56', 'twins2.clean.min10.withtax.biom', '2'], ['2014.Plate5.62', 'twins2.clean.min10.withtax.biom', '4'], ['2014.High1.57', 'twins2.clean.min10.withtax.biom', '1984'], ['2014.Plate15.27', 'twins2.clean.min10.withtax.biom', '13'], ['2014.Plate7.18', 'twins2.clean.min10.withtax.biom', '13'], ['2014.Plate15.10', 'twins2.clean.min10.withtax.biom', '1'], ['2014.Plate7.57', 'twins2.clean.min10.withtax.biom', '2'], ['2014.Plate13.92', 'twins2.clean.min10.withtax.biom', '1'], ['2014.Plate6.10', 'twins2.clean.min10.withtax.biom', '13'], ['2014.Plate6.74', 'twins2.clean.min10.withtax.biom', '1'], ['2014.Plate7.23', 'twins2.clean.min10.withtax.biom', '1017'], ['2014.Plate14.35', 'twins2.clean.min10.withtax.biom', '1'], ['2014.Plate9.24', 'twins2.clean.min10.withtax.biom', '3'], ['2014.Plate6.44', 'twins2.clean.min10.withtax.biom', '153'], ['2014.Plate5.24', 'twins2.clean.min10.withtax.biom', '181']];\n",
       "  var axesNames = [0, 1, 2, 3, 4];\n",
       "\n",
       "  var dm, ec;\n",
       "\n",
       "  function init() {\n",
       "    // Initialize the DecompositionModel\n",
       "    dm = new DecompositionModel(name, ids, coords, pct_var,\n",
       "                                md_headers, metadata, axesNames);\n",
       "    // Initialize the EmperorController\n",
       "    ec = new EmperorController(dm, 'emperor-notebook-0x7914c5bf');\n",
       "  }\n",
       "\n",
       "  function animate() {\n",
       "    requestAnimationFrame(animate);\n",
       "    ec.render();\n",
       "  }\n",
       "  $(window).resize(function() {\n",
       "    ec.resize(div.innerWidth(), div.innerHeight());\n",
       "  });\n",
       "\n",
       "  $(function(){\n",
       "    init();\n",
       "    animate();\n",
       "\n",
       "  });\n",
       "\n",
       "}); // END REQUIRE.JS block\n",
       "</script>"
      ],
      "text/plain": [
       "<IPython.core.display.HTML object>"
      ]
     },
     "metadata": {},
     "output_type": "display_data"
    },
    {
     "data": {
      "text/plain": [
       "<emperor.core.Emperor at 0x121a45940>"
      ]
     },
     "execution_count": 44,
     "metadata": {},
     "output_type": "execute_result"
    }
   ],
   "source": [
    "# and plot (without the blooming bacteria (with filtering))\n",
    "# need to choose origexp as color field, bloomlevel as size\n",
    "xnobloom"
   ]
  },
  {
   "cell_type": "code",
   "execution_count": null,
   "metadata": {
    "collapsed": true
   },
   "outputs": [],
   "source": []
  }
 ],
 "metadata": {
  "anaconda-cloud": {},
  "kernelspec": {
   "display_name": "Python [default]",
   "language": "python",
   "name": "python3"
  },
  "language_info": {
   "codemirror_mode": {
    "name": "ipython",
    "version": 3
   },
   "file_extension": ".py",
   "mimetype": "text/x-python",
   "name": "python",
   "nbconvert_exporter": "python",
   "pygments_lexer": "ipython3",
   "version": "3.5.2"
  }
 },
 "nbformat": 4,
 "nbformat_minor": 0
}
