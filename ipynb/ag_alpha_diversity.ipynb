{
 "cells": [
  {
   "cell_type": "markdown",
   "metadata": {},
   "source": [
    "# Validation with the American Gut data"
   ]
  },
  {
   "cell_type": "markdown",
   "metadata": {},
   "source": [
    "The purpose of this notebook is to evaluate the effects of different deblurring depths on the biological patterns in data from the [American Gut Project](www.americangut.org). We expect the alpha diversity of a bacterial community to significantly increase with age, as previously seen [[1](#1),[2](#2)].\n",
    "\n",
    "The metadata was downloaded from the American Gut FTP for [July-29-2016](ftp.microbio.me/AmericanGut/ag-July-29-2016/01-raw/metadata.txt), and has been placed in the data directory."
   ]
  },
  {
   "cell_type": "code",
   "execution_count": 17,
   "metadata": {
    "collapsed": false
   },
   "outputs": [],
   "source": [
    "import pandas as pd\n",
    "map_ = pd.read_csv('../data/ag.qiita-10317.txt', sep='\\t', dtype=str)\n",
    "map_.set_index('#SampleID', inplace=True)"
   ]
  },
  {
   "cell_type": "markdown",
   "metadata": {},
   "source": [
    "We'll work with fecal samples from a subset of adults 20-69 with BMIs between 18.5 and 30, no history of diabetes or inflammatory bowel disease who have  not use antibiotics in the past year."
   ]
  },
  {
   "cell_type": "code",
   "execution_count": 5,
   "metadata": {
    "collapsed": false
   },
   "outputs": [],
   "source": [
    "map_ = map_.loc[map_['SUBSET_HEALTHY'].apply(lambda x: x in {'True', 'true'})]\n",
    "map_ = map_.loc[map_['BODY_HABITAT'] == 'UBERON:feces']"
   ]
  },
  {
   "cell_type": "markdown",
   "metadata": {},
   "source": [
    "The full biom table was generated using deblurring (see Amir et al, 2016, companion paper). Shannon diversity was calculated in QIIME 1.9.1 [[3](#3)], where it is assumed the files are in a folder below the notebook, and sequence depth (i.e. `bloom10`) changes to appropriately reflect the number of filtered sequences.\n",
    "\n",
    "We first generated the filtered tables, using the `filter_seqs_from_biom.py` function in this repository. We ran this inside the `bloom` directory.\n",
    "\n",
    "```bash\n",
    "mkdir biom\n",
    "for i in `seq 0 21`;\n",
    "do\n",
    "    python filter_seqs_from_biom.py -i ../data/ag.qiita-10317.biom -f ../data/newbloom.all.fna \n",
    "    -o ../data/biom/ag.qiita-10317.bloom$i.biom -n $i\n",
    "done\n",
    "```\n",
    "\n",
    "We then use QIIME to perform muliple rarefaction and calculate alpha diversity.\n",
    "\n",
    "```bash\n",
    "for i in `seq 0 21`;\n",
    "do\n",
    "    multiple_rarefactions_even_depth.py -i ../data/biom/ag.qiita-10317.bloom$i.biom -d 2000 \n",
    "    -o ../data/rarefaction/$i/ -n 10\n",
    "\n",
    "    alpha_diversity.py -i ../data/rarefaction/$i/ -o ../data/alpha/$i/ -m shannon\n",
    "    \n",
    "    collate_alpha.py -i ../data/alpha/$i/ -o ../data/alphacollated/$i/\n",
    "done    \n",
    "```\n",
    "\n",
    "For convenience, the collated alpha diversity files have been placed in the `data` directory.\n",
    "\n",
    "\n",
    "We'll import those files, and calculate the mean diversity for each of the rarefaction instances."
   ]
  },
  {
   "cell_type": "code",
   "execution_count": 7,
   "metadata": {
    "collapsed": false
   },
   "outputs": [],
   "source": [
    "import numpy as np\n",
    "\n",
    "numfilter=22\n",
    "\n",
    "for i in range(numfilter):\n",
    "    diversity = pd.read_csv('../data/alphacollated/%i/shannon.txt' % i, sep='\\t', index_col=0)\n",
    "    map_['shannon_%i' % i] = diversity.mean()"
   ]
  },
  {
   "cell_type": "markdown",
   "metadata": {},
   "source": [
    "Let's filter out any samples which do not appear after all filtering."
   ]
  },
  {
   "cell_type": "code",
   "execution_count": 8,
   "metadata": {
    "collapsed": false
   },
   "outputs": [],
   "source": [
    "map_ = map_.loc[map_['shannon_%i' % (numfilter-1)].dropna().index]"
   ]
  },
  {
   "cell_type": "markdown",
   "metadata": {},
   "source": [
    "Now, we can perform the comparisons with age. We'll use a [kruskal wallis](https://en.wikipedia.org/wiki/Kruskal%E2%80%93Wallis_one-way_analysis_of_variance) test, and calculate a test statistic and p-value."
   ]
  },
  {
   "cell_type": "code",
   "execution_count": 9,
   "metadata": {
    "collapsed": false
   },
   "outputs": [],
   "source": [
    "from scipy.stats import kruskal\n",
    "ages = ['20s', '30s', '40s', '50s', '60s']\n",
    "\n",
    "kruskal_results = [kruskal(*[map_.loc[map_['AGE_CAT'] == age, 'shannon_%i' % filter_].dropna()\n",
    "                            for age in ages]) for filter_ in range(numfilter)]\n",
    "statitics, p_values = zip(*kruskal_results)"
   ]
  },
  {
   "cell_type": "markdown",
   "metadata": {},
   "source": [
    "Let's plot our test statitics as a function of filtering depth."
   ]
  },
  {
   "cell_type": "code",
   "execution_count": 10,
   "metadata": {
    "collapsed": false
   },
   "outputs": [
    {
     "data": {
      "image/png": "[encoded data removed]",
      "text/plain": [
       "<matplotlib.figure.Figure at 0x10ed54160>"
      ]
     },
     "metadata": {},
     "output_type": "display_data"
    }
   ],
   "source": [
    "# Sets up pretty plots\n",
    "from matplotlib import use\n",
    "import matplotlib.pyplot as plt\n",
    "import seaborn as sn\n",
    "sn.set_style('ticks')\n",
    "% matplotlib inline\n",
    "\n",
    "# Plots the data\n",
    "ax = plt.axes()\n",
    "ax.bar(left=np.arange(0, numfilter) + 0.1,\n",
    "       height=statitics,\n",
    "       width=0.8,\n",
    "       )\n",
    "# Formats and labels the axes\n",
    "ax.set_xlim([0, numfilter])\n",
    "ax.set_xticks(np.arange(0.5, numfilter))\n",
    "ax.set_xticklabels(map(int, range(numfilter)))\n",
    "ax.set_xlabel('Bloom Sequences Removed')\n",
    "ax.set_ylabel('Kruskal Wallis H statistic')\n",
    "sn.despine()\n",
    "\n",
    "# Saves the figure\n",
    "ax.figure.savefig('../results/bloom_statistic.pdf')"
   ]
  },
  {
   "cell_type": "markdown",
   "metadata": {},
   "source": [
    "Now, let's plot the negative log of the p-values."
   ]
  },
  {
   "cell_type": "code",
   "execution_count": 11,
   "metadata": {
    "collapsed": false
   },
   "outputs": [
    {
     "data": {
      "image/png": "[encoded data removed]",
      "text/plain": [
       "<matplotlib.figure.Figure at 0x10ee8b438>"
      ]
     },
     "metadata": {},
     "output_type": "display_data"
    }
   ],
   "source": [
    "# Plots the data\n",
    "ax = plt.axes()\n",
    "ax.bar(left=np.arange(0, numfilter) + 0.1,\n",
    "       height=np.log(np.array(p_values)),\n",
    "       width=0.8,\n",
    "       )\n",
    "# Formats and labels the axes\n",
    "ax.set_xlim([0, numfilter])\n",
    "ax.set_xticks(np.arange(0.5, numfilter))\n",
    "ax.set_xticklabels(map(int, range(numfilter)))\n",
    "ax.set_xlabel('Bloom Sequences Removed')\n",
    "ax.set_ylabel('log$_{10}$(p-value)')\n",
    "sn.despine()\n",
    "\n",
    "# Saves the figure\n",
    "ax.figure.savefig('../results/bloom_p-value.pdf')"
   ]
  },
  {
   "cell_type": "markdown",
   "metadata": {},
   "source": [
    "Therefore, we have demonstrated the ability to see a significant difference with reguard to age in the American Gut population is dependent on the bloom filter depth."
   ]
  },
  {
   "cell_type": "markdown",
   "metadata": {},
   "source": [
    "# References\n",
    "\n",
    "<ol><li>\n",
    "<a id=\"1\"></a>Yatsunenko, T.; Rey, F.E.; Manary, M.J.; Trehan I.; Dominguez-Bello, M.G.; Contreras, M.; Magris, M.' Hidalgo, G.; Baldassano, R.N.; Anokhin, A.P.; Heath, A.C.; Warner, B.; Reeder, J.; Kuczynski, J.; Caporaso, J.G.; Lozupone, C.A.; Lauber, C.; Clemente, J.C.; Knights, D.; Knight, R.; Gordon, J.I. (2012). \"<a href=\"https://www.ncbi.nlm.nih.gov/pubmed/22699611\">Human gut microbiome viewed across age and geography</a>\". <em>Nature</em>. <strong>486</strong>: 222-227.<br>\n",
    "</li><li>\n",
    "<a id=\"2\"></a>Koenig, J.E.; Spor, A.; Scalfone, N.; Fricker, A.D.; Stombaugh, J.; Knight, R.; Angenent, L.T.; Ley, R.E. (2011). \"<a href=\"https://www.ncbi.nlm.nih.gov/pubmed/20668239\">Succession of microbial consortia in the developing infant gut microbiome</a>\". <em>PNAS</em>. <strong>108 Suppl 1</strong>: 4578-4585.<br>\n",
    "</li><li>\n",
    "<a id=\"3\"></a>Caporaso, J.G.; Kuczynski, J.; Stombaugh, J.; Bittinger, K.; Bushman, F.D; Costello, E.K; Fierer, N.; Pena, A.G.; Goodrich, J.K.; Gordon, J.I.; Huttley, G.A.; Kelley, S.T.; Knights, D.; Koenig, J.E.; Ley, R.; Lozupone, C.A.; McDonald, D., Muegge, B.D.; Pirrung, M.; Reeder, J.; Sevinsky, J.R.; Turnbaugh, P.J.; Walters, W.A.; Widmann, J.; Yatsunenko, T.; Zaneveld, J.; Knight, R. (2010). \"<a href=\"https://www.ncbi.nlm.nih.gov/pubmed/20383131\">QIIME allows analysis of high-throughput community sequencing data</a>\". <em>Nat Methods</em>. <strong>7</strong>:335 - 336.\n",
    "</li></ol>"
   ]
  }
 ],
 "metadata": {
  "anaconda-cloud": {},
  "kernelspec": {
   "display_name": "Python [conda env:bloom]",
   "language": "python",
   "name": "conda-env-bloom-py"
  },
  "language_info": {
   "codemirror_mode": {
    "name": "ipython",
    "version": 3
   },
   "file_extension": ".py",
   "mimetype": "text/x-python",
   "name": "python",
   "nbconvert_exporter": "python",
   "pygments_lexer": "ipython3",
   "version": "3.5.2"
  }
 },
 "nbformat": 4,
 "nbformat_minor": 0
}
